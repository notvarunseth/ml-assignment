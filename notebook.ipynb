{
 "cells": [
  {
   "cell_type": "markdown",
   "metadata": {},
   "source": [
    "# Lead Scoring"
   ]
  },
  {
   "cell_type": "code",
   "execution_count": 56,
   "metadata": {},
   "outputs": [],
   "source": [
    "import pandas as pd\n",
    "import numpy as np\n",
    "import seaborn as sns\n",
    "import matplotlib.pyplot as plt"
   ]
  },
  {
   "cell_type": "markdown",
   "metadata": {},
   "source": [
    "## EDA"
   ]
  },
  {
   "cell_type": "markdown",
   "metadata": {
    "jp-MarkdownHeadingCollapsed": true
   },
   "source": [
    "### Inspecting"
   ]
  },
  {
   "cell_type": "code",
   "execution_count": 57,
   "metadata": {},
   "outputs": [],
   "source": [
    "df = pd.read_csv('Leads.csv')\n",
    "df.to_pickle('init.pkl')"
   ]
  },
  {
   "cell_type": "code",
   "execution_count": 58,
   "metadata": {
    "scrolled": true
   },
   "outputs": [
    {
     "data": {
      "text/html": [
       "<div>\n",
       "<style scoped>\n",
       "    .dataframe tbody tr th:only-of-type {\n",
       "        vertical-align: middle;\n",
       "    }\n",
       "\n",
       "    .dataframe tbody tr th {\n",
       "        vertical-align: top;\n",
       "    }\n",
       "\n",
       "    .dataframe thead th {\n",
       "        text-align: right;\n",
       "    }\n",
       "</style>\n",
       "<table border=\"1\" class=\"dataframe\">\n",
       "  <thead>\n",
       "    <tr style=\"text-align: right;\">\n",
       "      <th></th>\n",
       "      <th>Prospect ID</th>\n",
       "      <th>Lead Number</th>\n",
       "      <th>Lead Origin</th>\n",
       "      <th>Lead Source</th>\n",
       "      <th>Do Not Email</th>\n",
       "      <th>Do Not Call</th>\n",
       "      <th>Converted</th>\n",
       "      <th>TotalVisits</th>\n",
       "      <th>Total Time Spent on Website</th>\n",
       "      <th>Page Views Per Visit</th>\n",
       "      <th>...</th>\n",
       "      <th>Get updates on DM Content</th>\n",
       "      <th>Lead Profile</th>\n",
       "      <th>City</th>\n",
       "      <th>Asymmetrique Activity Index</th>\n",
       "      <th>Asymmetrique Profile Index</th>\n",
       "      <th>Asymmetrique Activity Score</th>\n",
       "      <th>Asymmetrique Profile Score</th>\n",
       "      <th>I agree to pay the amount through cheque</th>\n",
       "      <th>A free copy of Mastering The Interview</th>\n",
       "      <th>Last Notable Activity</th>\n",
       "    </tr>\n",
       "  </thead>\n",
       "  <tbody>\n",
       "    <tr>\n",
       "      <th>0</th>\n",
       "      <td>7927b2df-8bba-4d29-b9a2-b6e0beafe620</td>\n",
       "      <td>660737</td>\n",
       "      <td>API</td>\n",
       "      <td>Olark Chat</td>\n",
       "      <td>No</td>\n",
       "      <td>No</td>\n",
       "      <td>0</td>\n",
       "      <td>0.0</td>\n",
       "      <td>0</td>\n",
       "      <td>0.0</td>\n",
       "      <td>...</td>\n",
       "      <td>No</td>\n",
       "      <td>Select</td>\n",
       "      <td>Select</td>\n",
       "      <td>02.Medium</td>\n",
       "      <td>02.Medium</td>\n",
       "      <td>15.0</td>\n",
       "      <td>15.0</td>\n",
       "      <td>No</td>\n",
       "      <td>No</td>\n",
       "      <td>Modified</td>\n",
       "    </tr>\n",
       "    <tr>\n",
       "      <th>1</th>\n",
       "      <td>2a272436-5132-4136-86fa-dcc88c88f482</td>\n",
       "      <td>660728</td>\n",
       "      <td>API</td>\n",
       "      <td>Organic Search</td>\n",
       "      <td>No</td>\n",
       "      <td>No</td>\n",
       "      <td>0</td>\n",
       "      <td>5.0</td>\n",
       "      <td>674</td>\n",
       "      <td>2.5</td>\n",
       "      <td>...</td>\n",
       "      <td>No</td>\n",
       "      <td>Select</td>\n",
       "      <td>Select</td>\n",
       "      <td>02.Medium</td>\n",
       "      <td>02.Medium</td>\n",
       "      <td>15.0</td>\n",
       "      <td>15.0</td>\n",
       "      <td>No</td>\n",
       "      <td>No</td>\n",
       "      <td>Email Opened</td>\n",
       "    </tr>\n",
       "    <tr>\n",
       "      <th>2</th>\n",
       "      <td>8cc8c611-a219-4f35-ad23-fdfd2656bd8a</td>\n",
       "      <td>660727</td>\n",
       "      <td>Landing Page Submission</td>\n",
       "      <td>Direct Traffic</td>\n",
       "      <td>No</td>\n",
       "      <td>No</td>\n",
       "      <td>1</td>\n",
       "      <td>2.0</td>\n",
       "      <td>1532</td>\n",
       "      <td>2.0</td>\n",
       "      <td>...</td>\n",
       "      <td>No</td>\n",
       "      <td>Potential Lead</td>\n",
       "      <td>Mumbai</td>\n",
       "      <td>02.Medium</td>\n",
       "      <td>01.High</td>\n",
       "      <td>14.0</td>\n",
       "      <td>20.0</td>\n",
       "      <td>No</td>\n",
       "      <td>Yes</td>\n",
       "      <td>Email Opened</td>\n",
       "    </tr>\n",
       "    <tr>\n",
       "      <th>3</th>\n",
       "      <td>0cc2df48-7cf4-4e39-9de9-19797f9b38cc</td>\n",
       "      <td>660719</td>\n",
       "      <td>Landing Page Submission</td>\n",
       "      <td>Direct Traffic</td>\n",
       "      <td>No</td>\n",
       "      <td>No</td>\n",
       "      <td>0</td>\n",
       "      <td>1.0</td>\n",
       "      <td>305</td>\n",
       "      <td>1.0</td>\n",
       "      <td>...</td>\n",
       "      <td>No</td>\n",
       "      <td>Select</td>\n",
       "      <td>Mumbai</td>\n",
       "      <td>02.Medium</td>\n",
       "      <td>01.High</td>\n",
       "      <td>13.0</td>\n",
       "      <td>17.0</td>\n",
       "      <td>No</td>\n",
       "      <td>No</td>\n",
       "      <td>Modified</td>\n",
       "    </tr>\n",
       "    <tr>\n",
       "      <th>4</th>\n",
       "      <td>3256f628-e534-4826-9d63-4a8b88782852</td>\n",
       "      <td>660681</td>\n",
       "      <td>Landing Page Submission</td>\n",
       "      <td>Google</td>\n",
       "      <td>No</td>\n",
       "      <td>No</td>\n",
       "      <td>1</td>\n",
       "      <td>2.0</td>\n",
       "      <td>1428</td>\n",
       "      <td>1.0</td>\n",
       "      <td>...</td>\n",
       "      <td>No</td>\n",
       "      <td>Select</td>\n",
       "      <td>Mumbai</td>\n",
       "      <td>02.Medium</td>\n",
       "      <td>01.High</td>\n",
       "      <td>15.0</td>\n",
       "      <td>18.0</td>\n",
       "      <td>No</td>\n",
       "      <td>No</td>\n",
       "      <td>Modified</td>\n",
       "    </tr>\n",
       "  </tbody>\n",
       "</table>\n",
       "<p>5 rows × 37 columns</p>\n",
       "</div>"
      ],
      "text/plain": [
       "                            Prospect ID  Lead Number              Lead Origin  \\\n",
       "0  7927b2df-8bba-4d29-b9a2-b6e0beafe620       660737                      API   \n",
       "1  2a272436-5132-4136-86fa-dcc88c88f482       660728                      API   \n",
       "2  8cc8c611-a219-4f35-ad23-fdfd2656bd8a       660727  Landing Page Submission   \n",
       "3  0cc2df48-7cf4-4e39-9de9-19797f9b38cc       660719  Landing Page Submission   \n",
       "4  3256f628-e534-4826-9d63-4a8b88782852       660681  Landing Page Submission   \n",
       "\n",
       "      Lead Source Do Not Email Do Not Call  Converted  TotalVisits  \\\n",
       "0      Olark Chat           No          No          0          0.0   \n",
       "1  Organic Search           No          No          0          5.0   \n",
       "2  Direct Traffic           No          No          1          2.0   \n",
       "3  Direct Traffic           No          No          0          1.0   \n",
       "4          Google           No          No          1          2.0   \n",
       "\n",
       "   Total Time Spent on Website  Page Views Per Visit  ...  \\\n",
       "0                            0                   0.0  ...   \n",
       "1                          674                   2.5  ...   \n",
       "2                         1532                   2.0  ...   \n",
       "3                          305                   1.0  ...   \n",
       "4                         1428                   1.0  ...   \n",
       "\n",
       "  Get updates on DM Content    Lead Profile    City  \\\n",
       "0                        No          Select  Select   \n",
       "1                        No          Select  Select   \n",
       "2                        No  Potential Lead  Mumbai   \n",
       "3                        No          Select  Mumbai   \n",
       "4                        No          Select  Mumbai   \n",
       "\n",
       "  Asymmetrique Activity Index Asymmetrique Profile Index  \\\n",
       "0                   02.Medium                  02.Medium   \n",
       "1                   02.Medium                  02.Medium   \n",
       "2                   02.Medium                    01.High   \n",
       "3                   02.Medium                    01.High   \n",
       "4                   02.Medium                    01.High   \n",
       "\n",
       "  Asymmetrique Activity Score Asymmetrique Profile Score  \\\n",
       "0                        15.0                       15.0   \n",
       "1                        15.0                       15.0   \n",
       "2                        14.0                       20.0   \n",
       "3                        13.0                       17.0   \n",
       "4                        15.0                       18.0   \n",
       "\n",
       "  I agree to pay the amount through cheque  \\\n",
       "0                                       No   \n",
       "1                                       No   \n",
       "2                                       No   \n",
       "3                                       No   \n",
       "4                                       No   \n",
       "\n",
       "  A free copy of Mastering The Interview Last Notable Activity  \n",
       "0                                     No              Modified  \n",
       "1                                     No          Email Opened  \n",
       "2                                    Yes          Email Opened  \n",
       "3                                     No              Modified  \n",
       "4                                     No              Modified  \n",
       "\n",
       "[5 rows x 37 columns]"
      ]
     },
     "execution_count": 58,
     "metadata": {},
     "output_type": "execute_result"
    }
   ],
   "source": [
    "df.head()"
   ]
  },
  {
   "cell_type": "code",
   "execution_count": 59,
   "metadata": {},
   "outputs": [
    {
     "data": {
      "text/plain": [
       "(9240, 37)"
      ]
     },
     "execution_count": 59,
     "metadata": {},
     "output_type": "execute_result"
    }
   ],
   "source": [
    "df.shape"
   ]
  },
  {
   "cell_type": "code",
   "execution_count": 60,
   "metadata": {},
   "outputs": [
    {
     "data": {
      "text/html": [
       "<div>\n",
       "<style scoped>\n",
       "    .dataframe tbody tr th:only-of-type {\n",
       "        vertical-align: middle;\n",
       "    }\n",
       "\n",
       "    .dataframe tbody tr th {\n",
       "        vertical-align: top;\n",
       "    }\n",
       "\n",
       "    .dataframe thead th {\n",
       "        text-align: right;\n",
       "    }\n",
       "</style>\n",
       "<table border=\"1\" class=\"dataframe\">\n",
       "  <thead>\n",
       "    <tr style=\"text-align: right;\">\n",
       "      <th></th>\n",
       "      <th>Lead Number</th>\n",
       "      <th>Converted</th>\n",
       "      <th>TotalVisits</th>\n",
       "      <th>Total Time Spent on Website</th>\n",
       "      <th>Page Views Per Visit</th>\n",
       "      <th>Asymmetrique Activity Score</th>\n",
       "      <th>Asymmetrique Profile Score</th>\n",
       "    </tr>\n",
       "  </thead>\n",
       "  <tbody>\n",
       "    <tr>\n",
       "      <th>count</th>\n",
       "      <td>9240.000000</td>\n",
       "      <td>9240.000000</td>\n",
       "      <td>9103.000000</td>\n",
       "      <td>9240.000000</td>\n",
       "      <td>9103.000000</td>\n",
       "      <td>5022.000000</td>\n",
       "      <td>5022.000000</td>\n",
       "    </tr>\n",
       "    <tr>\n",
       "      <th>mean</th>\n",
       "      <td>617188.435606</td>\n",
       "      <td>0.385390</td>\n",
       "      <td>3.445238</td>\n",
       "      <td>487.698268</td>\n",
       "      <td>2.362820</td>\n",
       "      <td>14.306252</td>\n",
       "      <td>16.344883</td>\n",
       "    </tr>\n",
       "    <tr>\n",
       "      <th>std</th>\n",
       "      <td>23405.995698</td>\n",
       "      <td>0.486714</td>\n",
       "      <td>4.854853</td>\n",
       "      <td>548.021466</td>\n",
       "      <td>2.161418</td>\n",
       "      <td>1.386694</td>\n",
       "      <td>1.811395</td>\n",
       "    </tr>\n",
       "    <tr>\n",
       "      <th>min</th>\n",
       "      <td>579533.000000</td>\n",
       "      <td>0.000000</td>\n",
       "      <td>0.000000</td>\n",
       "      <td>0.000000</td>\n",
       "      <td>0.000000</td>\n",
       "      <td>7.000000</td>\n",
       "      <td>11.000000</td>\n",
       "    </tr>\n",
       "    <tr>\n",
       "      <th>25%</th>\n",
       "      <td>596484.500000</td>\n",
       "      <td>0.000000</td>\n",
       "      <td>1.000000</td>\n",
       "      <td>12.000000</td>\n",
       "      <td>1.000000</td>\n",
       "      <td>14.000000</td>\n",
       "      <td>15.000000</td>\n",
       "    </tr>\n",
       "    <tr>\n",
       "      <th>50%</th>\n",
       "      <td>615479.000000</td>\n",
       "      <td>0.000000</td>\n",
       "      <td>3.000000</td>\n",
       "      <td>248.000000</td>\n",
       "      <td>2.000000</td>\n",
       "      <td>14.000000</td>\n",
       "      <td>16.000000</td>\n",
       "    </tr>\n",
       "    <tr>\n",
       "      <th>75%</th>\n",
       "      <td>637387.250000</td>\n",
       "      <td>1.000000</td>\n",
       "      <td>5.000000</td>\n",
       "      <td>936.000000</td>\n",
       "      <td>3.000000</td>\n",
       "      <td>15.000000</td>\n",
       "      <td>18.000000</td>\n",
       "    </tr>\n",
       "    <tr>\n",
       "      <th>max</th>\n",
       "      <td>660737.000000</td>\n",
       "      <td>1.000000</td>\n",
       "      <td>251.000000</td>\n",
       "      <td>2272.000000</td>\n",
       "      <td>55.000000</td>\n",
       "      <td>18.000000</td>\n",
       "      <td>20.000000</td>\n",
       "    </tr>\n",
       "  </tbody>\n",
       "</table>\n",
       "</div>"
      ],
      "text/plain": [
       "         Lead Number    Converted  TotalVisits  Total Time Spent on Website  \\\n",
       "count    9240.000000  9240.000000  9103.000000                  9240.000000   \n",
       "mean   617188.435606     0.385390     3.445238                   487.698268   \n",
       "std     23405.995698     0.486714     4.854853                   548.021466   \n",
       "min    579533.000000     0.000000     0.000000                     0.000000   \n",
       "25%    596484.500000     0.000000     1.000000                    12.000000   \n",
       "50%    615479.000000     0.000000     3.000000                   248.000000   \n",
       "75%    637387.250000     1.000000     5.000000                   936.000000   \n",
       "max    660737.000000     1.000000   251.000000                  2272.000000   \n",
       "\n",
       "       Page Views Per Visit  Asymmetrique Activity Score  \\\n",
       "count           9103.000000                  5022.000000   \n",
       "mean               2.362820                    14.306252   \n",
       "std                2.161418                     1.386694   \n",
       "min                0.000000                     7.000000   \n",
       "25%                1.000000                    14.000000   \n",
       "50%                2.000000                    14.000000   \n",
       "75%                3.000000                    15.000000   \n",
       "max               55.000000                    18.000000   \n",
       "\n",
       "       Asymmetrique Profile Score  \n",
       "count                 5022.000000  \n",
       "mean                    16.344883  \n",
       "std                      1.811395  \n",
       "min                     11.000000  \n",
       "25%                     15.000000  \n",
       "50%                     16.000000  \n",
       "75%                     18.000000  \n",
       "max                     20.000000  "
      ]
     },
     "execution_count": 60,
     "metadata": {},
     "output_type": "execute_result"
    }
   ],
   "source": [
    "df.describe()"
   ]
  },
  {
   "cell_type": "code",
   "execution_count": 61,
   "metadata": {},
   "outputs": [
    {
     "name": "stdout",
     "output_type": "stream",
     "text": [
      "<class 'pandas.core.frame.DataFrame'>\n",
      "RangeIndex: 9240 entries, 0 to 9239\n",
      "Data columns (total 37 columns):\n",
      " #   Column                                         Non-Null Count  Dtype  \n",
      "---  ------                                         --------------  -----  \n",
      " 0   Prospect ID                                    9240 non-null   object \n",
      " 1   Lead Number                                    9240 non-null   int64  \n",
      " 2   Lead Origin                                    9240 non-null   object \n",
      " 3   Lead Source                                    9204 non-null   object \n",
      " 4   Do Not Email                                   9240 non-null   object \n",
      " 5   Do Not Call                                    9240 non-null   object \n",
      " 6   Converted                                      9240 non-null   int64  \n",
      " 7   TotalVisits                                    9103 non-null   float64\n",
      " 8   Total Time Spent on Website                    9240 non-null   int64  \n",
      " 9   Page Views Per Visit                           9103 non-null   float64\n",
      " 10  Last Activity                                  9137 non-null   object \n",
      " 11  Country                                        6779 non-null   object \n",
      " 12  Specialization                                 7802 non-null   object \n",
      " 13  How did you hear about X Education             7033 non-null   object \n",
      " 14  What is your current occupation                6550 non-null   object \n",
      " 15  What matters most to you in choosing a course  6531 non-null   object \n",
      " 16  Search                                         9240 non-null   object \n",
      " 17  Magazine                                       9240 non-null   object \n",
      " 18  Newspaper Article                              9240 non-null   object \n",
      " 19  X Education Forums                             9240 non-null   object \n",
      " 20  Newspaper                                      9240 non-null   object \n",
      " 21  Digital Advertisement                          9240 non-null   object \n",
      " 22  Through Recommendations                        9240 non-null   object \n",
      " 23  Receive More Updates About Our Courses         9240 non-null   object \n",
      " 24  Tags                                           5887 non-null   object \n",
      " 25  Lead Quality                                   4473 non-null   object \n",
      " 26  Update me on Supply Chain Content              9240 non-null   object \n",
      " 27  Get updates on DM Content                      9240 non-null   object \n",
      " 28  Lead Profile                                   6531 non-null   object \n",
      " 29  City                                           7820 non-null   object \n",
      " 30  Asymmetrique Activity Index                    5022 non-null   object \n",
      " 31  Asymmetrique Profile Index                     5022 non-null   object \n",
      " 32  Asymmetrique Activity Score                    5022 non-null   float64\n",
      " 33  Asymmetrique Profile Score                     5022 non-null   float64\n",
      " 34  I agree to pay the amount through cheque       9240 non-null   object \n",
      " 35  A free copy of Mastering The Interview         9240 non-null   object \n",
      " 36  Last Notable Activity                          9240 non-null   object \n",
      "dtypes: float64(4), int64(3), object(30)\n",
      "memory usage: 2.6+ MB\n"
     ]
    }
   ],
   "source": [
    "df.info()"
   ]
  },
  {
   "cell_type": "code",
   "execution_count": null,
   "metadata": {},
   "outputs": [],
   "source": []
  },
  {
   "cell_type": "code",
   "execution_count": 62,
   "metadata": {
    "scrolled": true
   },
   "outputs": [
    {
     "name": "stdout",
     "output_type": "stream",
     "text": [
      "============= Prospect ID =============\n",
      "Prospect ID\n",
      "7927b2df-8bba-4d29-b9a2-b6e0beafe620    0.000108\n",
      "22e9d4ef-d294-4ebf-81c7-7c7a1105aeea    0.000108\n",
      "46befc49-253a-419b-abea-2fd978d2e2b1    0.000108\n",
      "9d35a2c2-09d8-439f-9875-0e8bbf267f5a    0.000108\n",
      "f0de9371-4dc2-48c2-9785-a08d6fc4fcb5    0.000108\n",
      "Name: proportion, dtype: float64\n",
      "============= Lead Origin =============\n",
      "Lead Origin\n",
      "Landing Page Submission    0.528788\n",
      "API                        0.387446\n",
      "Lead Add Form              0.077706\n",
      "Lead Import                0.005952\n",
      "Quick Add Form             0.000108\n",
      "Name: proportion, dtype: float64\n",
      "============= Lead Source =============\n",
      "Lead Source\n",
      "Google            0.311604\n",
      "Direct Traffic    0.276293\n",
      "Olark Chat        0.190678\n",
      "Organic Search    0.125380\n",
      "Reference         0.058018\n",
      "Name: proportion, dtype: float64\n",
      "============= Do Not Email =============\n",
      "Do Not Email\n",
      "No     0.920563\n",
      "Yes    0.079437\n",
      "Name: proportion, dtype: float64\n",
      "============= Do Not Call =============\n",
      "Do Not Call\n",
      "No     0.999784\n",
      "Yes    0.000216\n",
      "Name: proportion, dtype: float64\n",
      "============= Last Activity =============\n",
      "Last Activity\n",
      "Email Opened               0.376163\n",
      "SMS Sent                   0.300427\n",
      "Olark Chat Conversation    0.106490\n",
      "Page Visited on Website    0.070045\n",
      "Converted to Lead          0.046843\n",
      "Name: proportion, dtype: float64\n",
      "============= Country =============\n",
      "Country\n",
      "India                   0.957663\n",
      "United States           0.010178\n",
      "United Arab Emirates    0.007818\n",
      "Singapore               0.003540\n",
      "Saudi Arabia            0.003098\n",
      "Name: proportion, dtype: float64\n",
      "============= Specialization =============\n",
      "Specialization\n",
      "Select                       0.248911\n",
      "Finance Management           0.125096\n",
      "Human Resource Management    0.108690\n",
      "Marketing Management         0.107408\n",
      "Operations Management        0.064471\n",
      "Name: proportion, dtype: float64\n",
      "============= How did you hear about X Education =============\n",
      "How did you hear about X Education\n",
      "Select                   0.717048\n",
      "Online Search            0.114887\n",
      "Word Of Mouth            0.049481\n",
      "Student of SomeSchool    0.044078\n",
      "Other                    0.026447\n",
      "Name: proportion, dtype: float64\n",
      "============= What is your current occupation =============\n",
      "What is your current occupation\n",
      "Unemployed              0.854962\n",
      "Working Professional    0.107786\n",
      "Student                 0.032061\n",
      "Other                   0.002443\n",
      "Housewife               0.001527\n",
      "Name: proportion, dtype: float64\n",
      "============= What matters most to you in choosing a course =============\n",
      "What matters most to you in choosing a course\n",
      "Better Career Prospects      0.999541\n",
      "Flexibility & Convenience    0.000306\n",
      "Other                        0.000153\n",
      "Name: proportion, dtype: float64\n",
      "============= Search =============\n",
      "Search\n",
      "No     0.998485\n",
      "Yes    0.001515\n",
      "Name: proportion, dtype: float64\n",
      "============= Magazine =============\n",
      "Magazine\n",
      "No    1.0\n",
      "Name: proportion, dtype: float64\n",
      "============= Newspaper Article =============\n",
      "Newspaper Article\n",
      "No     0.999784\n",
      "Yes    0.000216\n",
      "Name: proportion, dtype: float64\n",
      "============= X Education Forums =============\n",
      "X Education Forums\n",
      "No     0.999892\n",
      "Yes    0.000108\n",
      "Name: proportion, dtype: float64\n",
      "============= Newspaper =============\n",
      "Newspaper\n",
      "No     0.999892\n",
      "Yes    0.000108\n",
      "Name: proportion, dtype: float64\n",
      "============= Digital Advertisement =============\n",
      "Digital Advertisement\n",
      "No     0.999567\n",
      "Yes    0.000433\n",
      "Name: proportion, dtype: float64\n",
      "============= Through Recommendations =============\n",
      "Through Recommendations\n",
      "No     0.999242\n",
      "Yes    0.000758\n",
      "Name: proportion, dtype: float64\n",
      "============= Receive More Updates About Our Courses =============\n",
      "Receive More Updates About Our Courses\n",
      "No    1.0\n",
      "Name: proportion, dtype: float64\n",
      "============= Tags =============\n",
      "Tags\n",
      "Will revert after reading the email    0.351962\n",
      "Ringing                                0.204349\n",
      "Interested in other courses            0.087141\n",
      "Already a student                      0.078988\n",
      "Closed by Horizzon                     0.060812\n",
      "Name: proportion, dtype: float64\n",
      "============= Lead Quality =============\n",
      "Lead Quality\n",
      "Might be             0.348759\n",
      "Not Sure             0.244131\n",
      "High in Relevance    0.142410\n",
      "Worst                0.134362\n",
      "Low in Relevance     0.130338\n",
      "Name: proportion, dtype: float64\n",
      "============= Update me on Supply Chain Content =============\n",
      "Update me on Supply Chain Content\n",
      "No    1.0\n",
      "Name: proportion, dtype: float64\n",
      "============= Get updates on DM Content =============\n",
      "Get updates on DM Content\n",
      "No    1.0\n",
      "Name: proportion, dtype: float64\n",
      "============= Lead Profile =============\n",
      "Lead Profile\n",
      "Select                   0.634819\n",
      "Potential Lead           0.246976\n",
      "Other Leads              0.074567\n",
      "Student of SomeSchool    0.036901\n",
      "Lateral Student          0.003675\n",
      "Name: proportion, dtype: float64\n",
      "============= City =============\n",
      "City\n",
      "Mumbai                         0.412020\n",
      "Select                         0.287596\n",
      "Thane & Outskirts              0.096164\n",
      "Other Cities                   0.087724\n",
      "Other Cities of Maharashtra    0.058440\n",
      "Name: proportion, dtype: float64\n",
      "============= Asymmetrique Activity Index =============\n",
      "Asymmetrique Activity Index\n",
      "02.Medium    0.764436\n",
      "01.High      0.163481\n",
      "03.Low       0.072083\n",
      "Name: proportion, dtype: float64\n",
      "============= Asymmetrique Profile Index =============\n",
      "Asymmetrique Profile Index\n",
      "02.Medium    0.555157\n",
      "01.High      0.438670\n",
      "03.Low       0.006173\n",
      "Name: proportion, dtype: float64\n",
      "============= I agree to pay the amount through cheque =============\n",
      "I agree to pay the amount through cheque\n",
      "No    1.0\n",
      "Name: proportion, dtype: float64\n",
      "============= A free copy of Mastering The Interview =============\n",
      "A free copy of Mastering The Interview\n",
      "No     0.687446\n",
      "Yes    0.312554\n",
      "Name: proportion, dtype: float64\n",
      "============= Last Notable Activity =============\n",
      "Last Notable Activity\n",
      "Modified                   0.368723\n",
      "Email Opened               0.305952\n",
      "SMS Sent                   0.235065\n",
      "Page Visited on Website    0.034416\n",
      "Olark Chat Conversation    0.019805\n",
      "Name: proportion, dtype: float64\n"
     ]
    }
   ],
   "source": [
    "for column in df.select_dtypes('object').columns:\n",
    "    print(f\"============= {column} =============\")\n",
    "    print(df[column].value_counts(normalize=True)[:5])"
   ]
  },
  {
   "cell_type": "markdown",
   "metadata": {
    "jp-MarkdownHeadingCollapsed": true
   },
   "source": [
    "### Removing ID"
   ]
  },
  {
   "cell_type": "code",
   "execution_count": 63,
   "metadata": {},
   "outputs": [],
   "source": [
    "# Remove Identity columns as they do not have any prediction power (too unique)\n",
    "df.drop(columns=['Prospect ID', 'Lead Number'], inplace=True)"
   ]
  },
  {
   "cell_type": "markdown",
   "metadata": {
    "jp-MarkdownHeadingCollapsed": true
   },
   "source": [
    "### Replacing 'Select' Terms"
   ]
  },
  {
   "cell_type": "code",
   "execution_count": 64,
   "metadata": {},
   "outputs": [],
   "source": [
    "# The \"Select\" terms must be replaced from all columns (missing data)\n",
    "df.replace('Select', np.nan, inplace=True)"
   ]
  },
  {
   "cell_type": "markdown",
   "metadata": {
    "jp-MarkdownHeadingCollapsed": true
   },
   "source": [
    "### Columns with high Missing Values"
   ]
  },
  {
   "cell_type": "code",
   "execution_count": 65,
   "metadata": {},
   "outputs": [
    {
     "data": {
      "image/png": "[encoded data removed]",
      "text/plain": [
       "<Figure size 640x480 with 1 Axes>"
      ]
     },
     "metadata": {},
     "output_type": "display_data"
    }
   ],
   "source": [
    "# Check the number of nulls\n",
    "NULL_COLUMN_THRESHOLD = 0.4\n",
    "\n",
    "null_percent = df.isnull().sum() / df.shape[0] \n",
    "null_features = null_percent[null_percent > 0]\n",
    "\n",
    "# Drop any columns with null values more than this%\n",
    "df.drop(columns=null_percent[null_percent > NULL_COLUMN_THRESHOLD].index, inplace=True)\n",
    "\n",
    "# Visualize.\n",
    "null_features_df = null_features.reset_index()\n",
    "null_features_df.columns = ['Feature', 'Value']\n",
    "sns.barplot(x='Value', y='Feature', data=null_features_df, orient='h')\n",
    "\n",
    "plt.axvline(NULL_COLUMN_THRESHOLD, color='k')\n",
    "plt.show()"
   ]
  },
  {
   "cell_type": "code",
   "execution_count": null,
   "metadata": {},
   "outputs": [],
   "source": []
  },
  {
   "cell_type": "code",
   "execution_count": null,
   "metadata": {},
   "outputs": [],
   "source": []
  },
  {
   "cell_type": "markdown",
   "metadata": {
    "jp-MarkdownHeadingCollapsed": true
   },
   "source": [
    "### Constant Columns"
   ]
  },
  {
   "cell_type": "code",
   "execution_count": 66,
   "metadata": {},
   "outputs": [
    {
     "name": "stdout",
     "output_type": "stream",
     "text": [
      "removing ['Magazine', 'Receive More Updates About Our Courses', 'Update me on Supply Chain Content', 'Get updates on DM Content', 'I agree to pay the amount through cheque']\n"
     ]
    }
   ],
   "source": [
    "# Remove columns with all values constant.\n",
    "\n",
    "constant_cols = [col for col in df.columns if df[col].nunique() == 1]\n",
    "print(\"removing\", constant_cols)"
   ]
  },
  {
   "cell_type": "code",
   "execution_count": 67,
   "metadata": {},
   "outputs": [],
   "source": [
    "df.drop(columns=constant_cols, inplace=True)"
   ]
  },
  {
   "cell_type": "code",
   "execution_count": 68,
   "metadata": {},
   "outputs": [],
   "source": [
    "df.to_pickle('eda_constant_removed.pkl')"
   ]
  },
  {
   "cell_type": "code",
   "execution_count": null,
   "metadata": {},
   "outputs": [],
   "source": []
  },
  {
   "cell_type": "markdown",
   "metadata": {
    "jp-MarkdownHeadingCollapsed": true
   },
   "source": [
    "### Binary Variables"
   ]
  },
  {
   "cell_type": "code",
   "execution_count": 69,
   "metadata": {},
   "outputs": [],
   "source": [
    "boolean_columns = [\n",
    "    'Do Not Email', 'Do Not Call',\n",
    "    'Search', 'Magazine', 'Newspaper Article', \n",
    "    'X Education Forums', 'Newspaper', 'Digital Advertisement', \n",
    "    'Through Recommendations', 'Receive More Updates About Our Courses', \n",
    "    'Update me on Supply Chain Content', 'Get updates on DM Content', \n",
    "    'I agree to pay the amount through cheque', 'A free copy of Mastering The Interview',\n",
    "]\n",
    "\n",
    "def yes_no_boolean(value):\n",
    "    if isinstance(value, bool):\n",
    "        # already converted.\n",
    "        return value\n",
    "    if value.lower() == 'yes':\n",
    "        return True\n",
    "    elif value.lower() == 'no':\n",
    "        return False\n",
    "    raise ValueError(f\"Invalid value: {value}\")\n",
    "\n",
    "for column in boolean_columns:\n",
    "    if column not in df.columns:\n",
    "        # dropped before.\n",
    "        continue\n",
    "    df[column] = df[column].apply(yes_no_boolean).astype(bool)"
   ]
  },
  {
   "cell_type": "code",
   "execution_count": 70,
   "metadata": {},
   "outputs": [],
   "source": [
    "# ensure there is no other value except for True and False.\n",
    "df['Converted'] = df['Converted'].astype(bool)"
   ]
  },
  {
   "cell_type": "code",
   "execution_count": null,
   "metadata": {},
   "outputs": [],
   "source": []
  },
  {
   "cell_type": "markdown",
   "metadata": {
    "jp-MarkdownHeadingCollapsed": true
   },
   "source": [
    "### Clubbing Categorical Values"
   ]
  },
  {
   "cell_type": "code",
   "execution_count": null,
   "metadata": {},
   "outputs": [],
   "source": []
  },
  {
   "cell_type": "code",
   "execution_count": 71,
   "metadata": {},
   "outputs": [],
   "source": [
    "# club less common values together into one category.\n",
    "# also include NA."
   ]
  },
  {
   "cell_type": "code",
   "execution_count": 72,
   "metadata": {},
   "outputs": [
    {
     "name": "stdout",
     "output_type": "stream",
     "text": [
      "Number of uniques for 'Lead Origin' is 3\n",
      "Number of uniques for 'Lead Source' is 5\n",
      "Number of uniques for 'Last Activity' is 7\n",
      "Number of uniques for 'Country' is 2\n",
      "Number of uniques for 'Specialization' is 14\n",
      "Number of uniques for 'What is your current occupation' is 2\n",
      "Number of uniques for 'What matters most to you in choosing a course' is 2\n",
      "Number of uniques for 'Tags' is 12\n",
      "Number of uniques for 'City' is 5\n",
      "Number of uniques for 'Last Notable Activity' is 5\n"
     ]
    }
   ],
   "source": [
    "threshold = 0.95\n",
    "\n",
    "for column in df.select_dtypes(include=['object']).columns:\n",
    "# for column in ['Country']:\n",
    "    # print(f\"============= {column} ===============\")\n",
    "    value_counts = df[column].value_counts(normalize=True)\n",
    "    cumulative_counts = value_counts.cumsum()\n",
    "    less_common_values = cumulative_counts[cumulative_counts > threshold].index.to_list()\n",
    "\n",
    "    first_category = value_counts.index[0]\n",
    "    if cumulative_counts[first_category] > threshold:\n",
    "        less_common_values.remove(first_category)\n",
    "\n",
    "    # print(\"less_common_values\", less_common_values)\n",
    "\n",
    "    def replacer(value):\n",
    "        if pd.isna(value):\n",
    "            return value\n",
    "        if value not in less_common_values:\n",
    "            return value\n",
    "        return 'others'\n",
    "    \n",
    "    df[column] = df[column].apply(replacer)\n",
    "    print(f\"Number of uniques for '{column}' is\", df[column].nunique())"
   ]
  },
  {
   "cell_type": "code",
   "execution_count": null,
   "metadata": {},
   "outputs": [],
   "source": []
  },
  {
   "cell_type": "markdown",
   "metadata": {
    "jp-MarkdownHeadingCollapsed": true
   },
   "source": [
    "### Null Row Removal"
   ]
  },
  {
   "cell_type": "code",
   "execution_count": 73,
   "metadata": {},
   "outputs": [
    {
     "data": {
      "text/plain": [
       "Converted\n",
       "False    5679\n",
       "True     3561\n",
       "Name: count, dtype: int64"
      ]
     },
     "execution_count": 73,
     "metadata": {},
     "output_type": "execute_result"
    }
   ],
   "source": [
    "df['Converted'].value_counts()"
   ]
  },
  {
   "cell_type": "code",
   "execution_count": 74,
   "metadata": {
    "scrolled": true
   },
   "outputs": [
    {
     "name": "stdout",
     "output_type": "stream",
     "text": [
      "removing 5616\n"
     ]
    }
   ],
   "source": [
    "# Logistic Regression requires all non-null rows, so we drop any rows with any null column value\n",
    "rows_to_be_removed = df.isnull().any(axis=1)\n",
    "print(\"removing\", sum(rows_to_be_removed))\n",
    "df = df[~rows_to_be_removed]"
   ]
  },
  {
   "cell_type": "code",
   "execution_count": 75,
   "metadata": {},
   "outputs": [
    {
     "data": {
      "text/plain": [
       "Converted\n",
       "False    1998\n",
       "True     1626\n",
       "Name: count, dtype: int64"
      ]
     },
     "execution_count": 75,
     "metadata": {},
     "output_type": "execute_result"
    }
   ],
   "source": [
    "# still balanced.\n",
    "df['Converted'].value_counts()"
   ]
  },
  {
   "cell_type": "code",
   "execution_count": 76,
   "metadata": {},
   "outputs": [
    {
     "data": {
      "text/plain": [
       "0.3922077922077922"
      ]
     },
     "execution_count": 76,
     "metadata": {},
     "output_type": "execute_result"
    }
   ],
   "source": [
    "# Fraction of rows retained after cleanup.\n",
    "len(df) / len(pd.read_pickle('init.pkl'))"
   ]
  },
  {
   "cell_type": "code",
   "execution_count": null,
   "metadata": {},
   "outputs": [],
   "source": []
  },
  {
   "cell_type": "code",
   "execution_count": 77,
   "metadata": {},
   "outputs": [],
   "source": [
    "df.to_pickle('eda_final.pkl')"
   ]
  },
  {
   "cell_type": "markdown",
   "metadata": {},
   "source": [
    "## Modelling"
   ]
  },
  {
   "cell_type": "code",
   "execution_count": 78,
   "metadata": {},
   "outputs": [],
   "source": [
    "# pick last element from the dataframes array.\n",
    "df = pd.read_pickle('eda_final.pkl')"
   ]
  },
  {
   "cell_type": "markdown",
   "metadata": {
    "jp-MarkdownHeadingCollapsed": true
   },
   "source": [
    "### Scaling"
   ]
  },
  {
   "cell_type": "code",
   "execution_count": 79,
   "metadata": {},
   "outputs": [
    {
     "data": {
      "text/plain": [
       "Index(['TotalVisits', 'Total Time Spent on Website', 'Page Views Per Visit'], dtype='object')"
      ]
     },
     "execution_count": 79,
     "metadata": {},
     "output_type": "execute_result"
    }
   ],
   "source": [
    "df.select_dtypes(exclude=['object', 'bool']).columns"
   ]
  },
  {
   "cell_type": "code",
   "execution_count": null,
   "metadata": {},
   "outputs": [],
   "source": []
  },
  {
   "cell_type": "code",
   "execution_count": 80,
   "metadata": {
    "scrolled": true
   },
   "outputs": [],
   "source": [
    "from sklearn.preprocessing import MinMaxScaler\n",
    "scaler = MinMaxScaler()\n",
    "\n",
    "# Apply scaler() to all the columns except the binary and categorical\n",
    "num_vars = ['TotalVisits', 'Total Time Spent on Website', 'Page Views Per Visit']\n",
    "\n",
    "df[num_vars] = scaler.fit_transform(df[num_vars])\n"
   ]
  },
  {
   "cell_type": "code",
   "execution_count": 81,
   "metadata": {},
   "outputs": [
    {
     "data": {
      "text/html": [
       "<div>\n",
       "<style scoped>\n",
       "    .dataframe tbody tr th:only-of-type {\n",
       "        vertical-align: middle;\n",
       "    }\n",
       "\n",
       "    .dataframe tbody tr th {\n",
       "        vertical-align: top;\n",
       "    }\n",
       "\n",
       "    .dataframe thead th {\n",
       "        text-align: right;\n",
       "    }\n",
       "</style>\n",
       "<table border=\"1\" class=\"dataframe\">\n",
       "  <thead>\n",
       "    <tr style=\"text-align: right;\">\n",
       "      <th></th>\n",
       "      <th>TotalVisits</th>\n",
       "      <th>Total Time Spent on Website</th>\n",
       "      <th>Page Views Per Visit</th>\n",
       "    </tr>\n",
       "  </thead>\n",
       "  <tbody>\n",
       "    <tr>\n",
       "      <th>2</th>\n",
       "      <td>0.007968</td>\n",
       "      <td>0.674296</td>\n",
       "      <td>0.125000</td>\n",
       "    </tr>\n",
       "    <tr>\n",
       "      <th>3</th>\n",
       "      <td>0.003984</td>\n",
       "      <td>0.134243</td>\n",
       "      <td>0.062500</td>\n",
       "    </tr>\n",
       "    <tr>\n",
       "      <th>6</th>\n",
       "      <td>0.007968</td>\n",
       "      <td>0.721831</td>\n",
       "      <td>0.125000</td>\n",
       "    </tr>\n",
       "    <tr>\n",
       "      <th>10</th>\n",
       "      <td>0.031873</td>\n",
       "      <td>0.594630</td>\n",
       "      <td>0.500000</td>\n",
       "    </tr>\n",
       "    <tr>\n",
       "      <th>11</th>\n",
       "      <td>0.031873</td>\n",
       "      <td>0.591109</td>\n",
       "      <td>0.166875</td>\n",
       "    </tr>\n",
       "  </tbody>\n",
       "</table>\n",
       "</div>"
      ],
      "text/plain": [
       "    TotalVisits  Total Time Spent on Website  Page Views Per Visit\n",
       "2      0.007968                     0.674296              0.125000\n",
       "3      0.003984                     0.134243              0.062500\n",
       "6      0.007968                     0.721831              0.125000\n",
       "10     0.031873                     0.594630              0.500000\n",
       "11     0.031873                     0.591109              0.166875"
      ]
     },
     "execution_count": 81,
     "metadata": {},
     "output_type": "execute_result"
    }
   ],
   "source": [
    "df[num_vars].head()"
   ]
  },
  {
   "cell_type": "code",
   "execution_count": 82,
   "metadata": {},
   "outputs": [],
   "source": [
    "df.to_pickle('model_scale.pkl')"
   ]
  },
  {
   "cell_type": "markdown",
   "metadata": {
    "jp-MarkdownHeadingCollapsed": true
   },
   "source": [
    "### Dummy Columns"
   ]
  },
  {
   "cell_type": "code",
   "execution_count": null,
   "metadata": {},
   "outputs": [],
   "source": []
  },
  {
   "cell_type": "code",
   "execution_count": 83,
   "metadata": {
    "scrolled": true
   },
   "outputs": [
    {
     "data": {
      "text/plain": [
       "Index(['Lead Origin', 'Lead Source', 'Last Activity', 'Country',\n",
       "       'Specialization', 'What is your current occupation',\n",
       "       'What matters most to you in choosing a course', 'Tags', 'City',\n",
       "       'Last Notable Activity'],\n",
       "      dtype='object')"
      ]
     },
     "execution_count": 83,
     "metadata": {},
     "output_type": "execute_result"
    }
   ],
   "source": [
    "df.select_dtypes('object').columns"
   ]
  },
  {
   "cell_type": "code",
   "execution_count": 84,
   "metadata": {},
   "outputs": [],
   "source": [
    "# create dummies\n",
    "cat_columns = list(set(['Lead Origin', 'Lead Source', 'Last Activity', 'Country',\n",
    "       'Specialization', 'What is your current occupation',\n",
    "       'What matters most to you in choosing a course', 'Tags', 'City',\n",
    "       'Last Notable Activity']).intersection(df.columns))\n",
    "\n",
    "df = pd.get_dummies(df, drop_first=True, columns=cat_columns)\n",
    "\n",
    "for col in df.columns:\n",
    "    if df[col].dtype == 'bool':\n",
    "        df[col] = df[col].astype(int)\n"
   ]
  },
  {
   "cell_type": "code",
   "execution_count": 85,
   "metadata": {},
   "outputs": [
    {
     "data": {
      "text/html": [
       "<div>\n",
       "<style scoped>\n",
       "    .dataframe tbody tr th:only-of-type {\n",
       "        vertical-align: middle;\n",
       "    }\n",
       "\n",
       "    .dataframe tbody tr th {\n",
       "        vertical-align: top;\n",
       "    }\n",
       "\n",
       "    .dataframe thead th {\n",
       "        text-align: right;\n",
       "    }\n",
       "</style>\n",
       "<table border=\"1\" class=\"dataframe\">\n",
       "  <thead>\n",
       "    <tr style=\"text-align: right;\">\n",
       "      <th></th>\n",
       "      <th>Do Not Email</th>\n",
       "      <th>Do Not Call</th>\n",
       "      <th>Converted</th>\n",
       "      <th>TotalVisits</th>\n",
       "      <th>Total Time Spent on Website</th>\n",
       "      <th>Page Views Per Visit</th>\n",
       "      <th>Search</th>\n",
       "      <th>Newspaper Article</th>\n",
       "      <th>X Education Forums</th>\n",
       "      <th>Newspaper</th>\n",
       "      <th>...</th>\n",
       "      <th>Specialization_Supply Chain Management</th>\n",
       "      <th>Specialization_Travel and Tourism</th>\n",
       "      <th>Specialization_others</th>\n",
       "      <th>What is your current occupation_others</th>\n",
       "      <th>Last Activity_Email Bounced</th>\n",
       "      <th>Last Activity_Email Opened</th>\n",
       "      <th>Last Activity_Olark Chat Conversation</th>\n",
       "      <th>Last Activity_Page Visited on Website</th>\n",
       "      <th>Last Activity_SMS Sent</th>\n",
       "      <th>Last Activity_others</th>\n",
       "    </tr>\n",
       "  </thead>\n",
       "  <tbody>\n",
       "    <tr>\n",
       "      <th>2</th>\n",
       "      <td>0</td>\n",
       "      <td>0</td>\n",
       "      <td>1</td>\n",
       "      <td>0.007968</td>\n",
       "      <td>0.674296</td>\n",
       "      <td>0.125000</td>\n",
       "      <td>0</td>\n",
       "      <td>0</td>\n",
       "      <td>0</td>\n",
       "      <td>0</td>\n",
       "      <td>...</td>\n",
       "      <td>0</td>\n",
       "      <td>0</td>\n",
       "      <td>0</td>\n",
       "      <td>1</td>\n",
       "      <td>0</td>\n",
       "      <td>1</td>\n",
       "      <td>0</td>\n",
       "      <td>0</td>\n",
       "      <td>0</td>\n",
       "      <td>0</td>\n",
       "    </tr>\n",
       "    <tr>\n",
       "      <th>3</th>\n",
       "      <td>0</td>\n",
       "      <td>0</td>\n",
       "      <td>0</td>\n",
       "      <td>0.003984</td>\n",
       "      <td>0.134243</td>\n",
       "      <td>0.062500</td>\n",
       "      <td>0</td>\n",
       "      <td>0</td>\n",
       "      <td>0</td>\n",
       "      <td>0</td>\n",
       "      <td>...</td>\n",
       "      <td>0</td>\n",
       "      <td>0</td>\n",
       "      <td>0</td>\n",
       "      <td>0</td>\n",
       "      <td>0</td>\n",
       "      <td>0</td>\n",
       "      <td>0</td>\n",
       "      <td>0</td>\n",
       "      <td>0</td>\n",
       "      <td>1</td>\n",
       "    </tr>\n",
       "    <tr>\n",
       "      <th>6</th>\n",
       "      <td>0</td>\n",
       "      <td>0</td>\n",
       "      <td>1</td>\n",
       "      <td>0.007968</td>\n",
       "      <td>0.721831</td>\n",
       "      <td>0.125000</td>\n",
       "      <td>0</td>\n",
       "      <td>0</td>\n",
       "      <td>0</td>\n",
       "      <td>0</td>\n",
       "      <td>...</td>\n",
       "      <td>1</td>\n",
       "      <td>0</td>\n",
       "      <td>0</td>\n",
       "      <td>0</td>\n",
       "      <td>0</td>\n",
       "      <td>1</td>\n",
       "      <td>0</td>\n",
       "      <td>0</td>\n",
       "      <td>0</td>\n",
       "      <td>0</td>\n",
       "    </tr>\n",
       "    <tr>\n",
       "      <th>10</th>\n",
       "      <td>0</td>\n",
       "      <td>0</td>\n",
       "      <td>1</td>\n",
       "      <td>0.031873</td>\n",
       "      <td>0.594630</td>\n",
       "      <td>0.500000</td>\n",
       "      <td>0</td>\n",
       "      <td>0</td>\n",
       "      <td>0</td>\n",
       "      <td>0</td>\n",
       "      <td>...</td>\n",
       "      <td>0</td>\n",
       "      <td>1</td>\n",
       "      <td>0</td>\n",
       "      <td>0</td>\n",
       "      <td>0</td>\n",
       "      <td>1</td>\n",
       "      <td>0</td>\n",
       "      <td>0</td>\n",
       "      <td>0</td>\n",
       "      <td>0</td>\n",
       "    </tr>\n",
       "    <tr>\n",
       "      <th>11</th>\n",
       "      <td>0</td>\n",
       "      <td>0</td>\n",
       "      <td>1</td>\n",
       "      <td>0.031873</td>\n",
       "      <td>0.591109</td>\n",
       "      <td>0.166875</td>\n",
       "      <td>0</td>\n",
       "      <td>0</td>\n",
       "      <td>0</td>\n",
       "      <td>0</td>\n",
       "      <td>...</td>\n",
       "      <td>0</td>\n",
       "      <td>0</td>\n",
       "      <td>0</td>\n",
       "      <td>0</td>\n",
       "      <td>0</td>\n",
       "      <td>0</td>\n",
       "      <td>0</td>\n",
       "      <td>1</td>\n",
       "      <td>0</td>\n",
       "      <td>0</td>\n",
       "    </tr>\n",
       "  </tbody>\n",
       "</table>\n",
       "<p>5 rows × 60 columns</p>\n",
       "</div>"
      ],
      "text/plain": [
       "    Do Not Email  Do Not Call  Converted  TotalVisits  \\\n",
       "2              0            0          1     0.007968   \n",
       "3              0            0          0     0.003984   \n",
       "6              0            0          1     0.007968   \n",
       "10             0            0          1     0.031873   \n",
       "11             0            0          1     0.031873   \n",
       "\n",
       "    Total Time Spent on Website  Page Views Per Visit  Search  \\\n",
       "2                      0.674296              0.125000       0   \n",
       "3                      0.134243              0.062500       0   \n",
       "6                      0.721831              0.125000       0   \n",
       "10                     0.594630              0.500000       0   \n",
       "11                     0.591109              0.166875       0   \n",
       "\n",
       "    Newspaper Article  X Education Forums  Newspaper  ...  \\\n",
       "2                   0                   0          0  ...   \n",
       "3                   0                   0          0  ...   \n",
       "6                   0                   0          0  ...   \n",
       "10                  0                   0          0  ...   \n",
       "11                  0                   0          0  ...   \n",
       "\n",
       "    Specialization_Supply Chain Management  Specialization_Travel and Tourism  \\\n",
       "2                                        0                                  0   \n",
       "3                                        0                                  0   \n",
       "6                                        1                                  0   \n",
       "10                                       0                                  1   \n",
       "11                                       0                                  0   \n",
       "\n",
       "    Specialization_others  What is your current occupation_others  \\\n",
       "2                       0                                       1   \n",
       "3                       0                                       0   \n",
       "6                       0                                       0   \n",
       "10                      0                                       0   \n",
       "11                      0                                       0   \n",
       "\n",
       "    Last Activity_Email Bounced  Last Activity_Email Opened  \\\n",
       "2                             0                           1   \n",
       "3                             0                           0   \n",
       "6                             0                           1   \n",
       "10                            0                           1   \n",
       "11                            0                           0   \n",
       "\n",
       "    Last Activity_Olark Chat Conversation  \\\n",
       "2                                       0   \n",
       "3                                       0   \n",
       "6                                       0   \n",
       "10                                      0   \n",
       "11                                      0   \n",
       "\n",
       "    Last Activity_Page Visited on Website  Last Activity_SMS Sent  \\\n",
       "2                                       0                       0   \n",
       "3                                       0                       0   \n",
       "6                                       0                       0   \n",
       "10                                      0                       0   \n",
       "11                                      1                       0   \n",
       "\n",
       "    Last Activity_others  \n",
       "2                      0  \n",
       "3                      1  \n",
       "6                      0  \n",
       "10                     0  \n",
       "11                     0  \n",
       "\n",
       "[5 rows x 60 columns]"
      ]
     },
     "execution_count": 85,
     "metadata": {},
     "output_type": "execute_result"
    }
   ],
   "source": [
    "df.head()"
   ]
  },
  {
   "cell_type": "code",
   "execution_count": 86,
   "metadata": {},
   "outputs": [],
   "source": [
    "df.to_pickle(\"model_dummy.pkl\")"
   ]
  },
  {
   "cell_type": "markdown",
   "metadata": {
    "jp-MarkdownHeadingCollapsed": true
   },
   "source": [
    "### Train Test Split"
   ]
  },
  {
   "cell_type": "code",
   "execution_count": 87,
   "metadata": {},
   "outputs": [
    {
     "data": {
      "text/plain": [
       "(3624, 60)"
      ]
     },
     "execution_count": 87,
     "metadata": {},
     "output_type": "execute_result"
    }
   ],
   "source": [
    "df.shape"
   ]
  },
  {
   "cell_type": "code",
   "execution_count": 88,
   "metadata": {},
   "outputs": [],
   "source": [
    "TRAIN_SIZE = 0.8\n",
    "RANDOM_STATE = 100\n",
    "Y_LABEL = 'Converted'"
   ]
  },
  {
   "cell_type": "code",
   "execution_count": 89,
   "metadata": {},
   "outputs": [],
   "source": [
    "from sklearn.model_selection import train_test_split\n",
    "\n",
    "# We specify this so that the train and test data set always have the same rows, respectively\n",
    "\n",
    "df_train, df_test = train_test_split(df, train_size = 0.8, test_size = 1-TRAIN_SIZE, random_state = RANDOM_STATE)\n",
    "\n",
    "y_train = df_train[Y_LABEL]\n",
    "X_train = df_train.drop(columns=Y_LABEL)\n",
    "y_test = df_test[Y_LABEL]\n",
    "X_test = df_test.drop(columns=Y_LABEL)"
   ]
  },
  {
   "cell_type": "code",
   "execution_count": null,
   "metadata": {},
   "outputs": [],
   "source": []
  },
  {
   "cell_type": "markdown",
   "metadata": {
    "jp-MarkdownHeadingCollapsed": true
   },
   "source": [
    "### Basic Model"
   ]
  },
  {
   "cell_type": "code",
   "execution_count": 90,
   "metadata": {},
   "outputs": [
    {
     "name": "stdout",
     "output_type": "stream",
     "text": [
      "              precision    recall  f1-score   support\n",
      "\n",
      "           0       0.96      0.97      0.97      1615\n",
      "           1       0.97      0.95      0.96      1284\n",
      "\n",
      "    accuracy                           0.97      2899\n",
      "   macro avg       0.97      0.96      0.96      2899\n",
      "weighted avg       0.97      0.97      0.97      2899\n",
      "\n",
      "              precision    recall  f1-score   support\n",
      "\n",
      "           0       0.93      0.94      0.94       383\n",
      "           1       0.93      0.92      0.93       342\n",
      "\n",
      "    accuracy                           0.93       725\n",
      "   macro avg       0.93      0.93      0.93       725\n",
      "weighted avg       0.93      0.93      0.93       725\n",
      "\n"
     ]
    }
   ],
   "source": [
    "# Importing RFE and LinearRegression\n",
    "from sklearn.linear_model import LogisticRegression\n",
    "from sklearn.metrics import accuracy_score\n",
    "\n",
    "model = LogisticRegression()\n",
    "model.fit(X_train, y_train)\n",
    "predictions_train = model.predict(X_train)\n",
    "predictions_test = model.predict(X_test)\n",
    "\n",
    "from sklearn.metrics import classification_report\n",
    "print(classification_report(y_train, predictions_train))\n",
    "print(classification_report(y_test, predictions_test))"
   ]
  },
  {
   "cell_type": "code",
   "execution_count": 91,
   "metadata": {},
   "outputs": [],
   "source": [
    "# Even without using RFE, this preliminary model is quite strong."
   ]
  },
  {
   "cell_type": "code",
   "execution_count": null,
   "metadata": {},
   "outputs": [],
   "source": []
  },
  {
   "cell_type": "markdown",
   "metadata": {
    "jp-MarkdownHeadingCollapsed": true
   },
   "source": [
    "### RFE"
   ]
  },
  {
   "cell_type": "code",
   "execution_count": 92,
   "metadata": {},
   "outputs": [],
   "source": [
    "from sklearn.feature_selection import RFE\n",
    "\n",
    "rfe = RFE(model, n_features_to_select=15)             # running RFE\n",
    "rfe = rfe.fit(X_train, y_train)"
   ]
  },
  {
   "cell_type": "code",
   "execution_count": 93,
   "metadata": {},
   "outputs": [],
   "source": [
    "X_train_rfe = rfe.transform(X_train)\n",
    "X_test_rfe = rfe.transform(X_test)\n"
   ]
  },
  {
   "cell_type": "code",
   "execution_count": 94,
   "metadata": {},
   "outputs": [
    {
     "name": "stdout",
     "output_type": "stream",
     "text": [
      "Model Accuracy with RFE: 0.9420689655172414\n"
     ]
    }
   ],
   "source": [
    "model.fit(X_train_rfe, y_train)\n",
    "predictions_rfe = model.predict(X_test_rfe)\n",
    "accuracy_rfe = accuracy_score(y_test, predictions_rfe)\n",
    "print(f\"Model Accuracy with RFE: {accuracy_rfe}\")"
   ]
  },
  {
   "cell_type": "code",
   "execution_count": 95,
   "metadata": {},
   "outputs": [
    {
     "data": {
      "text/plain": [
       "Index(['Do Not Email', 'TotalVisits', 'Total Time Spent on Website',\n",
       "       'Lead Source_others', 'Tags_Busy', 'Tags_Closed by Horizzon',\n",
       "       'Tags_Interested in other courses', 'Tags_Lost to EINS',\n",
       "       'Tags_Not doing further education', 'Tags_Ringing',\n",
       "       'Tags_Will revert after reading the email', 'Tags_switched off',\n",
       "       'What is your current occupation_others', 'Last Activity_Email Bounced',\n",
       "       'Last Activity_SMS Sent'],\n",
       "      dtype='object')"
      ]
     },
     "execution_count": 95,
     "metadata": {},
     "output_type": "execute_result"
    }
   ],
   "source": [
    "X_train.columns[rfe.support_]"
   ]
  },
  {
   "cell_type": "code",
   "execution_count": 96,
   "metadata": {},
   "outputs": [],
   "source": [
    "# Calculate the VIFs for the new model\n",
    "import statsmodels.api as sm  \n",
    "from statsmodels.stats.outliers_influence import variance_inflation_factor\n",
    "\n",
    "def build_model(X, y):\n",
    "    X = sm.add_constant(X) #Adding the constant\n",
    "    lm = sm.Logit(y, X).fit() # fitting the model\n",
    "    return lm\n",
    "\n",
    "def check_VIF(X):\n",
    "    vif = pd.DataFrame()\n",
    "    vif['Features'] = X.columns\n",
    "    vif['VIF'] = [variance_inflation_factor(X.values, i) for i in range(X.shape[1])]\n",
    "    vif['VIF'] = round(vif['VIF'], 2)\n",
    "    vif = vif.sort_values(by = \"VIF\", ascending = False)\n",
    "    return vif\n"
   ]
  },
  {
   "cell_type": "markdown",
   "metadata": {
    "jp-MarkdownHeadingCollapsed": true
   },
   "source": [
    "### Removing high p-value"
   ]
  },
  {
   "cell_type": "code",
   "execution_count": 97,
   "metadata": {},
   "outputs": [
    {
     "name": "stdout",
     "output_type": "stream",
     "text": [
      "Warning: Maximum number of iterations has been exceeded.\n",
      "         Current function value: 0.114633\n",
      "         Iterations: 35\n"
     ]
    },
    {
     "name": "stderr",
     "output_type": "stream",
     "text": [
      "/opt/homebrew/Caskroom/miniforge/base/lib/python3.10/site-packages/statsmodels/base/model.py:607: ConvergenceWarning: Maximum Likelihood optimization failed to converge. Check mle_retvals\n",
      "  warnings.warn(\"Maximum Likelihood optimization failed to \"\n"
     ]
    },
    {
     "data": {
      "text/html": [
       "<table class=\"simpletable\">\n",
       "<caption>Logit Regression Results</caption>\n",
       "<tr>\n",
       "  <th>Dep. Variable:</th>       <td>Converted</td>    <th>  No. Observations:  </th>  <td>  2899</td> \n",
       "</tr>\n",
       "<tr>\n",
       "  <th>Model:</th>                 <td>Logit</td>      <th>  Df Residuals:      </th>  <td>  2883</td> \n",
       "</tr>\n",
       "<tr>\n",
       "  <th>Method:</th>                 <td>MLE</td>       <th>  Df Model:          </th>  <td>    15</td> \n",
       "</tr>\n",
       "<tr>\n",
       "  <th>Date:</th>            <td>Mon, 19 Feb 2024</td> <th>  Pseudo R-squ.:     </th>  <td>0.8330</td> \n",
       "</tr>\n",
       "<tr>\n",
       "  <th>Time:</th>                <td>04:25:33</td>     <th>  Log-Likelihood:    </th> <td> -332.32</td>\n",
       "</tr>\n",
       "<tr>\n",
       "  <th>converged:</th>             <td>False</td>      <th>  LL-Null:           </th> <td> -1990.5</td>\n",
       "</tr>\n",
       "<tr>\n",
       "  <th>Covariance Type:</th>     <td>nonrobust</td>    <th>  LLR p-value:       </th>  <td> 0.000</td> \n",
       "</tr>\n",
       "</table>\n",
       "<table class=\"simpletable\">\n",
       "<tr>\n",
       "                      <td></td>                        <th>coef</th>     <th>std err</th>      <th>z</th>      <th>P>|z|</th>  <th>[0.025</th>    <th>0.975]</th>  \n",
       "</tr>\n",
       "<tr>\n",
       "  <th>const</th>                                    <td>   -5.1151</td> <td>    0.375</td> <td>  -13.646</td> <td> 0.000</td> <td>   -5.850</td> <td>   -4.380</td>\n",
       "</tr>\n",
       "<tr>\n",
       "  <th>Do Not Email</th>                             <td>   -0.7832</td> <td>    0.547</td> <td>   -1.433</td> <td> 0.152</td> <td>   -1.854</td> <td>    0.288</td>\n",
       "</tr>\n",
       "<tr>\n",
       "  <th>TotalVisits</th>                              <td>   22.3191</td> <td>    7.850</td> <td>    2.843</td> <td> 0.004</td> <td>    6.934</td> <td>   37.704</td>\n",
       "</tr>\n",
       "<tr>\n",
       "  <th>Total Time Spent on Website</th>              <td>    3.7489</td> <td>    0.454</td> <td>    8.261</td> <td> 0.000</td> <td>    2.859</td> <td>    4.638</td>\n",
       "</tr>\n",
       "<tr>\n",
       "  <th>Lead Source_others</th>                       <td>    1.2447</td> <td>    1.115</td> <td>    1.116</td> <td> 0.264</td> <td>   -0.941</td> <td>    3.430</td>\n",
       "</tr>\n",
       "<tr>\n",
       "  <th>Tags_Busy</th>                                <td>    3.2375</td> <td>    0.355</td> <td>    9.120</td> <td> 0.000</td> <td>    2.542</td> <td>    3.933</td>\n",
       "</tr>\n",
       "<tr>\n",
       "  <th>Tags_Closed by Horizzon</th>                  <td>    8.0195</td> <td>    1.078</td> <td>    7.442</td> <td> 0.000</td> <td>    5.908</td> <td>   10.131</td>\n",
       "</tr>\n",
       "<tr>\n",
       "  <th>Tags_Interested in other courses</th>         <td>   -1.2206</td> <td>    0.768</td> <td>   -1.589</td> <td> 0.112</td> <td>   -2.726</td> <td>    0.285</td>\n",
       "</tr>\n",
       "<tr>\n",
       "  <th>Tags_Lost to EINS</th>                        <td>    7.4591</td> <td>    1.060</td> <td>    7.039</td> <td> 0.000</td> <td>    5.382</td> <td>    9.536</td>\n",
       "</tr>\n",
       "<tr>\n",
       "  <th>Tags_Not doing further education</th>         <td>  -15.8971</td> <td> 1966.855</td> <td>   -0.008</td> <td> 0.994</td> <td>-3870.862</td> <td> 3839.068</td>\n",
       "</tr>\n",
       "<tr>\n",
       "  <th>Tags_Ringing</th>                             <td>   -0.5661</td> <td>    0.367</td> <td>   -1.541</td> <td> 0.123</td> <td>   -1.286</td> <td>    0.154</td>\n",
       "</tr>\n",
       "<tr>\n",
       "  <th>Tags_Will revert after reading the email</th> <td>    6.5539</td> <td>    0.339</td> <td>   19.336</td> <td> 0.000</td> <td>    5.890</td> <td>    7.218</td>\n",
       "</tr>\n",
       "<tr>\n",
       "  <th>Tags_switched off</th>                        <td>   -1.2924</td> <td>    0.775</td> <td>   -1.667</td> <td> 0.096</td> <td>   -2.812</td> <td>    0.227</td>\n",
       "</tr>\n",
       "<tr>\n",
       "  <th>What is your current occupation_others</th>   <td>    1.0052</td> <td>    0.422</td> <td>    2.380</td> <td> 0.017</td> <td>    0.177</td> <td>    1.833</td>\n",
       "</tr>\n",
       "<tr>\n",
       "  <th>Last Activity_Email Bounced</th>              <td>   -2.1028</td> <td>    1.039</td> <td>   -2.024</td> <td> 0.043</td> <td>   -4.140</td> <td>   -0.066</td>\n",
       "</tr>\n",
       "<tr>\n",
       "  <th>Last Activity_SMS Sent</th>                   <td>    1.1400</td> <td>    0.245</td> <td>    4.648</td> <td> 0.000</td> <td>    0.659</td> <td>    1.621</td>\n",
       "</tr>\n",
       "</table>"
      ],
      "text/latex": [
       "\\begin{center}\n",
       "\\begin{tabular}{lclc}\n",
       "\\toprule\n",
       "\\textbf{Dep. Variable:}                            &    Converted     & \\textbf{  No. Observations:  } &     2899    \\\\\n",
       "\\textbf{Model:}                                    &      Logit       & \\textbf{  Df Residuals:      } &     2883    \\\\\n",
       "\\textbf{Method:}                                   &       MLE        & \\textbf{  Df Model:          } &       15    \\\\\n",
       "\\textbf{Date:}                                     & Mon, 19 Feb 2024 & \\textbf{  Pseudo R-squ.:     } &   0.8330    \\\\\n",
       "\\textbf{Time:}                                     &     04:25:33     & \\textbf{  Log-Likelihood:    } &   -332.32   \\\\\n",
       "\\textbf{converged:}                                &      False       & \\textbf{  LL-Null:           } &   -1990.5   \\\\\n",
       "\\textbf{Covariance Type:}                          &    nonrobust     & \\textbf{  LLR p-value:       } &    0.000    \\\\\n",
       "\\bottomrule\n",
       "\\end{tabular}\n",
       "\\begin{tabular}{lcccccc}\n",
       "                                                   & \\textbf{coef} & \\textbf{std err} & \\textbf{z} & \\textbf{P$> |$z$|$} & \\textbf{[0.025} & \\textbf{0.975]}  \\\\\n",
       "\\midrule\n",
       "\\textbf{const}                                     &      -5.1151  &        0.375     &   -13.646  &         0.000        &       -5.850    &       -4.380     \\\\\n",
       "\\textbf{Do Not Email}                              &      -0.7832  &        0.547     &    -1.433  &         0.152        &       -1.854    &        0.288     \\\\\n",
       "\\textbf{TotalVisits}                               &      22.3191  &        7.850     &     2.843  &         0.004        &        6.934    &       37.704     \\\\\n",
       "\\textbf{Total Time Spent on Website}               &       3.7489  &        0.454     &     8.261  &         0.000        &        2.859    &        4.638     \\\\\n",
       "\\textbf{Lead Source\\_others}                       &       1.2447  &        1.115     &     1.116  &         0.264        &       -0.941    &        3.430     \\\\\n",
       "\\textbf{Tags\\_Busy}                                &       3.2375  &        0.355     &     9.120  &         0.000        &        2.542    &        3.933     \\\\\n",
       "\\textbf{Tags\\_Closed by Horizzon}                  &       8.0195  &        1.078     &     7.442  &         0.000        &        5.908    &       10.131     \\\\\n",
       "\\textbf{Tags\\_Interested in other courses}         &      -1.2206  &        0.768     &    -1.589  &         0.112        &       -2.726    &        0.285     \\\\\n",
       "\\textbf{Tags\\_Lost to EINS}                        &       7.4591  &        1.060     &     7.039  &         0.000        &        5.382    &        9.536     \\\\\n",
       "\\textbf{Tags\\_Not doing further education}         &     -15.8971  &     1966.855     &    -0.008  &         0.994        &    -3870.862    &     3839.068     \\\\\n",
       "\\textbf{Tags\\_Ringing}                             &      -0.5661  &        0.367     &    -1.541  &         0.123        &       -1.286    &        0.154     \\\\\n",
       "\\textbf{Tags\\_Will revert after reading the email} &       6.5539  &        0.339     &    19.336  &         0.000        &        5.890    &        7.218     \\\\\n",
       "\\textbf{Tags\\_switched off}                        &      -1.2924  &        0.775     &    -1.667  &         0.096        &       -2.812    &        0.227     \\\\\n",
       "\\textbf{What is your current occupation\\_others}   &       1.0052  &        0.422     &     2.380  &         0.017        &        0.177    &        1.833     \\\\\n",
       "\\textbf{Last Activity\\_Email Bounced}              &      -2.1028  &        1.039     &    -2.024  &         0.043        &       -4.140    &       -0.066     \\\\\n",
       "\\textbf{Last Activity\\_SMS Sent}                   &       1.1400  &        0.245     &     4.648  &         0.000        &        0.659    &        1.621     \\\\\n",
       "\\bottomrule\n",
       "\\end{tabular}\n",
       "%\\caption{Logit Regression Results}\n",
       "\\end{center}"
      ],
      "text/plain": [
       "<class 'statsmodels.iolib.summary.Summary'>\n",
       "\"\"\"\n",
       "                           Logit Regression Results                           \n",
       "==============================================================================\n",
       "Dep. Variable:              Converted   No. Observations:                 2899\n",
       "Model:                          Logit   Df Residuals:                     2883\n",
       "Method:                           MLE   Df Model:                           15\n",
       "Date:                Mon, 19 Feb 2024   Pseudo R-squ.:                  0.8330\n",
       "Time:                        04:25:33   Log-Likelihood:                -332.32\n",
       "converged:                      False   LL-Null:                       -1990.5\n",
       "Covariance Type:            nonrobust   LLR p-value:                     0.000\n",
       "============================================================================================================\n",
       "                                               coef    std err          z      P>|z|      [0.025      0.975]\n",
       "------------------------------------------------------------------------------------------------------------\n",
       "const                                       -5.1151      0.375    -13.646      0.000      -5.850      -4.380\n",
       "Do Not Email                                -0.7832      0.547     -1.433      0.152      -1.854       0.288\n",
       "TotalVisits                                 22.3191      7.850      2.843      0.004       6.934      37.704\n",
       "Total Time Spent on Website                  3.7489      0.454      8.261      0.000       2.859       4.638\n",
       "Lead Source_others                           1.2447      1.115      1.116      0.264      -0.941       3.430\n",
       "Tags_Busy                                    3.2375      0.355      9.120      0.000       2.542       3.933\n",
       "Tags_Closed by Horizzon                      8.0195      1.078      7.442      0.000       5.908      10.131\n",
       "Tags_Interested in other courses            -1.2206      0.768     -1.589      0.112      -2.726       0.285\n",
       "Tags_Lost to EINS                            7.4591      1.060      7.039      0.000       5.382       9.536\n",
       "Tags_Not doing further education           -15.8971   1966.855     -0.008      0.994   -3870.862    3839.068\n",
       "Tags_Ringing                                -0.5661      0.367     -1.541      0.123      -1.286       0.154\n",
       "Tags_Will revert after reading the email     6.5539      0.339     19.336      0.000       5.890       7.218\n",
       "Tags_switched off                           -1.2924      0.775     -1.667      0.096      -2.812       0.227\n",
       "What is your current occupation_others       1.0052      0.422      2.380      0.017       0.177       1.833\n",
       "Last Activity_Email Bounced                 -2.1028      1.039     -2.024      0.043      -4.140      -0.066\n",
       "Last Activity_SMS Sent                       1.1400      0.245      4.648      0.000       0.659       1.621\n",
       "============================================================================================================\n",
       "\"\"\""
      ]
     },
     "execution_count": 97,
     "metadata": {},
     "output_type": "execute_result"
    }
   ],
   "source": [
    "X_train_new = X_train[X_train.columns[rfe.support_]]\n",
    "lm = build_model(X_train_new, y_train)\n",
    "lm.summary()"
   ]
  },
  {
   "cell_type": "code",
   "execution_count": null,
   "metadata": {},
   "outputs": [],
   "source": []
  },
  {
   "cell_type": "code",
   "execution_count": 99,
   "metadata": {},
   "outputs": [
    {
     "name": "stderr",
     "output_type": "stream",
     "text": [
      "/var/folders/gn/_m6452xj7mg0cf7j0dvwvlgw0000gn/T/ipykernel_65004/1460431089.py:2: SettingWithCopyWarning: \n",
      "A value is trying to be set on a copy of a slice from a DataFrame\n",
      "\n",
      "See the caveats in the documentation: https://pandas.pydata.org/pandas-docs/stable/user_guide/indexing.html#returning-a-view-versus-a-copy\n",
      "  X_train_new.drop(['Tags_Not doing further education'],axis=1, inplace=True)\n"
     ]
    },
    {
     "name": "stdout",
     "output_type": "stream",
     "text": [
      "Optimization terminated successfully.\n",
      "         Current function value: 0.115262\n",
      "         Iterations 9\n"
     ]
    },
    {
     "data": {
      "text/html": [
       "<table class=\"simpletable\">\n",
       "<caption>Logit Regression Results</caption>\n",
       "<tr>\n",
       "  <th>Dep. Variable:</th>       <td>Converted</td>    <th>  No. Observations:  </th>  <td>  2899</td> \n",
       "</tr>\n",
       "<tr>\n",
       "  <th>Model:</th>                 <td>Logit</td>      <th>  Df Residuals:      </th>  <td>  2884</td> \n",
       "</tr>\n",
       "<tr>\n",
       "  <th>Method:</th>                 <td>MLE</td>       <th>  Df Model:          </th>  <td>    14</td> \n",
       "</tr>\n",
       "<tr>\n",
       "  <th>Date:</th>            <td>Mon, 19 Feb 2024</td> <th>  Pseudo R-squ.:     </th>  <td>0.8321</td> \n",
       "</tr>\n",
       "<tr>\n",
       "  <th>Time:</th>                <td>04:25:51</td>     <th>  Log-Likelihood:    </th> <td> -334.14</td>\n",
       "</tr>\n",
       "<tr>\n",
       "  <th>converged:</th>             <td>True</td>       <th>  LL-Null:           </th> <td> -1990.5</td>\n",
       "</tr>\n",
       "<tr>\n",
       "  <th>Covariance Type:</th>     <td>nonrobust</td>    <th>  LLR p-value:       </th>  <td> 0.000</td> \n",
       "</tr>\n",
       "</table>\n",
       "<table class=\"simpletable\">\n",
       "<tr>\n",
       "                      <td></td>                        <th>coef</th>     <th>std err</th>      <th>z</th>      <th>P>|z|</th>  <th>[0.025</th>    <th>0.975]</th>  \n",
       "</tr>\n",
       "<tr>\n",
       "  <th>const</th>                                    <td>   -5.2053</td> <td>    0.373</td> <td>  -13.946</td> <td> 0.000</td> <td>   -5.937</td> <td>   -4.474</td>\n",
       "</tr>\n",
       "<tr>\n",
       "  <th>Do Not Email</th>                             <td>   -0.8428</td> <td>    0.536</td> <td>   -1.573</td> <td> 0.116</td> <td>   -1.893</td> <td>    0.208</td>\n",
       "</tr>\n",
       "<tr>\n",
       "  <th>TotalVisits</th>                              <td>   20.5906</td> <td>    7.220</td> <td>    2.852</td> <td> 0.004</td> <td>    6.440</td> <td>   34.742</td>\n",
       "</tr>\n",
       "<tr>\n",
       "  <th>Total Time Spent on Website</th>              <td>    3.7682</td> <td>    0.454</td> <td>    8.301</td> <td> 0.000</td> <td>    2.878</td> <td>    4.658</td>\n",
       "</tr>\n",
       "<tr>\n",
       "  <th>Lead Source_others</th>                       <td>    1.2543</td> <td>    1.107</td> <td>    1.133</td> <td> 0.257</td> <td>   -0.916</td> <td>    3.425</td>\n",
       "</tr>\n",
       "<tr>\n",
       "  <th>Tags_Busy</th>                                <td>    3.3524</td> <td>    0.354</td> <td>    9.465</td> <td> 0.000</td> <td>    2.658</td> <td>    4.047</td>\n",
       "</tr>\n",
       "<tr>\n",
       "  <th>Tags_Closed by Horizzon</th>                  <td>    8.1425</td> <td>    1.077</td> <td>    7.559</td> <td> 0.000</td> <td>    6.031</td> <td>   10.254</td>\n",
       "</tr>\n",
       "<tr>\n",
       "  <th>Tags_Interested in other courses</th>         <td>   -1.1072</td> <td>    0.768</td> <td>   -1.441</td> <td> 0.149</td> <td>   -2.613</td> <td>    0.398</td>\n",
       "</tr>\n",
       "<tr>\n",
       "  <th>Tags_Lost to EINS</th>                        <td>    7.5720</td> <td>    1.059</td> <td>    7.147</td> <td> 0.000</td> <td>    5.496</td> <td>    9.649</td>\n",
       "</tr>\n",
       "<tr>\n",
       "  <th>Tags_Ringing</th>                             <td>   -0.4486</td> <td>    0.366</td> <td>   -1.227</td> <td> 0.220</td> <td>   -1.165</td> <td>    0.268</td>\n",
       "</tr>\n",
       "<tr>\n",
       "  <th>Tags_Will revert after reading the email</th> <td>    6.6676</td> <td>    0.338</td> <td>   19.718</td> <td> 0.000</td> <td>    6.005</td> <td>    7.330</td>\n",
       "</tr>\n",
       "<tr>\n",
       "  <th>Tags_switched off</th>                        <td>   -1.1725</td> <td>    0.774</td> <td>   -1.514</td> <td> 0.130</td> <td>   -2.690</td> <td>    0.345</td>\n",
       "</tr>\n",
       "<tr>\n",
       "  <th>What is your current occupation_others</th>   <td>    1.0204</td> <td>    0.424</td> <td>    2.405</td> <td> 0.016</td> <td>    0.189</td> <td>    1.852</td>\n",
       "</tr>\n",
       "<tr>\n",
       "  <th>Last Activity_Email Bounced</th>              <td>   -2.0757</td> <td>    1.030</td> <td>   -2.016</td> <td> 0.044</td> <td>   -4.094</td> <td>   -0.057</td>\n",
       "</tr>\n",
       "<tr>\n",
       "  <th>Last Activity_SMS Sent</th>                   <td>    1.1490</td> <td>    0.245</td> <td>    4.685</td> <td> 0.000</td> <td>    0.668</td> <td>    1.630</td>\n",
       "</tr>\n",
       "</table>"
      ],
      "text/latex": [
       "\\begin{center}\n",
       "\\begin{tabular}{lclc}\n",
       "\\toprule\n",
       "\\textbf{Dep. Variable:}                            &    Converted     & \\textbf{  No. Observations:  } &     2899    \\\\\n",
       "\\textbf{Model:}                                    &      Logit       & \\textbf{  Df Residuals:      } &     2884    \\\\\n",
       "\\textbf{Method:}                                   &       MLE        & \\textbf{  Df Model:          } &       14    \\\\\n",
       "\\textbf{Date:}                                     & Mon, 19 Feb 2024 & \\textbf{  Pseudo R-squ.:     } &   0.8321    \\\\\n",
       "\\textbf{Time:}                                     &     04:25:51     & \\textbf{  Log-Likelihood:    } &   -334.14   \\\\\n",
       "\\textbf{converged:}                                &       True       & \\textbf{  LL-Null:           } &   -1990.5   \\\\\n",
       "\\textbf{Covariance Type:}                          &    nonrobust     & \\textbf{  LLR p-value:       } &    0.000    \\\\\n",
       "\\bottomrule\n",
       "\\end{tabular}\n",
       "\\begin{tabular}{lcccccc}\n",
       "                                                   & \\textbf{coef} & \\textbf{std err} & \\textbf{z} & \\textbf{P$> |$z$|$} & \\textbf{[0.025} & \\textbf{0.975]}  \\\\\n",
       "\\midrule\n",
       "\\textbf{const}                                     &      -5.2053  &        0.373     &   -13.946  &         0.000        &       -5.937    &       -4.474     \\\\\n",
       "\\textbf{Do Not Email}                              &      -0.8428  &        0.536     &    -1.573  &         0.116        &       -1.893    &        0.208     \\\\\n",
       "\\textbf{TotalVisits}                               &      20.5906  &        7.220     &     2.852  &         0.004        &        6.440    &       34.742     \\\\\n",
       "\\textbf{Total Time Spent on Website}               &       3.7682  &        0.454     &     8.301  &         0.000        &        2.878    &        4.658     \\\\\n",
       "\\textbf{Lead Source\\_others}                       &       1.2543  &        1.107     &     1.133  &         0.257        &       -0.916    &        3.425     \\\\\n",
       "\\textbf{Tags\\_Busy}                                &       3.3524  &        0.354     &     9.465  &         0.000        &        2.658    &        4.047     \\\\\n",
       "\\textbf{Tags\\_Closed by Horizzon}                  &       8.1425  &        1.077     &     7.559  &         0.000        &        6.031    &       10.254     \\\\\n",
       "\\textbf{Tags\\_Interested in other courses}         &      -1.1072  &        0.768     &    -1.441  &         0.149        &       -2.613    &        0.398     \\\\\n",
       "\\textbf{Tags\\_Lost to EINS}                        &       7.5720  &        1.059     &     7.147  &         0.000        &        5.496    &        9.649     \\\\\n",
       "\\textbf{Tags\\_Ringing}                             &      -0.4486  &        0.366     &    -1.227  &         0.220        &       -1.165    &        0.268     \\\\\n",
       "\\textbf{Tags\\_Will revert after reading the email} &       6.6676  &        0.338     &    19.718  &         0.000        &        6.005    &        7.330     \\\\\n",
       "\\textbf{Tags\\_switched off}                        &      -1.1725  &        0.774     &    -1.514  &         0.130        &       -2.690    &        0.345     \\\\\n",
       "\\textbf{What is your current occupation\\_others}   &       1.0204  &        0.424     &     2.405  &         0.016        &        0.189    &        1.852     \\\\\n",
       "\\textbf{Last Activity\\_Email Bounced}              &      -2.0757  &        1.030     &    -2.016  &         0.044        &       -4.094    &       -0.057     \\\\\n",
       "\\textbf{Last Activity\\_SMS Sent}                   &       1.1490  &        0.245     &     4.685  &         0.000        &        0.668    &        1.630     \\\\\n",
       "\\bottomrule\n",
       "\\end{tabular}\n",
       "%\\caption{Logit Regression Results}\n",
       "\\end{center}"
      ],
      "text/plain": [
       "<class 'statsmodels.iolib.summary.Summary'>\n",
       "\"\"\"\n",
       "                           Logit Regression Results                           \n",
       "==============================================================================\n",
       "Dep. Variable:              Converted   No. Observations:                 2899\n",
       "Model:                          Logit   Df Residuals:                     2884\n",
       "Method:                           MLE   Df Model:                           14\n",
       "Date:                Mon, 19 Feb 2024   Pseudo R-squ.:                  0.8321\n",
       "Time:                        04:25:51   Log-Likelihood:                -334.14\n",
       "converged:                       True   LL-Null:                       -1990.5\n",
       "Covariance Type:            nonrobust   LLR p-value:                     0.000\n",
       "============================================================================================================\n",
       "                                               coef    std err          z      P>|z|      [0.025      0.975]\n",
       "------------------------------------------------------------------------------------------------------------\n",
       "const                                       -5.2053      0.373    -13.946      0.000      -5.937      -4.474\n",
       "Do Not Email                                -0.8428      0.536     -1.573      0.116      -1.893       0.208\n",
       "TotalVisits                                 20.5906      7.220      2.852      0.004       6.440      34.742\n",
       "Total Time Spent on Website                  3.7682      0.454      8.301      0.000       2.878       4.658\n",
       "Lead Source_others                           1.2543      1.107      1.133      0.257      -0.916       3.425\n",
       "Tags_Busy                                    3.3524      0.354      9.465      0.000       2.658       4.047\n",
       "Tags_Closed by Horizzon                      8.1425      1.077      7.559      0.000       6.031      10.254\n",
       "Tags_Interested in other courses            -1.1072      0.768     -1.441      0.149      -2.613       0.398\n",
       "Tags_Lost to EINS                            7.5720      1.059      7.147      0.000       5.496       9.649\n",
       "Tags_Ringing                                -0.4486      0.366     -1.227      0.220      -1.165       0.268\n",
       "Tags_Will revert after reading the email     6.6676      0.338     19.718      0.000       6.005       7.330\n",
       "Tags_switched off                           -1.1725      0.774     -1.514      0.130      -2.690       0.345\n",
       "What is your current occupation_others       1.0204      0.424      2.405      0.016       0.189       1.852\n",
       "Last Activity_Email Bounced                 -2.0757      1.030     -2.016      0.044      -4.094      -0.057\n",
       "Last Activity_SMS Sent                       1.1490      0.245      4.685      0.000       0.668       1.630\n",
       "============================================================================================================\n",
       "\"\"\""
      ]
     },
     "execution_count": 99,
     "metadata": {},
     "output_type": "execute_result"
    }
   ],
   "source": [
    "# drop due to high p-value\n",
    "X_train_new.drop(['Tags_Not doing further education'],axis=1, inplace=True)\n",
    "lm = build_model(X_train_new, y_train)\n",
    "lm.summary()"
   ]
  },
  {
   "cell_type": "code",
   "execution_count": 100,
   "metadata": {},
   "outputs": [
    {
     "name": "stderr",
     "output_type": "stream",
     "text": [
      "/var/folders/gn/_m6452xj7mg0cf7j0dvwvlgw0000gn/T/ipykernel_65004/2865134204.py:1: SettingWithCopyWarning: \n",
      "A value is trying to be set on a copy of a slice from a DataFrame\n",
      "\n",
      "See the caveats in the documentation: https://pandas.pydata.org/pandas-docs/stable/user_guide/indexing.html#returning-a-view-versus-a-copy\n",
      "  X_train_new.drop(['Lead Source_others'],axis=1, inplace=True)\n"
     ]
    },
    {
     "name": "stdout",
     "output_type": "stream",
     "text": [
      "Optimization terminated successfully.\n",
      "         Current function value: 0.115492\n",
      "         Iterations 9\n"
     ]
    },
    {
     "data": {
      "text/html": [
       "<table class=\"simpletable\">\n",
       "<caption>Logit Regression Results</caption>\n",
       "<tr>\n",
       "  <th>Dep. Variable:</th>       <td>Converted</td>    <th>  No. Observations:  </th>  <td>  2899</td> \n",
       "</tr>\n",
       "<tr>\n",
       "  <th>Model:</th>                 <td>Logit</td>      <th>  Df Residuals:      </th>  <td>  2885</td> \n",
       "</tr>\n",
       "<tr>\n",
       "  <th>Method:</th>                 <td>MLE</td>       <th>  Df Model:          </th>  <td>    13</td> \n",
       "</tr>\n",
       "<tr>\n",
       "  <th>Date:</th>            <td>Mon, 19 Feb 2024</td> <th>  Pseudo R-squ.:     </th>  <td>0.8318</td> \n",
       "</tr>\n",
       "<tr>\n",
       "  <th>Time:</th>                <td>04:26:10</td>     <th>  Log-Likelihood:    </th> <td> -334.81</td>\n",
       "</tr>\n",
       "<tr>\n",
       "  <th>converged:</th>             <td>True</td>       <th>  LL-Null:           </th> <td> -1990.5</td>\n",
       "</tr>\n",
       "<tr>\n",
       "  <th>Covariance Type:</th>     <td>nonrobust</td>    <th>  LLR p-value:       </th>  <td> 0.000</td> \n",
       "</tr>\n",
       "</table>\n",
       "<table class=\"simpletable\">\n",
       "<tr>\n",
       "                      <td></td>                        <th>coef</th>     <th>std err</th>      <th>z</th>      <th>P>|z|</th>  <th>[0.025</th>    <th>0.975]</th>  \n",
       "</tr>\n",
       "<tr>\n",
       "  <th>const</th>                                    <td>   -5.1724</td> <td>    0.370</td> <td>  -13.980</td> <td> 0.000</td> <td>   -5.898</td> <td>   -4.447</td>\n",
       "</tr>\n",
       "<tr>\n",
       "  <th>Do Not Email</th>                             <td>   -0.8512</td> <td>    0.537</td> <td>   -1.586</td> <td> 0.113</td> <td>   -1.903</td> <td>    0.201</td>\n",
       "</tr>\n",
       "<tr>\n",
       "  <th>TotalVisits</th>                              <td>   20.7689</td> <td>    7.149</td> <td>    2.905</td> <td> 0.004</td> <td>    6.757</td> <td>   34.780</td>\n",
       "</tr>\n",
       "<tr>\n",
       "  <th>Total Time Spent on Website</th>              <td>    3.7424</td> <td>    0.452</td> <td>    8.275</td> <td> 0.000</td> <td>    2.856</td> <td>    4.629</td>\n",
       "</tr>\n",
       "<tr>\n",
       "  <th>Tags_Busy</th>                                <td>    3.3492</td> <td>    0.353</td> <td>    9.484</td> <td> 0.000</td> <td>    2.657</td> <td>    4.041</td>\n",
       "</tr>\n",
       "<tr>\n",
       "  <th>Tags_Closed by Horizzon</th>                  <td>    8.2352</td> <td>    1.074</td> <td>    7.668</td> <td> 0.000</td> <td>    6.130</td> <td>   10.340</td>\n",
       "</tr>\n",
       "<tr>\n",
       "  <th>Tags_Interested in other courses</th>         <td>   -1.1278</td> <td>    0.768</td> <td>   -1.469</td> <td> 0.142</td> <td>   -2.632</td> <td>    0.377</td>\n",
       "</tr>\n",
       "<tr>\n",
       "  <th>Tags_Lost to EINS</th>                        <td>    7.5418</td> <td>    1.059</td> <td>    7.124</td> <td> 0.000</td> <td>    5.467</td> <td>    9.617</td>\n",
       "</tr>\n",
       "<tr>\n",
       "  <th>Tags_Ringing</th>                             <td>   -0.4608</td> <td>    0.364</td> <td>   -1.265</td> <td> 0.206</td> <td>   -1.175</td> <td>    0.253</td>\n",
       "</tr>\n",
       "<tr>\n",
       "  <th>Tags_Will revert after reading the email</th> <td>    6.6605</td> <td>    0.337</td> <td>   19.746</td> <td> 0.000</td> <td>    5.999</td> <td>    7.322</td>\n",
       "</tr>\n",
       "<tr>\n",
       "  <th>Tags_switched off</th>                        <td>   -1.1846</td> <td>    0.774</td> <td>   -1.531</td> <td> 0.126</td> <td>   -2.701</td> <td>    0.332</td>\n",
       "</tr>\n",
       "<tr>\n",
       "  <th>What is your current occupation_others</th>   <td>    1.0276</td> <td>    0.426</td> <td>    2.413</td> <td> 0.016</td> <td>    0.193</td> <td>    1.862</td>\n",
       "</tr>\n",
       "<tr>\n",
       "  <th>Last Activity_Email Bounced</th>              <td>   -2.1063</td> <td>    1.033</td> <td>   -2.040</td> <td> 0.041</td> <td>   -4.130</td> <td>   -0.083</td>\n",
       "</tr>\n",
       "<tr>\n",
       "  <th>Last Activity_SMS Sent</th>                   <td>    1.1290</td> <td>    0.244</td> <td>    4.622</td> <td> 0.000</td> <td>    0.650</td> <td>    1.608</td>\n",
       "</tr>\n",
       "</table>"
      ],
      "text/latex": [
       "\\begin{center}\n",
       "\\begin{tabular}{lclc}\n",
       "\\toprule\n",
       "\\textbf{Dep. Variable:}                            &    Converted     & \\textbf{  No. Observations:  } &     2899    \\\\\n",
       "\\textbf{Model:}                                    &      Logit       & \\textbf{  Df Residuals:      } &     2885    \\\\\n",
       "\\textbf{Method:}                                   &       MLE        & \\textbf{  Df Model:          } &       13    \\\\\n",
       "\\textbf{Date:}                                     & Mon, 19 Feb 2024 & \\textbf{  Pseudo R-squ.:     } &   0.8318    \\\\\n",
       "\\textbf{Time:}                                     &     04:26:10     & \\textbf{  Log-Likelihood:    } &   -334.81   \\\\\n",
       "\\textbf{converged:}                                &       True       & \\textbf{  LL-Null:           } &   -1990.5   \\\\\n",
       "\\textbf{Covariance Type:}                          &    nonrobust     & \\textbf{  LLR p-value:       } &    0.000    \\\\\n",
       "\\bottomrule\n",
       "\\end{tabular}\n",
       "\\begin{tabular}{lcccccc}\n",
       "                                                   & \\textbf{coef} & \\textbf{std err} & \\textbf{z} & \\textbf{P$> |$z$|$} & \\textbf{[0.025} & \\textbf{0.975]}  \\\\\n",
       "\\midrule\n",
       "\\textbf{const}                                     &      -5.1724  &        0.370     &   -13.980  &         0.000        &       -5.898    &       -4.447     \\\\\n",
       "\\textbf{Do Not Email}                              &      -0.8512  &        0.537     &    -1.586  &         0.113        &       -1.903    &        0.201     \\\\\n",
       "\\textbf{TotalVisits}                               &      20.7689  &        7.149     &     2.905  &         0.004        &        6.757    &       34.780     \\\\\n",
       "\\textbf{Total Time Spent on Website}               &       3.7424  &        0.452     &     8.275  &         0.000        &        2.856    &        4.629     \\\\\n",
       "\\textbf{Tags\\_Busy}                                &       3.3492  &        0.353     &     9.484  &         0.000        &        2.657    &        4.041     \\\\\n",
       "\\textbf{Tags\\_Closed by Horizzon}                  &       8.2352  &        1.074     &     7.668  &         0.000        &        6.130    &       10.340     \\\\\n",
       "\\textbf{Tags\\_Interested in other courses}         &      -1.1278  &        0.768     &    -1.469  &         0.142        &       -2.632    &        0.377     \\\\\n",
       "\\textbf{Tags\\_Lost to EINS}                        &       7.5418  &        1.059     &     7.124  &         0.000        &        5.467    &        9.617     \\\\\n",
       "\\textbf{Tags\\_Ringing}                             &      -0.4608  &        0.364     &    -1.265  &         0.206        &       -1.175    &        0.253     \\\\\n",
       "\\textbf{Tags\\_Will revert after reading the email} &       6.6605  &        0.337     &    19.746  &         0.000        &        5.999    &        7.322     \\\\\n",
       "\\textbf{Tags\\_switched off}                        &      -1.1846  &        0.774     &    -1.531  &         0.126        &       -2.701    &        0.332     \\\\\n",
       "\\textbf{What is your current occupation\\_others}   &       1.0276  &        0.426     &     2.413  &         0.016        &        0.193    &        1.862     \\\\\n",
       "\\textbf{Last Activity\\_Email Bounced}              &      -2.1063  &        1.033     &    -2.040  &         0.041        &       -4.130    &       -0.083     \\\\\n",
       "\\textbf{Last Activity\\_SMS Sent}                   &       1.1290  &        0.244     &     4.622  &         0.000        &        0.650    &        1.608     \\\\\n",
       "\\bottomrule\n",
       "\\end{tabular}\n",
       "%\\caption{Logit Regression Results}\n",
       "\\end{center}"
      ],
      "text/plain": [
       "<class 'statsmodels.iolib.summary.Summary'>\n",
       "\"\"\"\n",
       "                           Logit Regression Results                           \n",
       "==============================================================================\n",
       "Dep. Variable:              Converted   No. Observations:                 2899\n",
       "Model:                          Logit   Df Residuals:                     2885\n",
       "Method:                           MLE   Df Model:                           13\n",
       "Date:                Mon, 19 Feb 2024   Pseudo R-squ.:                  0.8318\n",
       "Time:                        04:26:10   Log-Likelihood:                -334.81\n",
       "converged:                       True   LL-Null:                       -1990.5\n",
       "Covariance Type:            nonrobust   LLR p-value:                     0.000\n",
       "============================================================================================================\n",
       "                                               coef    std err          z      P>|z|      [0.025      0.975]\n",
       "------------------------------------------------------------------------------------------------------------\n",
       "const                                       -5.1724      0.370    -13.980      0.000      -5.898      -4.447\n",
       "Do Not Email                                -0.8512      0.537     -1.586      0.113      -1.903       0.201\n",
       "TotalVisits                                 20.7689      7.149      2.905      0.004       6.757      34.780\n",
       "Total Time Spent on Website                  3.7424      0.452      8.275      0.000       2.856       4.629\n",
       "Tags_Busy                                    3.3492      0.353      9.484      0.000       2.657       4.041\n",
       "Tags_Closed by Horizzon                      8.2352      1.074      7.668      0.000       6.130      10.340\n",
       "Tags_Interested in other courses            -1.1278      0.768     -1.469      0.142      -2.632       0.377\n",
       "Tags_Lost to EINS                            7.5418      1.059      7.124      0.000       5.467       9.617\n",
       "Tags_Ringing                                -0.4608      0.364     -1.265      0.206      -1.175       0.253\n",
       "Tags_Will revert after reading the email     6.6605      0.337     19.746      0.000       5.999       7.322\n",
       "Tags_switched off                           -1.1846      0.774     -1.531      0.126      -2.701       0.332\n",
       "What is your current occupation_others       1.0276      0.426      2.413      0.016       0.193       1.862\n",
       "Last Activity_Email Bounced                 -2.1063      1.033     -2.040      0.041      -4.130      -0.083\n",
       "Last Activity_SMS Sent                       1.1290      0.244      4.622      0.000       0.650       1.608\n",
       "============================================================================================================\n",
       "\"\"\""
      ]
     },
     "execution_count": 100,
     "metadata": {},
     "output_type": "execute_result"
    }
   ],
   "source": [
    "X_train_new.drop(['Lead Source_others'],axis=1, inplace=True)\n",
    "lm = build_model(X_train_new, y_train)\n",
    "lm.summary()"
   ]
  },
  {
   "cell_type": "code",
   "execution_count": 101,
   "metadata": {},
   "outputs": [
    {
     "name": "stderr",
     "output_type": "stream",
     "text": [
      "/var/folders/gn/_m6452xj7mg0cf7j0dvwvlgw0000gn/T/ipykernel_65004/1735103287.py:1: SettingWithCopyWarning: \n",
      "A value is trying to be set on a copy of a slice from a DataFrame\n",
      "\n",
      "See the caveats in the documentation: https://pandas.pydata.org/pandas-docs/stable/user_guide/indexing.html#returning-a-view-versus-a-copy\n",
      "  X_train_new.drop(['Tags_Ringing'],axis=1, inplace=True)\n"
     ]
    },
    {
     "name": "stdout",
     "output_type": "stream",
     "text": [
      "Optimization terminated successfully.\n",
      "         Current function value: 0.115765\n",
      "         Iterations 9\n"
     ]
    },
    {
     "data": {
      "text/html": [
       "<table class=\"simpletable\">\n",
       "<caption>Logit Regression Results</caption>\n",
       "<tr>\n",
       "  <th>Dep. Variable:</th>       <td>Converted</td>    <th>  No. Observations:  </th>  <td>  2899</td> \n",
       "</tr>\n",
       "<tr>\n",
       "  <th>Model:</th>                 <td>Logit</td>      <th>  Df Residuals:      </th>  <td>  2886</td> \n",
       "</tr>\n",
       "<tr>\n",
       "  <th>Method:</th>                 <td>MLE</td>       <th>  Df Model:          </th>  <td>    12</td> \n",
       "</tr>\n",
       "<tr>\n",
       "  <th>Date:</th>            <td>Mon, 19 Feb 2024</td> <th>  Pseudo R-squ.:     </th>  <td>0.8314</td> \n",
       "</tr>\n",
       "<tr>\n",
       "  <th>Time:</th>                <td>04:26:21</td>     <th>  Log-Likelihood:    </th> <td> -335.60</td>\n",
       "</tr>\n",
       "<tr>\n",
       "  <th>converged:</th>             <td>True</td>       <th>  LL-Null:           </th> <td> -1990.5</td>\n",
       "</tr>\n",
       "<tr>\n",
       "  <th>Covariance Type:</th>     <td>nonrobust</td>    <th>  LLR p-value:       </th>  <td> 0.000</td> \n",
       "</tr>\n",
       "</table>\n",
       "<table class=\"simpletable\">\n",
       "<tr>\n",
       "                      <td></td>                        <th>coef</th>     <th>std err</th>      <th>z</th>      <th>P>|z|</th>  <th>[0.025</th>    <th>0.975]</th>  \n",
       "</tr>\n",
       "<tr>\n",
       "  <th>const</th>                                    <td>   -5.3928</td> <td>    0.338</td> <td>  -15.961</td> <td> 0.000</td> <td>   -6.055</td> <td>   -4.731</td>\n",
       "</tr>\n",
       "<tr>\n",
       "  <th>Do Not Email</th>                             <td>   -0.7833</td> <td>    0.538</td> <td>   -1.456</td> <td> 0.145</td> <td>   -1.837</td> <td>    0.271</td>\n",
       "</tr>\n",
       "<tr>\n",
       "  <th>TotalVisits</th>                              <td>   20.0471</td> <td>    7.196</td> <td>    2.786</td> <td> 0.005</td> <td>    5.943</td> <td>   34.151</td>\n",
       "</tr>\n",
       "<tr>\n",
       "  <th>Total Time Spent on Website</th>              <td>    3.7247</td> <td>    0.452</td> <td>    8.243</td> <td> 0.000</td> <td>    2.839</td> <td>    4.610</td>\n",
       "</tr>\n",
       "<tr>\n",
       "  <th>Tags_Busy</th>                                <td>    3.6234</td> <td>    0.289</td> <td>   12.525</td> <td> 0.000</td> <td>    3.056</td> <td>    4.190</td>\n",
       "</tr>\n",
       "<tr>\n",
       "  <th>Tags_Closed by Horizzon</th>                  <td>    8.4498</td> <td>    1.060</td> <td>    7.968</td> <td> 0.000</td> <td>    6.371</td> <td>   10.528</td>\n",
       "</tr>\n",
       "<tr>\n",
       "  <th>Tags_Interested in other courses</th>         <td>   -0.8969</td> <td>    0.751</td> <td>   -1.195</td> <td> 0.232</td> <td>   -2.368</td> <td>    0.575</td>\n",
       "</tr>\n",
       "<tr>\n",
       "  <th>Tags_Lost to EINS</th>                        <td>    7.7755</td> <td>    1.045</td> <td>    7.437</td> <td> 0.000</td> <td>    5.726</td> <td>    9.825</td>\n",
       "</tr>\n",
       "<tr>\n",
       "  <th>Tags_Will revert after reading the email</th> <td>    6.9028</td> <td>    0.289</td> <td>   23.896</td> <td> 0.000</td> <td>    6.337</td> <td>    7.469</td>\n",
       "</tr>\n",
       "<tr>\n",
       "  <th>Tags_switched off</th>                        <td>   -0.9029</td> <td>    0.744</td> <td>   -1.213</td> <td> 0.225</td> <td>   -2.362</td> <td>    0.556</td>\n",
       "</tr>\n",
       "<tr>\n",
       "  <th>What is your current occupation_others</th>   <td>    1.1069</td> <td>    0.435</td> <td>    2.546</td> <td> 0.011</td> <td>    0.255</td> <td>    1.959</td>\n",
       "</tr>\n",
       "<tr>\n",
       "  <th>Last Activity_Email Bounced</th>              <td>   -2.1645</td> <td>    1.037</td> <td>   -2.087</td> <td> 0.037</td> <td>   -4.197</td> <td>   -0.132</td>\n",
       "</tr>\n",
       "<tr>\n",
       "  <th>Last Activity_SMS Sent</th>                   <td>    1.0601</td> <td>    0.236</td> <td>    4.488</td> <td> 0.000</td> <td>    0.597</td> <td>    1.523</td>\n",
       "</tr>\n",
       "</table>"
      ],
      "text/latex": [
       "\\begin{center}\n",
       "\\begin{tabular}{lclc}\n",
       "\\toprule\n",
       "\\textbf{Dep. Variable:}                            &    Converted     & \\textbf{  No. Observations:  } &     2899    \\\\\n",
       "\\textbf{Model:}                                    &      Logit       & \\textbf{  Df Residuals:      } &     2886    \\\\\n",
       "\\textbf{Method:}                                   &       MLE        & \\textbf{  Df Model:          } &       12    \\\\\n",
       "\\textbf{Date:}                                     & Mon, 19 Feb 2024 & \\textbf{  Pseudo R-squ.:     } &   0.8314    \\\\\n",
       "\\textbf{Time:}                                     &     04:26:21     & \\textbf{  Log-Likelihood:    } &   -335.60   \\\\\n",
       "\\textbf{converged:}                                &       True       & \\textbf{  LL-Null:           } &   -1990.5   \\\\\n",
       "\\textbf{Covariance Type:}                          &    nonrobust     & \\textbf{  LLR p-value:       } &    0.000    \\\\\n",
       "\\bottomrule\n",
       "\\end{tabular}\n",
       "\\begin{tabular}{lcccccc}\n",
       "                                                   & \\textbf{coef} & \\textbf{std err} & \\textbf{z} & \\textbf{P$> |$z$|$} & \\textbf{[0.025} & \\textbf{0.975]}  \\\\\n",
       "\\midrule\n",
       "\\textbf{const}                                     &      -5.3928  &        0.338     &   -15.961  &         0.000        &       -6.055    &       -4.731     \\\\\n",
       "\\textbf{Do Not Email}                              &      -0.7833  &        0.538     &    -1.456  &         0.145        &       -1.837    &        0.271     \\\\\n",
       "\\textbf{TotalVisits}                               &      20.0471  &        7.196     &     2.786  &         0.005        &        5.943    &       34.151     \\\\\n",
       "\\textbf{Total Time Spent on Website}               &       3.7247  &        0.452     &     8.243  &         0.000        &        2.839    &        4.610     \\\\\n",
       "\\textbf{Tags\\_Busy}                                &       3.6234  &        0.289     &    12.525  &         0.000        &        3.056    &        4.190     \\\\\n",
       "\\textbf{Tags\\_Closed by Horizzon}                  &       8.4498  &        1.060     &     7.968  &         0.000        &        6.371    &       10.528     \\\\\n",
       "\\textbf{Tags\\_Interested in other courses}         &      -0.8969  &        0.751     &    -1.195  &         0.232        &       -2.368    &        0.575     \\\\\n",
       "\\textbf{Tags\\_Lost to EINS}                        &       7.7755  &        1.045     &     7.437  &         0.000        &        5.726    &        9.825     \\\\\n",
       "\\textbf{Tags\\_Will revert after reading the email} &       6.9028  &        0.289     &    23.896  &         0.000        &        6.337    &        7.469     \\\\\n",
       "\\textbf{Tags\\_switched off}                        &      -0.9029  &        0.744     &    -1.213  &         0.225        &       -2.362    &        0.556     \\\\\n",
       "\\textbf{What is your current occupation\\_others}   &       1.1069  &        0.435     &     2.546  &         0.011        &        0.255    &        1.959     \\\\\n",
       "\\textbf{Last Activity\\_Email Bounced}              &      -2.1645  &        1.037     &    -2.087  &         0.037        &       -4.197    &       -0.132     \\\\\n",
       "\\textbf{Last Activity\\_SMS Sent}                   &       1.0601  &        0.236     &     4.488  &         0.000        &        0.597    &        1.523     \\\\\n",
       "\\bottomrule\n",
       "\\end{tabular}\n",
       "%\\caption{Logit Regression Results}\n",
       "\\end{center}"
      ],
      "text/plain": [
       "<class 'statsmodels.iolib.summary.Summary'>\n",
       "\"\"\"\n",
       "                           Logit Regression Results                           \n",
       "==============================================================================\n",
       "Dep. Variable:              Converted   No. Observations:                 2899\n",
       "Model:                          Logit   Df Residuals:                     2886\n",
       "Method:                           MLE   Df Model:                           12\n",
       "Date:                Mon, 19 Feb 2024   Pseudo R-squ.:                  0.8314\n",
       "Time:                        04:26:21   Log-Likelihood:                -335.60\n",
       "converged:                       True   LL-Null:                       -1990.5\n",
       "Covariance Type:            nonrobust   LLR p-value:                     0.000\n",
       "============================================================================================================\n",
       "                                               coef    std err          z      P>|z|      [0.025      0.975]\n",
       "------------------------------------------------------------------------------------------------------------\n",
       "const                                       -5.3928      0.338    -15.961      0.000      -6.055      -4.731\n",
       "Do Not Email                                -0.7833      0.538     -1.456      0.145      -1.837       0.271\n",
       "TotalVisits                                 20.0471      7.196      2.786      0.005       5.943      34.151\n",
       "Total Time Spent on Website                  3.7247      0.452      8.243      0.000       2.839       4.610\n",
       "Tags_Busy                                    3.6234      0.289     12.525      0.000       3.056       4.190\n",
       "Tags_Closed by Horizzon                      8.4498      1.060      7.968      0.000       6.371      10.528\n",
       "Tags_Interested in other courses            -0.8969      0.751     -1.195      0.232      -2.368       0.575\n",
       "Tags_Lost to EINS                            7.7755      1.045      7.437      0.000       5.726       9.825\n",
       "Tags_Will revert after reading the email     6.9028      0.289     23.896      0.000       6.337       7.469\n",
       "Tags_switched off                           -0.9029      0.744     -1.213      0.225      -2.362       0.556\n",
       "What is your current occupation_others       1.1069      0.435      2.546      0.011       0.255       1.959\n",
       "Last Activity_Email Bounced                 -2.1645      1.037     -2.087      0.037      -4.197      -0.132\n",
       "Last Activity_SMS Sent                       1.0601      0.236      4.488      0.000       0.597       1.523\n",
       "============================================================================================================\n",
       "\"\"\""
      ]
     },
     "execution_count": 101,
     "metadata": {},
     "output_type": "execute_result"
    }
   ],
   "source": [
    "X_train_new.drop(['Tags_Ringing'],axis=1, inplace=True)\n",
    "lm = build_model(X_train_new, y_train)\n",
    "lm.summary()"
   ]
  },
  {
   "cell_type": "code",
   "execution_count": 102,
   "metadata": {},
   "outputs": [
    {
     "name": "stderr",
     "output_type": "stream",
     "text": [
      "/var/folders/gn/_m6452xj7mg0cf7j0dvwvlgw0000gn/T/ipykernel_65004/2761456310.py:1: SettingWithCopyWarning: \n",
      "A value is trying to be set on a copy of a slice from a DataFrame\n",
      "\n",
      "See the caveats in the documentation: https://pandas.pydata.org/pandas-docs/stable/user_guide/indexing.html#returning-a-view-versus-a-copy\n",
      "  X_train_new.drop(['Tags_Interested in other courses'],axis=1, inplace=True)\n"
     ]
    },
    {
     "name": "stdout",
     "output_type": "stream",
     "text": [
      "Optimization terminated successfully.\n",
      "         Current function value: 0.116076\n",
      "         Iterations 9\n"
     ]
    },
    {
     "data": {
      "text/html": [
       "<table class=\"simpletable\">\n",
       "<caption>Logit Regression Results</caption>\n",
       "<tr>\n",
       "  <th>Dep. Variable:</th>       <td>Converted</td>    <th>  No. Observations:  </th>  <td>  2899</td> \n",
       "</tr>\n",
       "<tr>\n",
       "  <th>Model:</th>                 <td>Logit</td>      <th>  Df Residuals:      </th>  <td>  2887</td> \n",
       "</tr>\n",
       "<tr>\n",
       "  <th>Method:</th>                 <td>MLE</td>       <th>  Df Model:          </th>  <td>    11</td> \n",
       "</tr>\n",
       "<tr>\n",
       "  <th>Date:</th>            <td>Mon, 19 Feb 2024</td> <th>  Pseudo R-squ.:     </th>  <td>0.8309</td> \n",
       "</tr>\n",
       "<tr>\n",
       "  <th>Time:</th>                <td>04:26:36</td>     <th>  Log-Likelihood:    </th> <td> -336.51</td>\n",
       "</tr>\n",
       "<tr>\n",
       "  <th>converged:</th>             <td>True</td>       <th>  LL-Null:           </th> <td> -1990.5</td>\n",
       "</tr>\n",
       "<tr>\n",
       "  <th>Covariance Type:</th>     <td>nonrobust</td>    <th>  LLR p-value:       </th>  <td> 0.000</td> \n",
       "</tr>\n",
       "</table>\n",
       "<table class=\"simpletable\">\n",
       "<tr>\n",
       "                      <td></td>                        <th>coef</th>     <th>std err</th>      <th>z</th>      <th>P>|z|</th>  <th>[0.025</th>    <th>0.975]</th>  \n",
       "</tr>\n",
       "<tr>\n",
       "  <th>const</th>                                    <td>   -5.4892</td> <td>    0.334</td> <td>  -16.430</td> <td> 0.000</td> <td>   -6.144</td> <td>   -4.834</td>\n",
       "</tr>\n",
       "<tr>\n",
       "  <th>Do Not Email</th>                             <td>   -0.7638</td> <td>    0.541</td> <td>   -1.412</td> <td> 0.158</td> <td>   -1.824</td> <td>    0.296</td>\n",
       "</tr>\n",
       "<tr>\n",
       "  <th>TotalVisits</th>                              <td>   20.4016</td> <td>    7.204</td> <td>    2.832</td> <td> 0.005</td> <td>    6.282</td> <td>   34.521</td>\n",
       "</tr>\n",
       "<tr>\n",
       "  <th>Total Time Spent on Website</th>              <td>    3.7118</td> <td>    0.451</td> <td>    8.229</td> <td> 0.000</td> <td>    2.828</td> <td>    4.596</td>\n",
       "</tr>\n",
       "<tr>\n",
       "  <th>Tags_Busy</th>                                <td>    3.6862</td> <td>    0.288</td> <td>   12.818</td> <td> 0.000</td> <td>    3.123</td> <td>    4.250</td>\n",
       "</tr>\n",
       "<tr>\n",
       "  <th>Tags_Closed by Horizzon</th>                  <td>    8.5541</td> <td>    1.060</td> <td>    8.072</td> <td> 0.000</td> <td>    6.477</td> <td>   10.631</td>\n",
       "</tr>\n",
       "<tr>\n",
       "  <th>Tags_Lost to EINS</th>                        <td>    7.8702</td> <td>    1.044</td> <td>    7.539</td> <td> 0.000</td> <td>    5.824</td> <td>    9.916</td>\n",
       "</tr>\n",
       "<tr>\n",
       "  <th>Tags_Will revert after reading the email</th> <td>    6.9896</td> <td>    0.285</td> <td>   24.549</td> <td> 0.000</td> <td>    6.432</td> <td>    7.548</td>\n",
       "</tr>\n",
       "<tr>\n",
       "  <th>Tags_switched off</th>                        <td>   -0.8446</td> <td>    0.744</td> <td>   -1.135</td> <td> 0.256</td> <td>   -2.303</td> <td>    0.614</td>\n",
       "</tr>\n",
       "<tr>\n",
       "  <th>What is your current occupation_others</th>   <td>    1.0489</td> <td>    0.423</td> <td>    2.477</td> <td> 0.013</td> <td>    0.219</td> <td>    1.879</td>\n",
       "</tr>\n",
       "<tr>\n",
       "  <th>Last Activity_Email Bounced</th>              <td>   -2.1654</td> <td>    1.038</td> <td>   -2.087</td> <td> 0.037</td> <td>   -4.199</td> <td>   -0.131</td>\n",
       "</tr>\n",
       "<tr>\n",
       "  <th>Last Activity_SMS Sent</th>                   <td>    1.1128</td> <td>    0.235</td> <td>    4.733</td> <td> 0.000</td> <td>    0.652</td> <td>    1.574</td>\n",
       "</tr>\n",
       "</table>"
      ],
      "text/latex": [
       "\\begin{center}\n",
       "\\begin{tabular}{lclc}\n",
       "\\toprule\n",
       "\\textbf{Dep. Variable:}                            &    Converted     & \\textbf{  No. Observations:  } &     2899    \\\\\n",
       "\\textbf{Model:}                                    &      Logit       & \\textbf{  Df Residuals:      } &     2887    \\\\\n",
       "\\textbf{Method:}                                   &       MLE        & \\textbf{  Df Model:          } &       11    \\\\\n",
       "\\textbf{Date:}                                     & Mon, 19 Feb 2024 & \\textbf{  Pseudo R-squ.:     } &   0.8309    \\\\\n",
       "\\textbf{Time:}                                     &     04:26:36     & \\textbf{  Log-Likelihood:    } &   -336.51   \\\\\n",
       "\\textbf{converged:}                                &       True       & \\textbf{  LL-Null:           } &   -1990.5   \\\\\n",
       "\\textbf{Covariance Type:}                          &    nonrobust     & \\textbf{  LLR p-value:       } &    0.000    \\\\\n",
       "\\bottomrule\n",
       "\\end{tabular}\n",
       "\\begin{tabular}{lcccccc}\n",
       "                                                   & \\textbf{coef} & \\textbf{std err} & \\textbf{z} & \\textbf{P$> |$z$|$} & \\textbf{[0.025} & \\textbf{0.975]}  \\\\\n",
       "\\midrule\n",
       "\\textbf{const}                                     &      -5.4892  &        0.334     &   -16.430  &         0.000        &       -6.144    &       -4.834     \\\\\n",
       "\\textbf{Do Not Email}                              &      -0.7638  &        0.541     &    -1.412  &         0.158        &       -1.824    &        0.296     \\\\\n",
       "\\textbf{TotalVisits}                               &      20.4016  &        7.204     &     2.832  &         0.005        &        6.282    &       34.521     \\\\\n",
       "\\textbf{Total Time Spent on Website}               &       3.7118  &        0.451     &     8.229  &         0.000        &        2.828    &        4.596     \\\\\n",
       "\\textbf{Tags\\_Busy}                                &       3.6862  &        0.288     &    12.818  &         0.000        &        3.123    &        4.250     \\\\\n",
       "\\textbf{Tags\\_Closed by Horizzon}                  &       8.5541  &        1.060     &     8.072  &         0.000        &        6.477    &       10.631     \\\\\n",
       "\\textbf{Tags\\_Lost to EINS}                        &       7.8702  &        1.044     &     7.539  &         0.000        &        5.824    &        9.916     \\\\\n",
       "\\textbf{Tags\\_Will revert after reading the email} &       6.9896  &        0.285     &    24.549  &         0.000        &        6.432    &        7.548     \\\\\n",
       "\\textbf{Tags\\_switched off}                        &      -0.8446  &        0.744     &    -1.135  &         0.256        &       -2.303    &        0.614     \\\\\n",
       "\\textbf{What is your current occupation\\_others}   &       1.0489  &        0.423     &     2.477  &         0.013        &        0.219    &        1.879     \\\\\n",
       "\\textbf{Last Activity\\_Email Bounced}              &      -2.1654  &        1.038     &    -2.087  &         0.037        &       -4.199    &       -0.131     \\\\\n",
       "\\textbf{Last Activity\\_SMS Sent}                   &       1.1128  &        0.235     &     4.733  &         0.000        &        0.652    &        1.574     \\\\\n",
       "\\bottomrule\n",
       "\\end{tabular}\n",
       "%\\caption{Logit Regression Results}\n",
       "\\end{center}"
      ],
      "text/plain": [
       "<class 'statsmodels.iolib.summary.Summary'>\n",
       "\"\"\"\n",
       "                           Logit Regression Results                           \n",
       "==============================================================================\n",
       "Dep. Variable:              Converted   No. Observations:                 2899\n",
       "Model:                          Logit   Df Residuals:                     2887\n",
       "Method:                           MLE   Df Model:                           11\n",
       "Date:                Mon, 19 Feb 2024   Pseudo R-squ.:                  0.8309\n",
       "Time:                        04:26:36   Log-Likelihood:                -336.51\n",
       "converged:                       True   LL-Null:                       -1990.5\n",
       "Covariance Type:            nonrobust   LLR p-value:                     0.000\n",
       "============================================================================================================\n",
       "                                               coef    std err          z      P>|z|      [0.025      0.975]\n",
       "------------------------------------------------------------------------------------------------------------\n",
       "const                                       -5.4892      0.334    -16.430      0.000      -6.144      -4.834\n",
       "Do Not Email                                -0.7638      0.541     -1.412      0.158      -1.824       0.296\n",
       "TotalVisits                                 20.4016      7.204      2.832      0.005       6.282      34.521\n",
       "Total Time Spent on Website                  3.7118      0.451      8.229      0.000       2.828       4.596\n",
       "Tags_Busy                                    3.6862      0.288     12.818      0.000       3.123       4.250\n",
       "Tags_Closed by Horizzon                      8.5541      1.060      8.072      0.000       6.477      10.631\n",
       "Tags_Lost to EINS                            7.8702      1.044      7.539      0.000       5.824       9.916\n",
       "Tags_Will revert after reading the email     6.9896      0.285     24.549      0.000       6.432       7.548\n",
       "Tags_switched off                           -0.8446      0.744     -1.135      0.256      -2.303       0.614\n",
       "What is your current occupation_others       1.0489      0.423      2.477      0.013       0.219       1.879\n",
       "Last Activity_Email Bounced                 -2.1654      1.038     -2.087      0.037      -4.199      -0.131\n",
       "Last Activity_SMS Sent                       1.1128      0.235      4.733      0.000       0.652       1.574\n",
       "============================================================================================================\n",
       "\"\"\""
      ]
     },
     "execution_count": 102,
     "metadata": {},
     "output_type": "execute_result"
    }
   ],
   "source": [
    "X_train_new.drop(['Tags_Interested in other courses'],axis=1, inplace=True)\n",
    "lm = build_model(X_train_new, y_train)\n",
    "lm.summary()"
   ]
  },
  {
   "cell_type": "code",
   "execution_count": 103,
   "metadata": {},
   "outputs": [
    {
     "name": "stderr",
     "output_type": "stream",
     "text": [
      "/var/folders/gn/_m6452xj7mg0cf7j0dvwvlgw0000gn/T/ipykernel_65004/2273174914.py:1: SettingWithCopyWarning: \n",
      "A value is trying to be set on a copy of a slice from a DataFrame\n",
      "\n",
      "See the caveats in the documentation: https://pandas.pydata.org/pandas-docs/stable/user_guide/indexing.html#returning-a-view-versus-a-copy\n",
      "  X_train_new.drop(['Tags_switched off'],axis=1, inplace=True)\n"
     ]
    },
    {
     "name": "stdout",
     "output_type": "stream",
     "text": [
      "Optimization terminated successfully.\n",
      "         Current function value: 0.116357\n",
      "         Iterations 9\n"
     ]
    },
    {
     "data": {
      "text/html": [
       "<table class=\"simpletable\">\n",
       "<caption>Logit Regression Results</caption>\n",
       "<tr>\n",
       "  <th>Dep. Variable:</th>       <td>Converted</td>    <th>  No. Observations:  </th>  <td>  2899</td> \n",
       "</tr>\n",
       "<tr>\n",
       "  <th>Model:</th>                 <td>Logit</td>      <th>  Df Residuals:      </th>  <td>  2888</td> \n",
       "</tr>\n",
       "<tr>\n",
       "  <th>Method:</th>                 <td>MLE</td>       <th>  Df Model:          </th>  <td>    10</td> \n",
       "</tr>\n",
       "<tr>\n",
       "  <th>Date:</th>            <td>Mon, 19 Feb 2024</td> <th>  Pseudo R-squ.:     </th>  <td>0.8305</td> \n",
       "</tr>\n",
       "<tr>\n",
       "  <th>Time:</th>                <td>04:27:14</td>     <th>  Log-Likelihood:    </th> <td> -337.32</td>\n",
       "</tr>\n",
       "<tr>\n",
       "  <th>converged:</th>             <td>True</td>       <th>  LL-Null:           </th> <td> -1990.5</td>\n",
       "</tr>\n",
       "<tr>\n",
       "  <th>Covariance Type:</th>     <td>nonrobust</td>    <th>  LLR p-value:       </th>  <td> 0.000</td> \n",
       "</tr>\n",
       "</table>\n",
       "<table class=\"simpletable\">\n",
       "<tr>\n",
       "                      <td></td>                        <th>coef</th>     <th>std err</th>      <th>z</th>      <th>P>|z|</th>  <th>[0.025</th>    <th>0.975]</th>  \n",
       "</tr>\n",
       "<tr>\n",
       "  <th>const</th>                                    <td>   -5.5441</td> <td>    0.333</td> <td>  -16.656</td> <td> 0.000</td> <td>   -6.196</td> <td>   -4.892</td>\n",
       "</tr>\n",
       "<tr>\n",
       "  <th>Do Not Email</th>                             <td>   -0.7952</td> <td>    0.536</td> <td>   -1.485</td> <td> 0.138</td> <td>   -1.845</td> <td>    0.255</td>\n",
       "</tr>\n",
       "<tr>\n",
       "  <th>TotalVisits</th>                              <td>   20.3793</td> <td>    7.233</td> <td>    2.817</td> <td> 0.005</td> <td>    6.202</td> <td>   34.556</td>\n",
       "</tr>\n",
       "<tr>\n",
       "  <th>Total Time Spent on Website</th>              <td>    3.7142</td> <td>    0.450</td> <td>    8.249</td> <td> 0.000</td> <td>    2.832</td> <td>    4.597</td>\n",
       "</tr>\n",
       "<tr>\n",
       "  <th>Tags_Busy</th>                                <td>    3.7531</td> <td>    0.284</td> <td>   13.195</td> <td> 0.000</td> <td>    3.196</td> <td>    4.311</td>\n",
       "</tr>\n",
       "<tr>\n",
       "  <th>Tags_Closed by Horizzon</th>                  <td>    8.6035</td> <td>    1.059</td> <td>    8.125</td> <td> 0.000</td> <td>    6.528</td> <td>   10.679</td>\n",
       "</tr>\n",
       "<tr>\n",
       "  <th>Tags_Lost to EINS</th>                        <td>    7.9241</td> <td>    1.044</td> <td>    7.593</td> <td> 0.000</td> <td>    5.879</td> <td>    9.969</td>\n",
       "</tr>\n",
       "<tr>\n",
       "  <th>Tags_Will revert after reading the email</th> <td>    7.0464</td> <td>    0.283</td> <td>   24.931</td> <td> 0.000</td> <td>    6.492</td> <td>    7.600</td>\n",
       "</tr>\n",
       "<tr>\n",
       "  <th>What is your current occupation_others</th>   <td>    1.0751</td> <td>    0.426</td> <td>    2.521</td> <td> 0.012</td> <td>    0.239</td> <td>    1.911</td>\n",
       "</tr>\n",
       "<tr>\n",
       "  <th>Last Activity_Email Bounced</th>              <td>   -2.1426</td> <td>    1.038</td> <td>   -2.063</td> <td> 0.039</td> <td>   -4.178</td> <td>   -0.107</td>\n",
       "</tr>\n",
       "<tr>\n",
       "  <th>Last Activity_SMS Sent</th>                   <td>    1.0940</td> <td>    0.234</td> <td>    4.668</td> <td> 0.000</td> <td>    0.635</td> <td>    1.553</td>\n",
       "</tr>\n",
       "</table>"
      ],
      "text/latex": [
       "\\begin{center}\n",
       "\\begin{tabular}{lclc}\n",
       "\\toprule\n",
       "\\textbf{Dep. Variable:}                            &    Converted     & \\textbf{  No. Observations:  } &     2899    \\\\\n",
       "\\textbf{Model:}                                    &      Logit       & \\textbf{  Df Residuals:      } &     2888    \\\\\n",
       "\\textbf{Method:}                                   &       MLE        & \\textbf{  Df Model:          } &       10    \\\\\n",
       "\\textbf{Date:}                                     & Mon, 19 Feb 2024 & \\textbf{  Pseudo R-squ.:     } &   0.8305    \\\\\n",
       "\\textbf{Time:}                                     &     04:27:14     & \\textbf{  Log-Likelihood:    } &   -337.32   \\\\\n",
       "\\textbf{converged:}                                &       True       & \\textbf{  LL-Null:           } &   -1990.5   \\\\\n",
       "\\textbf{Covariance Type:}                          &    nonrobust     & \\textbf{  LLR p-value:       } &    0.000    \\\\\n",
       "\\bottomrule\n",
       "\\end{tabular}\n",
       "\\begin{tabular}{lcccccc}\n",
       "                                                   & \\textbf{coef} & \\textbf{std err} & \\textbf{z} & \\textbf{P$> |$z$|$} & \\textbf{[0.025} & \\textbf{0.975]}  \\\\\n",
       "\\midrule\n",
       "\\textbf{const}                                     &      -5.5441  &        0.333     &   -16.656  &         0.000        &       -6.196    &       -4.892     \\\\\n",
       "\\textbf{Do Not Email}                              &      -0.7952  &        0.536     &    -1.485  &         0.138        &       -1.845    &        0.255     \\\\\n",
       "\\textbf{TotalVisits}                               &      20.3793  &        7.233     &     2.817  &         0.005        &        6.202    &       34.556     \\\\\n",
       "\\textbf{Total Time Spent on Website}               &       3.7142  &        0.450     &     8.249  &         0.000        &        2.832    &        4.597     \\\\\n",
       "\\textbf{Tags\\_Busy}                                &       3.7531  &        0.284     &    13.195  &         0.000        &        3.196    &        4.311     \\\\\n",
       "\\textbf{Tags\\_Closed by Horizzon}                  &       8.6035  &        1.059     &     8.125  &         0.000        &        6.528    &       10.679     \\\\\n",
       "\\textbf{Tags\\_Lost to EINS}                        &       7.9241  &        1.044     &     7.593  &         0.000        &        5.879    &        9.969     \\\\\n",
       "\\textbf{Tags\\_Will revert after reading the email} &       7.0464  &        0.283     &    24.931  &         0.000        &        6.492    &        7.600     \\\\\n",
       "\\textbf{What is your current occupation\\_others}   &       1.0751  &        0.426     &     2.521  &         0.012        &        0.239    &        1.911     \\\\\n",
       "\\textbf{Last Activity\\_Email Bounced}              &      -2.1426  &        1.038     &    -2.063  &         0.039        &       -4.178    &       -0.107     \\\\\n",
       "\\textbf{Last Activity\\_SMS Sent}                   &       1.0940  &        0.234     &     4.668  &         0.000        &        0.635    &        1.553     \\\\\n",
       "\\bottomrule\n",
       "\\end{tabular}\n",
       "%\\caption{Logit Regression Results}\n",
       "\\end{center}"
      ],
      "text/plain": [
       "<class 'statsmodels.iolib.summary.Summary'>\n",
       "\"\"\"\n",
       "                           Logit Regression Results                           \n",
       "==============================================================================\n",
       "Dep. Variable:              Converted   No. Observations:                 2899\n",
       "Model:                          Logit   Df Residuals:                     2888\n",
       "Method:                           MLE   Df Model:                           10\n",
       "Date:                Mon, 19 Feb 2024   Pseudo R-squ.:                  0.8305\n",
       "Time:                        04:27:14   Log-Likelihood:                -337.32\n",
       "converged:                       True   LL-Null:                       -1990.5\n",
       "Covariance Type:            nonrobust   LLR p-value:                     0.000\n",
       "============================================================================================================\n",
       "                                               coef    std err          z      P>|z|      [0.025      0.975]\n",
       "------------------------------------------------------------------------------------------------------------\n",
       "const                                       -5.5441      0.333    -16.656      0.000      -6.196      -4.892\n",
       "Do Not Email                                -0.7952      0.536     -1.485      0.138      -1.845       0.255\n",
       "TotalVisits                                 20.3793      7.233      2.817      0.005       6.202      34.556\n",
       "Total Time Spent on Website                  3.7142      0.450      8.249      0.000       2.832       4.597\n",
       "Tags_Busy                                    3.7531      0.284     13.195      0.000       3.196       4.311\n",
       "Tags_Closed by Horizzon                      8.6035      1.059      8.125      0.000       6.528      10.679\n",
       "Tags_Lost to EINS                            7.9241      1.044      7.593      0.000       5.879       9.969\n",
       "Tags_Will revert after reading the email     7.0464      0.283     24.931      0.000       6.492       7.600\n",
       "What is your current occupation_others       1.0751      0.426      2.521      0.012       0.239       1.911\n",
       "Last Activity_Email Bounced                 -2.1426      1.038     -2.063      0.039      -4.178      -0.107\n",
       "Last Activity_SMS Sent                       1.0940      0.234      4.668      0.000       0.635       1.553\n",
       "============================================================================================================\n",
       "\"\"\""
      ]
     },
     "execution_count": 103,
     "metadata": {},
     "output_type": "execute_result"
    }
   ],
   "source": [
    "X_train_new.drop(['Tags_switched off'],axis=1, inplace=True)\n",
    "lm = build_model(X_train_new, y_train)\n",
    "lm.summary()"
   ]
  },
  {
   "cell_type": "code",
   "execution_count": 104,
   "metadata": {},
   "outputs": [
    {
     "name": "stderr",
     "output_type": "stream",
     "text": [
      "/var/folders/gn/_m6452xj7mg0cf7j0dvwvlgw0000gn/T/ipykernel_65004/4122358117.py:1: SettingWithCopyWarning: \n",
      "A value is trying to be set on a copy of a slice from a DataFrame\n",
      "\n",
      "See the caveats in the documentation: https://pandas.pydata.org/pandas-docs/stable/user_guide/indexing.html#returning-a-view-versus-a-copy\n",
      "  X_train_new.drop(['Do Not Email'],axis=1, inplace=True)\n"
     ]
    },
    {
     "name": "stdout",
     "output_type": "stream",
     "text": [
      "Optimization terminated successfully.\n",
      "         Current function value: 0.116772\n",
      "         Iterations 9\n"
     ]
    },
    {
     "data": {
      "text/html": [
       "<table class=\"simpletable\">\n",
       "<caption>Logit Regression Results</caption>\n",
       "<tr>\n",
       "  <th>Dep. Variable:</th>       <td>Converted</td>    <th>  No. Observations:  </th>  <td>  2899</td> \n",
       "</tr>\n",
       "<tr>\n",
       "  <th>Model:</th>                 <td>Logit</td>      <th>  Df Residuals:      </th>  <td>  2889</td> \n",
       "</tr>\n",
       "<tr>\n",
       "  <th>Method:</th>                 <td>MLE</td>       <th>  Df Model:          </th>  <td>     9</td> \n",
       "</tr>\n",
       "<tr>\n",
       "  <th>Date:</th>            <td>Mon, 19 Feb 2024</td> <th>  Pseudo R-squ.:     </th>  <td>0.8299</td> \n",
       "</tr>\n",
       "<tr>\n",
       "  <th>Time:</th>                <td>04:27:33</td>     <th>  Log-Likelihood:    </th> <td> -338.52</td>\n",
       "</tr>\n",
       "<tr>\n",
       "  <th>converged:</th>             <td>True</td>       <th>  LL-Null:           </th> <td> -1990.5</td>\n",
       "</tr>\n",
       "<tr>\n",
       "  <th>Covariance Type:</th>     <td>nonrobust</td>    <th>  LLR p-value:       </th>  <td> 0.000</td> \n",
       "</tr>\n",
       "</table>\n",
       "<table class=\"simpletable\">\n",
       "<tr>\n",
       "                      <td></td>                        <th>coef</th>     <th>std err</th>      <th>z</th>      <th>P>|z|</th>  <th>[0.025</th>    <th>0.975]</th>  \n",
       "</tr>\n",
       "<tr>\n",
       "  <th>const</th>                                    <td>   -5.5784</td> <td>    0.333</td> <td>  -16.760</td> <td> 0.000</td> <td>   -6.231</td> <td>   -4.926</td>\n",
       "</tr>\n",
       "<tr>\n",
       "  <th>TotalVisits</th>                              <td>   20.0212</td> <td>    7.263</td> <td>    2.757</td> <td> 0.006</td> <td>    5.786</td> <td>   34.256</td>\n",
       "</tr>\n",
       "<tr>\n",
       "  <th>Total Time Spent on Website</th>              <td>    3.7464</td> <td>    0.449</td> <td>    8.339</td> <td> 0.000</td> <td>    2.866</td> <td>    4.627</td>\n",
       "</tr>\n",
       "<tr>\n",
       "  <th>Tags_Busy</th>                                <td>    3.7563</td> <td>    0.283</td> <td>   13.293</td> <td> 0.000</td> <td>    3.202</td> <td>    4.310</td>\n",
       "</tr>\n",
       "<tr>\n",
       "  <th>Tags_Closed by Horizzon</th>                  <td>    8.6140</td> <td>    1.054</td> <td>    8.169</td> <td> 0.000</td> <td>    6.547</td> <td>   10.681</td>\n",
       "</tr>\n",
       "<tr>\n",
       "  <th>Tags_Lost to EINS</th>                        <td>    7.9610</td> <td>    1.043</td> <td>    7.629</td> <td> 0.000</td> <td>    5.916</td> <td>   10.006</td>\n",
       "</tr>\n",
       "<tr>\n",
       "  <th>Tags_Will revert after reading the email</th> <td>    7.0769</td> <td>    0.283</td> <td>   24.980</td> <td> 0.000</td> <td>    6.522</td> <td>    7.632</td>\n",
       "</tr>\n",
       "<tr>\n",
       "  <th>What is your current occupation_others</th>   <td>    1.0409</td> <td>    0.424</td> <td>    2.455</td> <td> 0.014</td> <td>    0.210</td> <td>    1.872</td>\n",
       "</tr>\n",
       "<tr>\n",
       "  <th>Last Activity_Email Bounced</th>              <td>   -2.7548</td> <td>    0.955</td> <td>   -2.886</td> <td> 0.004</td> <td>   -4.626</td> <td>   -0.884</td>\n",
       "</tr>\n",
       "<tr>\n",
       "  <th>Last Activity_SMS Sent</th>                   <td>    1.0574</td> <td>    0.232</td> <td>    4.549</td> <td> 0.000</td> <td>    0.602</td> <td>    1.513</td>\n",
       "</tr>\n",
       "</table>"
      ],
      "text/latex": [
       "\\begin{center}\n",
       "\\begin{tabular}{lclc}\n",
       "\\toprule\n",
       "\\textbf{Dep. Variable:}                            &    Converted     & \\textbf{  No. Observations:  } &     2899    \\\\\n",
       "\\textbf{Model:}                                    &      Logit       & \\textbf{  Df Residuals:      } &     2889    \\\\\n",
       "\\textbf{Method:}                                   &       MLE        & \\textbf{  Df Model:          } &        9    \\\\\n",
       "\\textbf{Date:}                                     & Mon, 19 Feb 2024 & \\textbf{  Pseudo R-squ.:     } &   0.8299    \\\\\n",
       "\\textbf{Time:}                                     &     04:27:33     & \\textbf{  Log-Likelihood:    } &   -338.52   \\\\\n",
       "\\textbf{converged:}                                &       True       & \\textbf{  LL-Null:           } &   -1990.5   \\\\\n",
       "\\textbf{Covariance Type:}                          &    nonrobust     & \\textbf{  LLR p-value:       } &    0.000    \\\\\n",
       "\\bottomrule\n",
       "\\end{tabular}\n",
       "\\begin{tabular}{lcccccc}\n",
       "                                                   & \\textbf{coef} & \\textbf{std err} & \\textbf{z} & \\textbf{P$> |$z$|$} & \\textbf{[0.025} & \\textbf{0.975]}  \\\\\n",
       "\\midrule\n",
       "\\textbf{const}                                     &      -5.5784  &        0.333     &   -16.760  &         0.000        &       -6.231    &       -4.926     \\\\\n",
       "\\textbf{TotalVisits}                               &      20.0212  &        7.263     &     2.757  &         0.006        &        5.786    &       34.256     \\\\\n",
       "\\textbf{Total Time Spent on Website}               &       3.7464  &        0.449     &     8.339  &         0.000        &        2.866    &        4.627     \\\\\n",
       "\\textbf{Tags\\_Busy}                                &       3.7563  &        0.283     &    13.293  &         0.000        &        3.202    &        4.310     \\\\\n",
       "\\textbf{Tags\\_Closed by Horizzon}                  &       8.6140  &        1.054     &     8.169  &         0.000        &        6.547    &       10.681     \\\\\n",
       "\\textbf{Tags\\_Lost to EINS}                        &       7.9610  &        1.043     &     7.629  &         0.000        &        5.916    &       10.006     \\\\\n",
       "\\textbf{Tags\\_Will revert after reading the email} &       7.0769  &        0.283     &    24.980  &         0.000        &        6.522    &        7.632     \\\\\n",
       "\\textbf{What is your current occupation\\_others}   &       1.0409  &        0.424     &     2.455  &         0.014        &        0.210    &        1.872     \\\\\n",
       "\\textbf{Last Activity\\_Email Bounced}              &      -2.7548  &        0.955     &    -2.886  &         0.004        &       -4.626    &       -0.884     \\\\\n",
       "\\textbf{Last Activity\\_SMS Sent}                   &       1.0574  &        0.232     &     4.549  &         0.000        &        0.602    &        1.513     \\\\\n",
       "\\bottomrule\n",
       "\\end{tabular}\n",
       "%\\caption{Logit Regression Results}\n",
       "\\end{center}"
      ],
      "text/plain": [
       "<class 'statsmodels.iolib.summary.Summary'>\n",
       "\"\"\"\n",
       "                           Logit Regression Results                           \n",
       "==============================================================================\n",
       "Dep. Variable:              Converted   No. Observations:                 2899\n",
       "Model:                          Logit   Df Residuals:                     2889\n",
       "Method:                           MLE   Df Model:                            9\n",
       "Date:                Mon, 19 Feb 2024   Pseudo R-squ.:                  0.8299\n",
       "Time:                        04:27:33   Log-Likelihood:                -338.52\n",
       "converged:                       True   LL-Null:                       -1990.5\n",
       "Covariance Type:            nonrobust   LLR p-value:                     0.000\n",
       "============================================================================================================\n",
       "                                               coef    std err          z      P>|z|      [0.025      0.975]\n",
       "------------------------------------------------------------------------------------------------------------\n",
       "const                                       -5.5784      0.333    -16.760      0.000      -6.231      -4.926\n",
       "TotalVisits                                 20.0212      7.263      2.757      0.006       5.786      34.256\n",
       "Total Time Spent on Website                  3.7464      0.449      8.339      0.000       2.866       4.627\n",
       "Tags_Busy                                    3.7563      0.283     13.293      0.000       3.202       4.310\n",
       "Tags_Closed by Horizzon                      8.6140      1.054      8.169      0.000       6.547      10.681\n",
       "Tags_Lost to EINS                            7.9610      1.043      7.629      0.000       5.916      10.006\n",
       "Tags_Will revert after reading the email     7.0769      0.283     24.980      0.000       6.522       7.632\n",
       "What is your current occupation_others       1.0409      0.424      2.455      0.014       0.210       1.872\n",
       "Last Activity_Email Bounced                 -2.7548      0.955     -2.886      0.004      -4.626      -0.884\n",
       "Last Activity_SMS Sent                       1.0574      0.232      4.549      0.000       0.602       1.513\n",
       "============================================================================================================\n",
       "\"\"\""
      ]
     },
     "execution_count": 104,
     "metadata": {},
     "output_type": "execute_result"
    }
   ],
   "source": [
    "X_train_new.drop(['Do Not Email'],axis=1, inplace=True)\n",
    "lm = build_model(X_train_new, y_train)\n",
    "lm.summary()"
   ]
  },
  {
   "cell_type": "markdown",
   "metadata": {
    "jp-MarkdownHeadingCollapsed": true
   },
   "source": [
    "### Checking VIF"
   ]
  },
  {
   "cell_type": "code",
   "execution_count": null,
   "metadata": {},
   "outputs": [],
   "source": []
  },
  {
   "cell_type": "code",
   "execution_count": 105,
   "metadata": {},
   "outputs": [
    {
     "data": {
      "text/html": [
       "<div>\n",
       "<style scoped>\n",
       "    .dataframe tbody tr th:only-of-type {\n",
       "        vertical-align: middle;\n",
       "    }\n",
       "\n",
       "    .dataframe tbody tr th {\n",
       "        vertical-align: top;\n",
       "    }\n",
       "\n",
       "    .dataframe thead th {\n",
       "        text-align: right;\n",
       "    }\n",
       "</style>\n",
       "<table border=\"1\" class=\"dataframe\">\n",
       "  <thead>\n",
       "    <tr style=\"text-align: right;\">\n",
       "      <th></th>\n",
       "      <th>Features</th>\n",
       "      <th>VIF</th>\n",
       "    </tr>\n",
       "  </thead>\n",
       "  <tbody>\n",
       "    <tr>\n",
       "      <th>1</th>\n",
       "      <td>Total Time Spent on Website</td>\n",
       "      <td>2.44</td>\n",
       "    </tr>\n",
       "    <tr>\n",
       "      <th>5</th>\n",
       "      <td>Tags_Will revert after reading the email</td>\n",
       "      <td>2.28</td>\n",
       "    </tr>\n",
       "    <tr>\n",
       "      <th>8</th>\n",
       "      <td>Last Activity_SMS Sent</td>\n",
       "      <td>1.51</td>\n",
       "    </tr>\n",
       "    <tr>\n",
       "      <th>0</th>\n",
       "      <td>TotalVisits</td>\n",
       "      <td>1.38</td>\n",
       "    </tr>\n",
       "    <tr>\n",
       "      <th>6</th>\n",
       "      <td>What is your current occupation_others</td>\n",
       "      <td>1.31</td>\n",
       "    </tr>\n",
       "    <tr>\n",
       "      <th>3</th>\n",
       "      <td>Tags_Closed by Horizzon</td>\n",
       "      <td>1.15</td>\n",
       "    </tr>\n",
       "    <tr>\n",
       "      <th>2</th>\n",
       "      <td>Tags_Busy</td>\n",
       "      <td>1.10</td>\n",
       "    </tr>\n",
       "    <tr>\n",
       "      <th>4</th>\n",
       "      <td>Tags_Lost to EINS</td>\n",
       "      <td>1.06</td>\n",
       "    </tr>\n",
       "    <tr>\n",
       "      <th>7</th>\n",
       "      <td>Last Activity_Email Bounced</td>\n",
       "      <td>1.01</td>\n",
       "    </tr>\n",
       "  </tbody>\n",
       "</table>\n",
       "</div>"
      ],
      "text/plain": [
       "                                   Features   VIF\n",
       "1               Total Time Spent on Website  2.44\n",
       "5  Tags_Will revert after reading the email  2.28\n",
       "8                    Last Activity_SMS Sent  1.51\n",
       "0                               TotalVisits  1.38\n",
       "6    What is your current occupation_others  1.31\n",
       "3                   Tags_Closed by Horizzon  1.15\n",
       "2                                 Tags_Busy  1.10\n",
       "4                         Tags_Lost to EINS  1.06\n",
       "7               Last Activity_Email Bounced  1.01"
      ]
     },
     "execution_count": 105,
     "metadata": {},
     "output_type": "execute_result"
    }
   ],
   "source": [
    "check_VIF(X_train_new)"
   ]
  },
  {
   "cell_type": "markdown",
   "metadata": {},
   "source": [
    "Stop iteration since all VIF are below 5. This is the final model"
   ]
  },
  {
   "cell_type": "markdown",
   "metadata": {
    "jp-MarkdownHeadingCollapsed": true
   },
   "source": [
    "### Final Model"
   ]
  },
  {
   "cell_type": "code",
   "execution_count": 106,
   "metadata": {},
   "outputs": [],
   "source": [
    "X_test = sm.add_constant(df_test)\n",
    "\n",
    "X_test = X_test[lm.model.exog_names]\n",
    "\n",
    "y_test_pred = lm.predict(X_test)\n",
    "y_train_pred = lm.predict(sm.add_constant(X_train_new))"
   ]
  },
  {
   "cell_type": "code",
   "execution_count": null,
   "metadata": {},
   "outputs": [],
   "source": []
  },
  {
   "cell_type": "code",
   "execution_count": 107,
   "metadata": {},
   "outputs": [
    {
     "name": "stdout",
     "output_type": "stream",
     "text": [
      "              precision    recall  f1-score   support\n",
      "\n",
      "           0       0.97      0.97      0.97      1615\n",
      "           1       0.97      0.96      0.96      1284\n",
      "\n",
      "    accuracy                           0.97      2899\n",
      "   macro avg       0.97      0.97      0.97      2899\n",
      "weighted avg       0.97      0.97      0.97      2899\n",
      "\n",
      "              precision    recall  f1-score   support\n",
      "\n",
      "           0       0.94      0.95      0.95       383\n",
      "           1       0.94      0.94      0.94       342\n",
      "\n",
      "    accuracy                           0.94       725\n",
      "   macro avg       0.94      0.94      0.94       725\n",
      "weighted avg       0.94      0.94      0.94       725\n",
      "\n"
     ]
    }
   ],
   "source": [
    "print(classification_report(y_train, (y_train_pred > 0.5)))\n",
    "print(classification_report(y_test, (y_test_pred > 0.5)))"
   ]
  },
  {
   "cell_type": "code",
   "execution_count": null,
   "metadata": {},
   "outputs": [],
   "source": []
  }
 ],
 "metadata": {
  "kernelspec": {
   "display_name": "Python 3 (ipykernel)",
   "language": "python",
   "name": "python3"
  },
  "language_info": {
   "codemirror_mode": {
    "name": "ipython",
    "version": 3
   },
   "file_extension": ".py",
   "mimetype": "text/x-python",
   "name": "python",
   "nbconvert_exporter": "python",
   "pygments_lexer": "ipython3",
   "version": "3.10.12"
  }
 },
 "nbformat": 4,
 "nbformat_minor": 4
}
