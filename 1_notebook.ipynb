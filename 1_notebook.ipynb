{
 "cells": [
  {
   "cell_type": "markdown",
   "metadata": {},
   "source": [
    "# Lead Scoring"
   ]
  },
  {
   "cell_type": "code",
   "execution_count": 1288,
   "metadata": {},
   "outputs": [],
   "source": [
    "%config InlineBackend.figure_format = 'retina'"
   ]
  },
  {
   "cell_type": "code",
   "execution_count": 1289,
   "metadata": {},
   "outputs": [],
   "source": [
    "import pandas as pd\n",
    "import numpy as np\n",
    "import seaborn as sns\n",
    "import matplotlib.pyplot as plt"
   ]
  },
  {
   "cell_type": "markdown",
   "metadata": {},
   "source": [
    "## Data Cleaning"
   ]
  },
  {
   "cell_type": "markdown",
   "metadata": {},
   "source": [
    "### Inspecting"
   ]
  },
  {
   "cell_type": "code",
   "execution_count": 1290,
   "metadata": {},
   "outputs": [],
   "source": [
    "df = pd.read_csv('Leads.csv')\n",
    "df.to_pickle('init.pkl')"
   ]
  },
  {
   "cell_type": "code",
   "execution_count": 1291,
   "metadata": {
    "scrolled": true
   },
   "outputs": [
    {
     "data": {
      "text/html": [
       "<div>\n",
       "<style scoped>\n",
       "    .dataframe tbody tr th:only-of-type {\n",
       "        vertical-align: middle;\n",
       "    }\n",
       "\n",
       "    .dataframe tbody tr th {\n",
       "        vertical-align: top;\n",
       "    }\n",
       "\n",
       "    .dataframe thead th {\n",
       "        text-align: right;\n",
       "    }\n",
       "</style>\n",
       "<table border=\"1\" class=\"dataframe\">\n",
       "  <thead>\n",
       "    <tr style=\"text-align: right;\">\n",
       "      <th></th>\n",
       "      <th>Prospect ID</th>\n",
       "      <th>Lead Number</th>\n",
       "      <th>Lead Origin</th>\n",
       "      <th>Lead Source</th>\n",
       "      <th>Do Not Email</th>\n",
       "      <th>Do Not Call</th>\n",
       "      <th>Converted</th>\n",
       "      <th>TotalVisits</th>\n",
       "      <th>Total Time Spent on Website</th>\n",
       "      <th>Page Views Per Visit</th>\n",
       "      <th>...</th>\n",
       "      <th>Get updates on DM Content</th>\n",
       "      <th>Lead Profile</th>\n",
       "      <th>City</th>\n",
       "      <th>Asymmetrique Activity Index</th>\n",
       "      <th>Asymmetrique Profile Index</th>\n",
       "      <th>Asymmetrique Activity Score</th>\n",
       "      <th>Asymmetrique Profile Score</th>\n",
       "      <th>I agree to pay the amount through cheque</th>\n",
       "      <th>A free copy of Mastering The Interview</th>\n",
       "      <th>Last Notable Activity</th>\n",
       "    </tr>\n",
       "  </thead>\n",
       "  <tbody>\n",
       "    <tr>\n",
       "      <th>0</th>\n",
       "      <td>7927b2df-8bba-4d29-b9a2-b6e0beafe620</td>\n",
       "      <td>660737</td>\n",
       "      <td>API</td>\n",
       "      <td>Olark Chat</td>\n",
       "      <td>No</td>\n",
       "      <td>No</td>\n",
       "      <td>0</td>\n",
       "      <td>0.0</td>\n",
       "      <td>0</td>\n",
       "      <td>0.0</td>\n",
       "      <td>...</td>\n",
       "      <td>No</td>\n",
       "      <td>Select</td>\n",
       "      <td>Select</td>\n",
       "      <td>02.Medium</td>\n",
       "      <td>02.Medium</td>\n",
       "      <td>15.0</td>\n",
       "      <td>15.0</td>\n",
       "      <td>No</td>\n",
       "      <td>No</td>\n",
       "      <td>Modified</td>\n",
       "    </tr>\n",
       "    <tr>\n",
       "      <th>1</th>\n",
       "      <td>2a272436-5132-4136-86fa-dcc88c88f482</td>\n",
       "      <td>660728</td>\n",
       "      <td>API</td>\n",
       "      <td>Organic Search</td>\n",
       "      <td>No</td>\n",
       "      <td>No</td>\n",
       "      <td>0</td>\n",
       "      <td>5.0</td>\n",
       "      <td>674</td>\n",
       "      <td>2.5</td>\n",
       "      <td>...</td>\n",
       "      <td>No</td>\n",
       "      <td>Select</td>\n",
       "      <td>Select</td>\n",
       "      <td>02.Medium</td>\n",
       "      <td>02.Medium</td>\n",
       "      <td>15.0</td>\n",
       "      <td>15.0</td>\n",
       "      <td>No</td>\n",
       "      <td>No</td>\n",
       "      <td>Email Opened</td>\n",
       "    </tr>\n",
       "    <tr>\n",
       "      <th>2</th>\n",
       "      <td>8cc8c611-a219-4f35-ad23-fdfd2656bd8a</td>\n",
       "      <td>660727</td>\n",
       "      <td>Landing Page Submission</td>\n",
       "      <td>Direct Traffic</td>\n",
       "      <td>No</td>\n",
       "      <td>No</td>\n",
       "      <td>1</td>\n",
       "      <td>2.0</td>\n",
       "      <td>1532</td>\n",
       "      <td>2.0</td>\n",
       "      <td>...</td>\n",
       "      <td>No</td>\n",
       "      <td>Potential Lead</td>\n",
       "      <td>Mumbai</td>\n",
       "      <td>02.Medium</td>\n",
       "      <td>01.High</td>\n",
       "      <td>14.0</td>\n",
       "      <td>20.0</td>\n",
       "      <td>No</td>\n",
       "      <td>Yes</td>\n",
       "      <td>Email Opened</td>\n",
       "    </tr>\n",
       "    <tr>\n",
       "      <th>3</th>\n",
       "      <td>0cc2df48-7cf4-4e39-9de9-19797f9b38cc</td>\n",
       "      <td>660719</td>\n",
       "      <td>Landing Page Submission</td>\n",
       "      <td>Direct Traffic</td>\n",
       "      <td>No</td>\n",
       "      <td>No</td>\n",
       "      <td>0</td>\n",
       "      <td>1.0</td>\n",
       "      <td>305</td>\n",
       "      <td>1.0</td>\n",
       "      <td>...</td>\n",
       "      <td>No</td>\n",
       "      <td>Select</td>\n",
       "      <td>Mumbai</td>\n",
       "      <td>02.Medium</td>\n",
       "      <td>01.High</td>\n",
       "      <td>13.0</td>\n",
       "      <td>17.0</td>\n",
       "      <td>No</td>\n",
       "      <td>No</td>\n",
       "      <td>Modified</td>\n",
       "    </tr>\n",
       "    <tr>\n",
       "      <th>4</th>\n",
       "      <td>3256f628-e534-4826-9d63-4a8b88782852</td>\n",
       "      <td>660681</td>\n",
       "      <td>Landing Page Submission</td>\n",
       "      <td>Google</td>\n",
       "      <td>No</td>\n",
       "      <td>No</td>\n",
       "      <td>1</td>\n",
       "      <td>2.0</td>\n",
       "      <td>1428</td>\n",
       "      <td>1.0</td>\n",
       "      <td>...</td>\n",
       "      <td>No</td>\n",
       "      <td>Select</td>\n",
       "      <td>Mumbai</td>\n",
       "      <td>02.Medium</td>\n",
       "      <td>01.High</td>\n",
       "      <td>15.0</td>\n",
       "      <td>18.0</td>\n",
       "      <td>No</td>\n",
       "      <td>No</td>\n",
       "      <td>Modified</td>\n",
       "    </tr>\n",
       "  </tbody>\n",
       "</table>\n",
       "<p>5 rows × 37 columns</p>\n",
       "</div>"
      ],
      "text/plain": [
       "                            Prospect ID  Lead Number              Lead Origin  \\\n",
       "0  7927b2df-8bba-4d29-b9a2-b6e0beafe620       660737                      API   \n",
       "1  2a272436-5132-4136-86fa-dcc88c88f482       660728                      API   \n",
       "2  8cc8c611-a219-4f35-ad23-fdfd2656bd8a       660727  Landing Page Submission   \n",
       "3  0cc2df48-7cf4-4e39-9de9-19797f9b38cc       660719  Landing Page Submission   \n",
       "4  3256f628-e534-4826-9d63-4a8b88782852       660681  Landing Page Submission   \n",
       "\n",
       "      Lead Source Do Not Email Do Not Call  Converted  TotalVisits  \\\n",
       "0      Olark Chat           No          No          0          0.0   \n",
       "1  Organic Search           No          No          0          5.0   \n",
       "2  Direct Traffic           No          No          1          2.0   \n",
       "3  Direct Traffic           No          No          0          1.0   \n",
       "4          Google           No          No          1          2.0   \n",
       "\n",
       "   Total Time Spent on Website  Page Views Per Visit  ...  \\\n",
       "0                            0                   0.0  ...   \n",
       "1                          674                   2.5  ...   \n",
       "2                         1532                   2.0  ...   \n",
       "3                          305                   1.0  ...   \n",
       "4                         1428                   1.0  ...   \n",
       "\n",
       "  Get updates on DM Content    Lead Profile    City  \\\n",
       "0                        No          Select  Select   \n",
       "1                        No          Select  Select   \n",
       "2                        No  Potential Lead  Mumbai   \n",
       "3                        No          Select  Mumbai   \n",
       "4                        No          Select  Mumbai   \n",
       "\n",
       "  Asymmetrique Activity Index Asymmetrique Profile Index  \\\n",
       "0                   02.Medium                  02.Medium   \n",
       "1                   02.Medium                  02.Medium   \n",
       "2                   02.Medium                    01.High   \n",
       "3                   02.Medium                    01.High   \n",
       "4                   02.Medium                    01.High   \n",
       "\n",
       "  Asymmetrique Activity Score Asymmetrique Profile Score  \\\n",
       "0                        15.0                       15.0   \n",
       "1                        15.0                       15.0   \n",
       "2                        14.0                       20.0   \n",
       "3                        13.0                       17.0   \n",
       "4                        15.0                       18.0   \n",
       "\n",
       "  I agree to pay the amount through cheque  \\\n",
       "0                                       No   \n",
       "1                                       No   \n",
       "2                                       No   \n",
       "3                                       No   \n",
       "4                                       No   \n",
       "\n",
       "  A free copy of Mastering The Interview Last Notable Activity  \n",
       "0                                     No              Modified  \n",
       "1                                     No          Email Opened  \n",
       "2                                    Yes          Email Opened  \n",
       "3                                     No              Modified  \n",
       "4                                     No              Modified  \n",
       "\n",
       "[5 rows x 37 columns]"
      ]
     },
     "execution_count": 1291,
     "metadata": {},
     "output_type": "execute_result"
    }
   ],
   "source": [
    "df.head()"
   ]
  },
  {
   "cell_type": "code",
   "execution_count": 1292,
   "metadata": {},
   "outputs": [
    {
     "data": {
      "text/plain": [
       "(9240, 37)"
      ]
     },
     "execution_count": 1292,
     "metadata": {},
     "output_type": "execute_result"
    }
   ],
   "source": [
    "df.shape"
   ]
  },
  {
   "cell_type": "code",
   "execution_count": 1293,
   "metadata": {},
   "outputs": [
    {
     "data": {
      "text/plain": [
       "Converted\n",
       "0    0.61461\n",
       "1    0.38539\n",
       "Name: proportion, dtype: float64"
      ]
     },
     "execution_count": 1293,
     "metadata": {},
     "output_type": "execute_result"
    }
   ],
   "source": [
    "df['Converted'].value_counts(normalize=True)"
   ]
  },
  {
   "cell_type": "code",
   "execution_count": 1294,
   "metadata": {},
   "outputs": [
    {
     "data": {
      "text/html": [
       "<div>\n",
       "<style scoped>\n",
       "    .dataframe tbody tr th:only-of-type {\n",
       "        vertical-align: middle;\n",
       "    }\n",
       "\n",
       "    .dataframe tbody tr th {\n",
       "        vertical-align: top;\n",
       "    }\n",
       "\n",
       "    .dataframe thead th {\n",
       "        text-align: right;\n",
       "    }\n",
       "</style>\n",
       "<table border=\"1\" class=\"dataframe\">\n",
       "  <thead>\n",
       "    <tr style=\"text-align: right;\">\n",
       "      <th></th>\n",
       "      <th>Lead Number</th>\n",
       "      <th>Converted</th>\n",
       "      <th>TotalVisits</th>\n",
       "      <th>Total Time Spent on Website</th>\n",
       "      <th>Page Views Per Visit</th>\n",
       "      <th>Asymmetrique Activity Score</th>\n",
       "      <th>Asymmetrique Profile Score</th>\n",
       "    </tr>\n",
       "  </thead>\n",
       "  <tbody>\n",
       "    <tr>\n",
       "      <th>count</th>\n",
       "      <td>9240.000000</td>\n",
       "      <td>9240.000000</td>\n",
       "      <td>9103.000000</td>\n",
       "      <td>9240.000000</td>\n",
       "      <td>9103.000000</td>\n",
       "      <td>5022.000000</td>\n",
       "      <td>5022.000000</td>\n",
       "    </tr>\n",
       "    <tr>\n",
       "      <th>mean</th>\n",
       "      <td>617188.435606</td>\n",
       "      <td>0.385390</td>\n",
       "      <td>3.445238</td>\n",
       "      <td>487.698268</td>\n",
       "      <td>2.362820</td>\n",
       "      <td>14.306252</td>\n",
       "      <td>16.344883</td>\n",
       "    </tr>\n",
       "    <tr>\n",
       "      <th>std</th>\n",
       "      <td>23405.995698</td>\n",
       "      <td>0.486714</td>\n",
       "      <td>4.854853</td>\n",
       "      <td>548.021466</td>\n",
       "      <td>2.161418</td>\n",
       "      <td>1.386694</td>\n",
       "      <td>1.811395</td>\n",
       "    </tr>\n",
       "    <tr>\n",
       "      <th>min</th>\n",
       "      <td>579533.000000</td>\n",
       "      <td>0.000000</td>\n",
       "      <td>0.000000</td>\n",
       "      <td>0.000000</td>\n",
       "      <td>0.000000</td>\n",
       "      <td>7.000000</td>\n",
       "      <td>11.000000</td>\n",
       "    </tr>\n",
       "    <tr>\n",
       "      <th>25%</th>\n",
       "      <td>596484.500000</td>\n",
       "      <td>0.000000</td>\n",
       "      <td>1.000000</td>\n",
       "      <td>12.000000</td>\n",
       "      <td>1.000000</td>\n",
       "      <td>14.000000</td>\n",
       "      <td>15.000000</td>\n",
       "    </tr>\n",
       "    <tr>\n",
       "      <th>50%</th>\n",
       "      <td>615479.000000</td>\n",
       "      <td>0.000000</td>\n",
       "      <td>3.000000</td>\n",
       "      <td>248.000000</td>\n",
       "      <td>2.000000</td>\n",
       "      <td>14.000000</td>\n",
       "      <td>16.000000</td>\n",
       "    </tr>\n",
       "    <tr>\n",
       "      <th>75%</th>\n",
       "      <td>637387.250000</td>\n",
       "      <td>1.000000</td>\n",
       "      <td>5.000000</td>\n",
       "      <td>936.000000</td>\n",
       "      <td>3.000000</td>\n",
       "      <td>15.000000</td>\n",
       "      <td>18.000000</td>\n",
       "    </tr>\n",
       "    <tr>\n",
       "      <th>max</th>\n",
       "      <td>660737.000000</td>\n",
       "      <td>1.000000</td>\n",
       "      <td>251.000000</td>\n",
       "      <td>2272.000000</td>\n",
       "      <td>55.000000</td>\n",
       "      <td>18.000000</td>\n",
       "      <td>20.000000</td>\n",
       "    </tr>\n",
       "  </tbody>\n",
       "</table>\n",
       "</div>"
      ],
      "text/plain": [
       "         Lead Number    Converted  TotalVisits  Total Time Spent on Website  \\\n",
       "count    9240.000000  9240.000000  9103.000000                  9240.000000   \n",
       "mean   617188.435606     0.385390     3.445238                   487.698268   \n",
       "std     23405.995698     0.486714     4.854853                   548.021466   \n",
       "min    579533.000000     0.000000     0.000000                     0.000000   \n",
       "25%    596484.500000     0.000000     1.000000                    12.000000   \n",
       "50%    615479.000000     0.000000     3.000000                   248.000000   \n",
       "75%    637387.250000     1.000000     5.000000                   936.000000   \n",
       "max    660737.000000     1.000000   251.000000                  2272.000000   \n",
       "\n",
       "       Page Views Per Visit  Asymmetrique Activity Score  \\\n",
       "count           9103.000000                  5022.000000   \n",
       "mean               2.362820                    14.306252   \n",
       "std                2.161418                     1.386694   \n",
       "min                0.000000                     7.000000   \n",
       "25%                1.000000                    14.000000   \n",
       "50%                2.000000                    14.000000   \n",
       "75%                3.000000                    15.000000   \n",
       "max               55.000000                    18.000000   \n",
       "\n",
       "       Asymmetrique Profile Score  \n",
       "count                 5022.000000  \n",
       "mean                    16.344883  \n",
       "std                      1.811395  \n",
       "min                     11.000000  \n",
       "25%                     15.000000  \n",
       "50%                     16.000000  \n",
       "75%                     18.000000  \n",
       "max                     20.000000  "
      ]
     },
     "execution_count": 1294,
     "metadata": {},
     "output_type": "execute_result"
    }
   ],
   "source": [
    "df.describe()"
   ]
  },
  {
   "cell_type": "code",
   "execution_count": 1295,
   "metadata": {},
   "outputs": [
    {
     "name": "stdout",
     "output_type": "stream",
     "text": [
      "<class 'pandas.core.frame.DataFrame'>\n",
      "RangeIndex: 9240 entries, 0 to 9239\n",
      "Data columns (total 37 columns):\n",
      " #   Column                                         Non-Null Count  Dtype  \n",
      "---  ------                                         --------------  -----  \n",
      " 0   Prospect ID                                    9240 non-null   object \n",
      " 1   Lead Number                                    9240 non-null   int64  \n",
      " 2   Lead Origin                                    9240 non-null   object \n",
      " 3   Lead Source                                    9204 non-null   object \n",
      " 4   Do Not Email                                   9240 non-null   object \n",
      " 5   Do Not Call                                    9240 non-null   object \n",
      " 6   Converted                                      9240 non-null   int64  \n",
      " 7   TotalVisits                                    9103 non-null   float64\n",
      " 8   Total Time Spent on Website                    9240 non-null   int64  \n",
      " 9   Page Views Per Visit                           9103 non-null   float64\n",
      " 10  Last Activity                                  9137 non-null   object \n",
      " 11  Country                                        6779 non-null   object \n",
      " 12  Specialization                                 7802 non-null   object \n",
      " 13  How did you hear about X Education             7033 non-null   object \n",
      " 14  What is your current occupation                6550 non-null   object \n",
      " 15  What matters most to you in choosing a course  6531 non-null   object \n",
      " 16  Search                                         9240 non-null   object \n",
      " 17  Magazine                                       9240 non-null   object \n",
      " 18  Newspaper Article                              9240 non-null   object \n",
      " 19  X Education Forums                             9240 non-null   object \n",
      " 20  Newspaper                                      9240 non-null   object \n",
      " 21  Digital Advertisement                          9240 non-null   object \n",
      " 22  Through Recommendations                        9240 non-null   object \n",
      " 23  Receive More Updates About Our Courses         9240 non-null   object \n",
      " 24  Tags                                           5887 non-null   object \n",
      " 25  Lead Quality                                   4473 non-null   object \n",
      " 26  Update me on Supply Chain Content              9240 non-null   object \n",
      " 27  Get updates on DM Content                      9240 non-null   object \n",
      " 28  Lead Profile                                   6531 non-null   object \n",
      " 29  City                                           7820 non-null   object \n",
      " 30  Asymmetrique Activity Index                    5022 non-null   object \n",
      " 31  Asymmetrique Profile Index                     5022 non-null   object \n",
      " 32  Asymmetrique Activity Score                    5022 non-null   float64\n",
      " 33  Asymmetrique Profile Score                     5022 non-null   float64\n",
      " 34  I agree to pay the amount through cheque       9240 non-null   object \n",
      " 35  A free copy of Mastering The Interview         9240 non-null   object \n",
      " 36  Last Notable Activity                          9240 non-null   object \n",
      "dtypes: float64(4), int64(3), object(30)\n",
      "memory usage: 2.6+ MB\n"
     ]
    }
   ],
   "source": [
    "df.info()"
   ]
  },
  {
   "cell_type": "code",
   "execution_count": null,
   "metadata": {},
   "outputs": [],
   "source": []
  },
  {
   "cell_type": "code",
   "execution_count": 1296,
   "metadata": {
    "scrolled": true
   },
   "outputs": [
    {
     "name": "stdout",
     "output_type": "stream",
     "text": [
      "============= Prospect ID =============\n",
      "Prospect ID\n",
      "7927b2df-8bba-4d29-b9a2-b6e0beafe620    0.000108\n",
      "22e9d4ef-d294-4ebf-81c7-7c7a1105aeea    0.000108\n",
      "46befc49-253a-419b-abea-2fd978d2e2b1    0.000108\n",
      "9d35a2c2-09d8-439f-9875-0e8bbf267f5a    0.000108\n",
      "f0de9371-4dc2-48c2-9785-a08d6fc4fcb5    0.000108\n",
      "Name: proportion, dtype: float64\n",
      "============= Lead Origin =============\n",
      "Lead Origin\n",
      "Landing Page Submission    0.528788\n",
      "API                        0.387446\n",
      "Lead Add Form              0.077706\n",
      "Lead Import                0.005952\n",
      "Quick Add Form             0.000108\n",
      "Name: proportion, dtype: float64\n",
      "============= Lead Source =============\n",
      "Lead Source\n",
      "Google            0.311604\n",
      "Direct Traffic    0.276293\n",
      "Olark Chat        0.190678\n",
      "Organic Search    0.125380\n",
      "Reference         0.058018\n",
      "Name: proportion, dtype: float64\n",
      "============= Do Not Email =============\n",
      "Do Not Email\n",
      "No     0.920563\n",
      "Yes    0.079437\n",
      "Name: proportion, dtype: float64\n",
      "============= Do Not Call =============\n",
      "Do Not Call\n",
      "No     0.999784\n",
      "Yes    0.000216\n",
      "Name: proportion, dtype: float64\n",
      "============= Last Activity =============\n",
      "Last Activity\n",
      "Email Opened               0.376163\n",
      "SMS Sent                   0.300427\n",
      "Olark Chat Conversation    0.106490\n",
      "Page Visited on Website    0.070045\n",
      "Converted to Lead          0.046843\n",
      "Name: proportion, dtype: float64\n",
      "============= Country =============\n",
      "Country\n",
      "India                   0.957663\n",
      "United States           0.010178\n",
      "United Arab Emirates    0.007818\n",
      "Singapore               0.003540\n",
      "Saudi Arabia            0.003098\n",
      "Name: proportion, dtype: float64\n",
      "============= Specialization =============\n",
      "Specialization\n",
      "Select                       0.248911\n",
      "Finance Management           0.125096\n",
      "Human Resource Management    0.108690\n",
      "Marketing Management         0.107408\n",
      "Operations Management        0.064471\n",
      "Name: proportion, dtype: float64\n",
      "============= How did you hear about X Education =============\n",
      "How did you hear about X Education\n",
      "Select                   0.717048\n",
      "Online Search            0.114887\n",
      "Word Of Mouth            0.049481\n",
      "Student of SomeSchool    0.044078\n",
      "Other                    0.026447\n",
      "Name: proportion, dtype: float64\n",
      "============= What is your current occupation =============\n",
      "What is your current occupation\n",
      "Unemployed              0.854962\n",
      "Working Professional    0.107786\n",
      "Student                 0.032061\n",
      "Other                   0.002443\n",
      "Housewife               0.001527\n",
      "Name: proportion, dtype: float64\n",
      "============= What matters most to you in choosing a course =============\n",
      "What matters most to you in choosing a course\n",
      "Better Career Prospects      0.999541\n",
      "Flexibility & Convenience    0.000306\n",
      "Other                        0.000153\n",
      "Name: proportion, dtype: float64\n",
      "============= Search =============\n",
      "Search\n",
      "No     0.998485\n",
      "Yes    0.001515\n",
      "Name: proportion, dtype: float64\n",
      "============= Magazine =============\n",
      "Magazine\n",
      "No    1.0\n",
      "Name: proportion, dtype: float64\n",
      "============= Newspaper Article =============\n",
      "Newspaper Article\n",
      "No     0.999784\n",
      "Yes    0.000216\n",
      "Name: proportion, dtype: float64\n",
      "============= X Education Forums =============\n",
      "X Education Forums\n",
      "No     0.999892\n",
      "Yes    0.000108\n",
      "Name: proportion, dtype: float64\n",
      "============= Newspaper =============\n",
      "Newspaper\n",
      "No     0.999892\n",
      "Yes    0.000108\n",
      "Name: proportion, dtype: float64\n",
      "============= Digital Advertisement =============\n",
      "Digital Advertisement\n",
      "No     0.999567\n",
      "Yes    0.000433\n",
      "Name: proportion, dtype: float64\n",
      "============= Through Recommendations =============\n",
      "Through Recommendations\n",
      "No     0.999242\n",
      "Yes    0.000758\n",
      "Name: proportion, dtype: float64\n",
      "============= Receive More Updates About Our Courses =============\n",
      "Receive More Updates About Our Courses\n",
      "No    1.0\n",
      "Name: proportion, dtype: float64\n",
      "============= Tags =============\n",
      "Tags\n",
      "Will revert after reading the email    0.351962\n",
      "Ringing                                0.204349\n",
      "Interested in other courses            0.087141\n",
      "Already a student                      0.078988\n",
      "Closed by Horizzon                     0.060812\n",
      "Name: proportion, dtype: float64\n",
      "============= Lead Quality =============\n",
      "Lead Quality\n",
      "Might be             0.348759\n",
      "Not Sure             0.244131\n",
      "High in Relevance    0.142410\n",
      "Worst                0.134362\n",
      "Low in Relevance     0.130338\n",
      "Name: proportion, dtype: float64\n",
      "============= Update me on Supply Chain Content =============\n",
      "Update me on Supply Chain Content\n",
      "No    1.0\n",
      "Name: proportion, dtype: float64\n",
      "============= Get updates on DM Content =============\n",
      "Get updates on DM Content\n",
      "No    1.0\n",
      "Name: proportion, dtype: float64\n",
      "============= Lead Profile =============\n",
      "Lead Profile\n",
      "Select                   0.634819\n",
      "Potential Lead           0.246976\n",
      "Other Leads              0.074567\n",
      "Student of SomeSchool    0.036901\n",
      "Lateral Student          0.003675\n",
      "Name: proportion, dtype: float64\n",
      "============= City =============\n",
      "City\n",
      "Mumbai                         0.412020\n",
      "Select                         0.287596\n",
      "Thane & Outskirts              0.096164\n",
      "Other Cities                   0.087724\n",
      "Other Cities of Maharashtra    0.058440\n",
      "Name: proportion, dtype: float64\n",
      "============= Asymmetrique Activity Index =============\n",
      "Asymmetrique Activity Index\n",
      "02.Medium    0.764436\n",
      "01.High      0.163481\n",
      "03.Low       0.072083\n",
      "Name: proportion, dtype: float64\n",
      "============= Asymmetrique Profile Index =============\n",
      "Asymmetrique Profile Index\n",
      "02.Medium    0.555157\n",
      "01.High      0.438670\n",
      "03.Low       0.006173\n",
      "Name: proportion, dtype: float64\n",
      "============= I agree to pay the amount through cheque =============\n",
      "I agree to pay the amount through cheque\n",
      "No    1.0\n",
      "Name: proportion, dtype: float64\n",
      "============= A free copy of Mastering The Interview =============\n",
      "A free copy of Mastering The Interview\n",
      "No     0.687446\n",
      "Yes    0.312554\n",
      "Name: proportion, dtype: float64\n",
      "============= Last Notable Activity =============\n",
      "Last Notable Activity\n",
      "Modified                   0.368723\n",
      "Email Opened               0.305952\n",
      "SMS Sent                   0.235065\n",
      "Page Visited on Website    0.034416\n",
      "Olark Chat Conversation    0.019805\n",
      "Name: proportion, dtype: float64\n"
     ]
    }
   ],
   "source": [
    "for column in df.select_dtypes('object').columns:\n",
    "    print(f\"============= {column} =============\")\n",
    "    print(df[column].value_counts(normalize=True)[:5])"
   ]
  },
  {
   "cell_type": "markdown",
   "metadata": {},
   "source": [
    "### Removing ID"
   ]
  },
  {
   "cell_type": "code",
   "execution_count": 1297,
   "metadata": {},
   "outputs": [],
   "source": [
    "# Remove Identity columns as they do not have any prediction power (too unique)\n",
    "df.drop(columns=['Prospect ID', 'Lead Number'], inplace=True)"
   ]
  },
  {
   "cell_type": "markdown",
   "metadata": {},
   "source": [
    "### Replacing 'Select' Terms"
   ]
  },
  {
   "cell_type": "code",
   "execution_count": 1298,
   "metadata": {},
   "outputs": [],
   "source": [
    "# The \"Select\" terms must be replaced from all columns (missing data)\n",
    "df.replace('Select', np.nan, inplace=True)"
   ]
  },
  {
   "cell_type": "code",
   "execution_count": null,
   "metadata": {},
   "outputs": [],
   "source": []
  },
  {
   "cell_type": "code",
   "execution_count": null,
   "metadata": {},
   "outputs": [],
   "source": []
  },
  {
   "cell_type": "code",
   "execution_count": null,
   "metadata": {},
   "outputs": [],
   "source": []
  },
  {
   "cell_type": "code",
   "execution_count": null,
   "metadata": {},
   "outputs": [],
   "source": []
  },
  {
   "cell_type": "code",
   "execution_count": null,
   "metadata": {},
   "outputs": [],
   "source": []
  },
  {
   "cell_type": "code",
   "execution_count": null,
   "metadata": {},
   "outputs": [],
   "source": []
  },
  {
   "cell_type": "markdown",
   "metadata": {},
   "source": [
    "### Columns with high Missing Values"
   ]
  },
  {
   "cell_type": "code",
   "execution_count": null,
   "metadata": {},
   "outputs": [],
   "source": []
  },
  {
   "cell_type": "code",
   "execution_count": 1299,
   "metadata": {},
   "outputs": [
    {
     "data": {
      "image/png": "[encoded data removed]",
      "text/plain": [
       "<Figure size 640x480 with 1 Axes>"
      ]
     },
     "metadata": {
      "image/png": {
       "height": 432,
       "width": 875
      }
     },
     "output_type": "display_data"
    }
   ],
   "source": [
    "# Check the number of nulls\n",
    "NULL_COLUMN_THRESHOLD = 0.4\n",
    "\n",
    "null_percent = df.isnull().sum() / df.shape[0] \n",
    "null_features = null_percent[null_percent > 0]\n",
    "\n",
    "# Drop any columns with null values more than this%\n",
    "df.drop(columns=null_percent[null_percent > NULL_COLUMN_THRESHOLD].index, inplace=True)\n",
    "\n",
    "# Visualize.\n",
    "null_features_df = null_features.reset_index()\n",
    "null_features_df.columns = ['Feature', 'Value']\n",
    "sns.barplot(x='Value', y='Feature', data=null_features_df, orient='h')\n",
    "\n",
    "plt.axvline(NULL_COLUMN_THRESHOLD, color='k')\n",
    "plt.show()"
   ]
  },
  {
   "cell_type": "code",
   "execution_count": 1300,
   "metadata": {},
   "outputs": [],
   "source": [
    "df.to_pickle('cleaning_high_missing.pkl')"
   ]
  },
  {
   "cell_type": "markdown",
   "metadata": {},
   "source": [
    "### Imputation"
   ]
  },
  {
   "cell_type": "code",
   "execution_count": 1301,
   "metadata": {},
   "outputs": [],
   "source": [
    "df = pd.read_pickle('cleaning_high_missing.pkl')"
   ]
  },
  {
   "cell_type": "code",
   "execution_count": 1302,
   "metadata": {},
   "outputs": [
    {
     "data": {
      "text/plain": [
       "Lead Source                                      0.003896\n",
       "TotalVisits                                      0.014827\n",
       "Page Views Per Visit                             0.014827\n",
       "Last Activity                                    0.011147\n",
       "Country                                          0.266342\n",
       "Specialization                                   0.365801\n",
       "What is your current occupation                  0.291126\n",
       "What matters most to you in choosing a course    0.293182\n",
       "Tags                                             0.362879\n",
       "City                                             0.397078\n",
       "dtype: float64"
      ]
     },
     "execution_count": 1302,
     "metadata": {},
     "output_type": "execute_result"
    }
   ],
   "source": [
    "remaining = df.isnull().mean()\n",
    "remaining[remaining > 0]"
   ]
  },
  {
   "cell_type": "markdown",
   "metadata": {},
   "source": [
    "#### Imputing Lead Source"
   ]
  },
  {
   "cell_type": "code",
   "execution_count": null,
   "metadata": {},
   "outputs": [],
   "source": []
  },
  {
   "cell_type": "code",
   "execution_count": 1303,
   "metadata": {},
   "outputs": [
    {
     "data": {
      "text/plain": [
       "Lead Source\n",
       "Google            0.310390\n",
       "Direct Traffic    0.275216\n",
       "Olark Chat        0.189935\n",
       "Organic Search    0.124892\n",
       "Reference         0.057792\n",
       "Name: proportion, dtype: float64"
      ]
     },
     "execution_count": 1303,
     "metadata": {},
     "output_type": "execute_result"
    }
   ],
   "source": [
    "# If number of nulls is low then we can impute it.\n",
    "df['Lead Source'].value_counts(normalize=True, dropna=False)[:5]"
   ]
  },
  {
   "cell_type": "code",
   "execution_count": 1304,
   "metadata": {},
   "outputs": [],
   "source": [
    "# For 'Lead Source', we observe that Mode is Google. And very small fraction is NA. \n",
    "# If unknown, we can assume that they were redirected from Google.\n",
    "# So we impute this information with the mode value (Google)\n",
    "df['Lead Source'] = df['Lead Source'].fillna(df['Lead Source'].mode()[0])"
   ]
  },
  {
   "cell_type": "code",
   "execution_count": null,
   "metadata": {},
   "outputs": [],
   "source": []
  },
  {
   "cell_type": "markdown",
   "metadata": {},
   "source": [
    "#### Dropping Null rows"
   ]
  },
  {
   "cell_type": "code",
   "execution_count": null,
   "metadata": {},
   "outputs": [],
   "source": []
  },
  {
   "cell_type": "code",
   "execution_count": 1305,
   "metadata": {},
   "outputs": [
    {
     "data": {
      "text/plain": [
       "TotalVisits\n",
       "0.0    0.236905\n",
       "2.0    0.181818\n",
       "3.0    0.141342\n",
       "4.0    0.121212\n",
       "5.0    0.084740\n",
       "Name: proportion, dtype: float64"
      ]
     },
     "execution_count": 1305,
     "metadata": {},
     "output_type": "execute_result"
    }
   ],
   "source": [
    "# If number of nulls is low then we can impute it.\n",
    "df['TotalVisits'].value_counts(normalize=True, dropna=False).loc[:5]"
   ]
  },
  {
   "cell_type": "code",
   "execution_count": 1306,
   "metadata": {},
   "outputs": [
    {
     "name": "stdout",
     "output_type": "stream",
     "text": [
      "<class 'pandas.core.frame.DataFrame'>\n",
      "Index: 137 entries, 77 to 9087\n",
      "Data columns (total 28 columns):\n",
      " #   Column                                         Non-Null Count  Dtype  \n",
      "---  ------                                         --------------  -----  \n",
      " 0   Lead Origin                                    137 non-null    object \n",
      " 1   Lead Source                                    137 non-null    object \n",
      " 2   Do Not Email                                   137 non-null    object \n",
      " 3   Do Not Call                                    137 non-null    object \n",
      " 4   Converted                                      137 non-null    int64  \n",
      " 5   TotalVisits                                    0 non-null      float64\n",
      " 6   Total Time Spent on Website                    137 non-null    int64  \n",
      " 7   Page Views Per Visit                           0 non-null      float64\n",
      " 8   Last Activity                                  34 non-null     object \n",
      " 9   Country                                        0 non-null      object \n",
      " 10  Specialization                                 61 non-null     object \n",
      " 11  What is your current occupation                130 non-null    object \n",
      " 12  What matters most to you in choosing a course  130 non-null    object \n",
      " 13  Search                                         137 non-null    object \n",
      " 14  Magazine                                       137 non-null    object \n",
      " 15  Newspaper Article                              137 non-null    object \n",
      " 16  X Education Forums                             137 non-null    object \n",
      " 17  Newspaper                                      137 non-null    object \n",
      " 18  Digital Advertisement                          137 non-null    object \n",
      " 19  Through Recommendations                        137 non-null    object \n",
      " 20  Receive More Updates About Our Courses         137 non-null    object \n",
      " 21  Tags                                           117 non-null    object \n",
      " 22  Update me on Supply Chain Content              137 non-null    object \n",
      " 23  Get updates on DM Content                      137 non-null    object \n",
      " 24  City                                           68 non-null     object \n",
      " 25  I agree to pay the amount through cheque       137 non-null    object \n",
      " 26  A free copy of Mastering The Interview         137 non-null    object \n",
      " 27  Last Notable Activity                          137 non-null    object \n",
      "dtypes: float64(2), int64(2), object(24)\n",
      "memory usage: 31.0+ KB\n"
     ]
    }
   ],
   "source": [
    "df[df['TotalVisits'].isna()].info()"
   ]
  },
  {
   "cell_type": "code",
   "execution_count": 1307,
   "metadata": {},
   "outputs": [],
   "source": [
    "# we observe that when this value is null, some other column values also tends to be null\n",
    "# For example, Page Views Per Visit is always null, Country & City is null half the time, and Specialization is also null. \n",
    "# Last Activity also has many nul values.\n",
    "# It is likely that the data is captured in a specific way, and there's an edge case where data is missed, which affects many other columns.\n",
    "# It is best to drop these rows."
   ]
  },
  {
   "cell_type": "code",
   "execution_count": 1308,
   "metadata": {},
   "outputs": [],
   "source": [
    "df.dropna(subset=['TotalVisits'], inplace=True)"
   ]
  },
  {
   "cell_type": "code",
   "execution_count": null,
   "metadata": {},
   "outputs": [],
   "source": []
  },
  {
   "cell_type": "code",
   "execution_count": 1309,
   "metadata": {},
   "outputs": [
    {
     "data": {
      "text/plain": [
       "Country                                          0.255300\n",
       "Specialization                                   0.362957\n",
       "What is your current occupation                  0.294738\n",
       "What matters most to you in choosing a course    0.296825\n",
       "Tags                                             0.366143\n",
       "City                                             0.395474\n",
       "dtype: float64"
      ]
     },
     "execution_count": 1309,
     "metadata": {},
     "output_type": "execute_result"
    }
   ],
   "source": [
    "remaining = df.isnull().mean()\n",
    "remaining[remaining > 0]"
   ]
  },
  {
   "cell_type": "code",
   "execution_count": null,
   "metadata": {},
   "outputs": [],
   "source": []
  },
  {
   "cell_type": "code",
   "execution_count": 1310,
   "metadata": {},
   "outputs": [],
   "source": [
    "df.to_pickle('cleaning_null_rows.pkl')"
   ]
  },
  {
   "cell_type": "markdown",
   "metadata": {},
   "source": [
    "### Constant Columns"
   ]
  },
  {
   "cell_type": "code",
   "execution_count": 1311,
   "metadata": {},
   "outputs": [],
   "source": [
    "df = pd.read_pickle(\"cleaning_null_rows.pkl\")"
   ]
  },
  {
   "cell_type": "code",
   "execution_count": 1312,
   "metadata": {},
   "outputs": [
    {
     "name": "stdout",
     "output_type": "stream",
     "text": [
      "removing ['Magazine', 'Receive More Updates About Our Courses', 'Update me on Supply Chain Content', 'Get updates on DM Content', 'I agree to pay the amount through cheque']\n"
     ]
    }
   ],
   "source": [
    "# Remove columns with all values constant.\n",
    "\n",
    "constant_cols = [col for col in df.columns if df[col].nunique() == 1]\n",
    "print(\"removing\", constant_cols)"
   ]
  },
  {
   "cell_type": "code",
   "execution_count": 1313,
   "metadata": {},
   "outputs": [],
   "source": [
    "df.drop(columns=constant_cols, inplace=True)"
   ]
  },
  {
   "cell_type": "code",
   "execution_count": 1314,
   "metadata": {},
   "outputs": [],
   "source": [
    "df.to_pickle('cleaning_constant_removed.pkl')"
   ]
  },
  {
   "cell_type": "code",
   "execution_count": null,
   "metadata": {},
   "outputs": [],
   "source": []
  },
  {
   "cell_type": "markdown",
   "metadata": {},
   "source": [
    "### Binary Variables"
   ]
  },
  {
   "cell_type": "code",
   "execution_count": 1315,
   "metadata": {},
   "outputs": [],
   "source": [
    "df = pd.read_pickle(\"cleaning_constant_removed.pkl\")"
   ]
  },
  {
   "cell_type": "code",
   "execution_count": 1316,
   "metadata": {},
   "outputs": [],
   "source": [
    "boolean_columns = [\n",
    "    'Do Not Email', 'Do Not Call',\n",
    "    'Search', 'Magazine', 'Newspaper Article', \n",
    "    'X Education Forums', 'Newspaper', 'Digital Advertisement', \n",
    "    'Through Recommendations', 'Receive More Updates About Our Courses', \n",
    "    'Update me on Supply Chain Content', 'Get updates on DM Content', \n",
    "    'I agree to pay the amount through cheque', 'A free copy of Mastering The Interview',\n",
    "]\n",
    "\n",
    "def yes_no_boolean(value):\n",
    "    if isinstance(value, bool):\n",
    "        # already converted.\n",
    "        return value\n",
    "    if value.lower() == 'yes':\n",
    "        return True\n",
    "    elif value.lower() == 'no':\n",
    "        return False\n",
    "    raise ValueError(f\"Invalid value: {value}\")\n",
    "\n",
    "for column in boolean_columns:\n",
    "    if column not in df.columns:\n",
    "        # dropped before.\n",
    "        continue\n",
    "    df[column] = df[column].apply(yes_no_boolean).astype(bool)"
   ]
  },
  {
   "cell_type": "code",
   "execution_count": 1317,
   "metadata": {},
   "outputs": [],
   "source": [
    "# ensure there is no other value except for True and False.\n",
    "df['Converted'] = df['Converted'].astype(bool)"
   ]
  },
  {
   "cell_type": "code",
   "execution_count": null,
   "metadata": {},
   "outputs": [],
   "source": []
  },
  {
   "cell_type": "markdown",
   "metadata": {},
   "source": [
    "### Clubbing Categorical Values"
   ]
  },
  {
   "cell_type": "code",
   "execution_count": null,
   "metadata": {},
   "outputs": [],
   "source": []
  },
  {
   "cell_type": "code",
   "execution_count": null,
   "metadata": {},
   "outputs": [],
   "source": []
  },
  {
   "cell_type": "code",
   "execution_count": null,
   "metadata": {},
   "outputs": [],
   "source": [
    "# dangerous\n",
    "columns_with_other = [col for col in df.columns if df[col].apply(lambda x: 'other' in str(x).lower() if pd.notnull(x) else False).any()]\n",
    "columns_with_other"
   ]
  },
  {
   "cell_type": "code",
   "execution_count": null,
   "metadata": {},
   "outputs": [],
   "source": []
  },
  {
   "cell_type": "code",
   "execution_count": null,
   "metadata": {},
   "outputs": [],
   "source": [
    "for column in columns_with_other:\n",
    "    print(f\"=========== {column} ===========\")\n",
    "    print(df[column].value_counts())"
   ]
  },
  {
   "cell_type": "code",
   "execution_count": null,
   "metadata": {},
   "outputs": [],
   "source": []
  },
  {
   "cell_type": "code",
   "execution_count": null,
   "metadata": {},
   "outputs": [],
   "source": [
    "# replace Other for consisteny.\n",
    "for col in ['What is your current occupation', 'What matters most to you in choosing a course']:\n",
    "    df[col] = df[col].str.replace('Other', 'others', case=False)\n",
    "\n",
    "df['City'] = df['City'].str.replace('Other Cities', 'others', case=False)"
   ]
  },
  {
   "cell_type": "code",
   "execution_count": null,
   "metadata": {},
   "outputs": [],
   "source": []
  },
  {
   "cell_type": "code",
   "execution_count": null,
   "metadata": {},
   "outputs": [],
   "source": [
    "# club less common values together into one category.\n",
    "# also include NA."
   ]
  },
  {
   "cell_type": "code",
   "execution_count": null,
   "metadata": {},
   "outputs": [],
   "source": [
    "threshold = 0.95\n",
    "\n",
    "for column in df.select_dtypes(include=['object']).columns:\n",
    "# for column in ['Country']:\n",
    "    # print(f\"============= {column} ===============\")\n",
    "    value_counts = df[column].value_counts(normalize=True)\n",
    "    cumulative_counts = value_counts.cumsum()\n",
    "    less_common_values = cumulative_counts[cumulative_counts > threshold].index.to_list()\n",
    "\n",
    "    first_category = value_counts.index[0]\n",
    "    if cumulative_counts[first_category] > threshold:\n",
    "        less_common_values.remove(first_category)\n",
    "\n",
    "    # print(\"less_common_values\", less_common_values)\n",
    "\n",
    "    def replacer(value):\n",
    "        if pd.isna(value):\n",
    "            return value\n",
    "        if value not in less_common_values:\n",
    "            return value\n",
    "        return 'others'\n",
    "    \n",
    "    df[column] = df[column].apply(replacer)\n",
    "    print(f\"Number of uniques for '{column}' is\", df[column].nunique())"
   ]
  },
  {
   "cell_type": "markdown",
   "metadata": {},
   "source": [
    "### Low Variation"
   ]
  },
  {
   "cell_type": "code",
   "execution_count": null,
   "metadata": {},
   "outputs": [],
   "source": []
  },
  {
   "cell_type": "code",
   "execution_count": null,
   "metadata": {},
   "outputs": [],
   "source": [
    "THRESHOLD_LOW_VAR = 0.99\n",
    "\n",
    "# Check if a vast majority values are same, and drop these column, it is not useful.\n",
    "low_variation_columns = []\n",
    "printable = []\n",
    "for column in df.columns:\n",
    "\n",
    "    value_counts = df[column].value_counts(normalize=True)\n",
    "    cumulative_counts = value_counts.cumsum()\n",
    "\n",
    "    first_category = value_counts.index[0]    \n",
    "    \n",
    "    if cumulative_counts[first_category] > THRESHOLD_LOW_VAR:\n",
    "        printable.append({\n",
    "            'name': column,\n",
    "            'type': df.dtypes[column],\n",
    "            'dominant_value': first_category,\n",
    "            'percent': 100 * cumulative_counts[first_category],\n",
    "        })\n",
    "        # print(f\"'{column}' ({type()}) has dominant '{first_category}' \", round(cumulative_counts[first_category], 4)) \n",
    "        low_variation_columns.append(column)\n",
    "pd.DataFrame(printable)"
   ]
  },
  {
   "cell_type": "code",
   "execution_count": null,
   "metadata": {},
   "outputs": [],
   "source": [
    "df.drop(columns=low_variation_columns, inplace=True)"
   ]
  },
  {
   "cell_type": "code",
   "execution_count": null,
   "metadata": {},
   "outputs": [],
   "source": [
    "df.to_pickle('cleaning_low_variation_removed.pkl')"
   ]
  },
  {
   "cell_type": "code",
   "execution_count": null,
   "metadata": {},
   "outputs": [],
   "source": []
  },
  {
   "cell_type": "markdown",
   "metadata": {},
   "source": [
    "### Null Row Removal"
   ]
  },
  {
   "cell_type": "code",
   "execution_count": null,
   "metadata": {},
   "outputs": [],
   "source": [
    "df['Converted'].value_counts()"
   ]
  },
  {
   "cell_type": "code",
   "execution_count": null,
   "metadata": {},
   "outputs": [],
   "source": [
    "# Logistic Regression requires all non-null rows, so we drop any rows with any null column value\n",
    "rows_to_be_removed = df.isnull().any(axis=1)\n",
    "print(\"removing\", sum(rows_to_be_removed))\n",
    "df = df[~rows_to_be_removed]"
   ]
  },
  {
   "cell_type": "code",
   "execution_count": null,
   "metadata": {},
   "outputs": [],
   "source": [
    "# still balanced.\n",
    "df['Converted'].value_counts()"
   ]
  },
  {
   "cell_type": "code",
   "execution_count": null,
   "metadata": {},
   "outputs": [],
   "source": [
    "# Fraction of rows retained after cleanup.\n",
    "len(df) / len(pd.read_pickle('init.pkl'))"
   ]
  },
  {
   "cell_type": "code",
   "execution_count": null,
   "metadata": {},
   "outputs": [],
   "source": [
    "df.to_pickle('null_row_removed.pkl')"
   ]
  },
  {
   "cell_type": "code",
   "execution_count": null,
   "metadata": {},
   "outputs": [],
   "source": []
  },
  {
   "cell_type": "markdown",
   "metadata": {},
   "source": [
    "## Outlier Treatment"
   ]
  },
  {
   "cell_type": "code",
   "execution_count": null,
   "metadata": {},
   "outputs": [],
   "source": [
    "df = pd.read_pickle('null_row_removed.pkl')"
   ]
  },
  {
   "cell_type": "code",
   "execution_count": null,
   "metadata": {},
   "outputs": [],
   "source": [
    "def get_limits(series):\n",
    "    Q1 = series.quantile(0.25)\n",
    "    Q3 = series.quantile(0.75)\n",
    "    IQR = Q3 - Q1\n",
    "    lower_bound = Q1 - 1.5 * IQR\n",
    "    upper_bound = Q3 + 1.5 * IQR\n",
    "    return lower_bound, upper_bound\n",
    "df.select_dtypes(include=[float, int]).columns"
   ]
  },
  {
   "cell_type": "code",
   "execution_count": null,
   "metadata": {},
   "outputs": [],
   "source": [
    "lower_bound, upper_bound = get_limits(df['TotalVisits'])\n",
    "(df['TotalVisits'] < lower_bound).sum(), (df['TotalVisits'] > upper_bound).sum()"
   ]
  },
  {
   "cell_type": "code",
   "execution_count": null,
   "metadata": {},
   "outputs": [],
   "source": [
    "# repalcing these with the upper limit because it is unlikely that someone visited so often, and might be an issue with data capturing algorithm\n",
    "df['TotalVisits'].mask(df['TotalVisits'] > upper_bound, upper_bound, inplace=True)"
   ]
  },
  {
   "cell_type": "code",
   "execution_count": null,
   "metadata": {},
   "outputs": [],
   "source": [
    "# No outliers found\n",
    "lower_bound, upper_bound = get_limits(df['Total Time Spent on Website'])\n",
    "(df['Total Time Spent on Website'] < lower_bound).sum(), (df['Total Time Spent on Website'] > upper_bound).sum()"
   ]
  },
  {
   "cell_type": "code",
   "execution_count": null,
   "metadata": {},
   "outputs": [],
   "source": [
    "TARGET_COLUMN = 'Page Views Per Visit'\n",
    "\n",
    "lower_bound, upper_bound = get_limits(df[TARGET_COLUMN])\n",
    "(df[TARGET_COLUMN] < lower_bound).sum(), (df[TARGET_COLUMN] > upper_bound).sum()"
   ]
  },
  {
   "cell_type": "code",
   "execution_count": null,
   "metadata": {},
   "outputs": [],
   "source": [
    "# repalcing these with the upper limit because it is unlikely that someone visited so often, and might be an issue with data capturing algorithm\n",
    "df['Page Views Per Visit'].mask(df['Page Views Per Visit'] > upper_bound, upper_bound, inplace=True)"
   ]
  },
  {
   "cell_type": "code",
   "execution_count": null,
   "metadata": {},
   "outputs": [],
   "source": []
  },
  {
   "cell_type": "code",
   "execution_count": null,
   "metadata": {},
   "outputs": [],
   "source": []
  },
  {
   "cell_type": "code",
   "execution_count": null,
   "metadata": {},
   "outputs": [],
   "source": []
  },
  {
   "cell_type": "code",
   "execution_count": null,
   "metadata": {},
   "outputs": [],
   "source": []
  },
  {
   "cell_type": "code",
   "execution_count": null,
   "metadata": {},
   "outputs": [],
   "source": [
    "df.to_pickle('cleaning_final.pkl')"
   ]
  },
  {
   "cell_type": "code",
   "execution_count": null,
   "metadata": {},
   "outputs": [],
   "source": [
    "df.columns"
   ]
  },
  {
   "cell_type": "markdown",
   "metadata": {},
   "source": [
    "## EDA"
   ]
  },
  {
   "cell_type": "code",
   "execution_count": null,
   "metadata": {},
   "outputs": [],
   "source": [
    "df = pd.read_pickle('cleaning_final.pkl')"
   ]
  },
  {
   "cell_type": "code",
   "execution_count": null,
   "metadata": {},
   "outputs": [],
   "source": []
  },
  {
   "cell_type": "code",
   "execution_count": null,
   "metadata": {},
   "outputs": [],
   "source": [
    "# Here we observe many graphs and their patterns."
   ]
  },
  {
   "cell_type": "markdown",
   "metadata": {},
   "source": [
    "### Univariate Analysis"
   ]
  },
  {
   "cell_type": "code",
   "execution_count": null,
   "metadata": {},
   "outputs": [],
   "source": [
    "df['Do Not Email'].astype(str)"
   ]
  },
  {
   "cell_type": "code",
   "execution_count": null,
   "metadata": {},
   "outputs": [],
   "source": [
    "for column in df.select_dtypes(exclude=[float, int]):\n",
    "    df_col = df[column]\n",
    "    if df_col.dtype == bool:\n",
    "        df_col = df_col.astype(str)\n",
    "    plt.figure()\n",
    "    sns.displot(df_col)\n",
    "    plt.show()"
   ]
  },
  {
   "cell_type": "code",
   "execution_count": null,
   "metadata": {},
   "outputs": [],
   "source": [
    "for column in df.select_dtypes(include=[float, int]):\n",
    "    plt.figure()\n",
    "    sns.histplot(df[column], kde=True)\n",
    "    plt.show()"
   ]
  },
  {
   "cell_type": "code",
   "execution_count": null,
   "metadata": {
    "scrolled": true
   },
   "outputs": [],
   "source": []
  },
  {
   "cell_type": "markdown",
   "metadata": {},
   "source": [
    "### Bivariate Analysis"
   ]
  },
  {
   "cell_type": "code",
   "execution_count": null,
   "metadata": {},
   "outputs": [],
   "source": []
  },
  {
   "cell_type": "code",
   "execution_count": null,
   "metadata": {},
   "outputs": [],
   "source": [
    "# All categorical var in the dataset\n",
    "df_categorical = df.select_dtypes(exclude=['float64','datetime64','int64', bool])\n",
    "df_categorical.head()"
   ]
  },
  {
   "cell_type": "code",
   "execution_count": null,
   "metadata": {},
   "outputs": [],
   "source": []
  },
  {
   "cell_type": "markdown",
   "metadata": {},
   "source": [
    "#### Side By Side Boxplots"
   ]
  },
  {
   "cell_type": "code",
   "execution_count": null,
   "metadata": {},
   "outputs": [],
   "source": [
    "\n",
    "for column in df.select_dtypes(include=['float64', 'int64']).columns:\n",
    "    plt.figure(figsize=(10, 6))\n",
    "    sns.boxplot(x='Converted', y=column, data=df, palette='hsv')\n",
    "    plt.title(f'Distribution of {column} by Converted status')\n",
    "    plt.show()"
   ]
  },
  {
   "cell_type": "markdown",
   "metadata": {},
   "source": [
    " "
   ]
  },
  {
   "cell_type": "code",
   "execution_count": null,
   "metadata": {
    "scrolled": true
   },
   "outputs": [],
   "source": [
    "for column in df.select_dtypes(include=['float64', 'int64']).columns:\n",
    "    plt.figure(figsize=(10, 6))\n",
    "    sns.boxenplot(x='Converted', y=column, data=df, palette='hsv')\n",
    "    plt.title(f'Distribution of {column} by Converted status')\n",
    "    plt.show()"
   ]
  },
  {
   "cell_type": "code",
   "execution_count": null,
   "metadata": {},
   "outputs": [],
   "source": []
  },
  {
   "cell_type": "code",
   "execution_count": null,
   "metadata": {},
   "outputs": [],
   "source": [
    "for column in df.select_dtypes(include=['object', 'category', 'bool']).columns:\n",
    "    if column == 'Converted':\n",
    "        continue\n",
    "    plt.figure(figsize=(10, 6))\n",
    "    sns.barplot(x=column, y='Converted', data=df, estimator=np.mean, palette='hsv')\n",
    "    plt.title(f'Average Conversion - {column}')\n",
    "    plt.xticks(rotation=45)\n",
    "    plt.show()\n"
   ]
  },
  {
   "cell_type": "markdown",
   "metadata": {},
   "source": [
    "We observe that it is hard to guess the conversion rate among any of these categories."
   ]
  },
  {
   "cell_type": "markdown",
   "metadata": {},
   "source": [
    "### Checking Correlation between Features"
   ]
  },
  {
   "cell_type": "code",
   "execution_count": null,
   "metadata": {},
   "outputs": [],
   "source": [
    "df_numeric = df.select_dtypes(include=['float', 'int'])\n",
    "df_numeric[\"Converted\"] = df[\"Converted\"]\n",
    "sns.pairplot(df_numeric)\n",
    "plt.show()"
   ]
  },
  {
   "cell_type": "code",
   "execution_count": null,
   "metadata": {},
   "outputs": [],
   "source": [
    "corr = df_numeric.corr()\n",
    "corr"
   ]
  },
  {
   "cell_type": "code",
   "execution_count": null,
   "metadata": {},
   "outputs": [],
   "source": [
    "sns.heatmap(corr, square=True, annot=True)"
   ]
  },
  {
   "cell_type": "markdown",
   "metadata": {},
   "source": [
    "We observe that TotalVisits and PageViews Per Visit ahve some correlation, which is natural."
   ]
  },
  {
   "cell_type": "markdown",
   "metadata": {},
   "source": [
    "## Modelling"
   ]
  },
  {
   "cell_type": "code",
   "execution_count": null,
   "metadata": {},
   "outputs": [],
   "source": [
    "import pandas as pd"
   ]
  },
  {
   "cell_type": "code",
   "execution_count": null,
   "metadata": {},
   "outputs": [],
   "source": [
    "# pick last element from the dataframes array.\n",
    "df_model = pd.read_pickle('cleaning_final.pkl')"
   ]
  },
  {
   "cell_type": "markdown",
   "metadata": {
    "jp-MarkdownHeadingCollapsed": true
   },
   "source": [
    "### Scaling"
   ]
  },
  {
   "cell_type": "code",
   "execution_count": null,
   "metadata": {},
   "outputs": [],
   "source": [
    "df_model.select_dtypes(exclude=['object', 'bool']).columns"
   ]
  },
  {
   "cell_type": "code",
   "execution_count": null,
   "metadata": {},
   "outputs": [],
   "source": []
  },
  {
   "cell_type": "code",
   "execution_count": null,
   "metadata": {
    "scrolled": true
   },
   "outputs": [],
   "source": [
    "from sklearn.preprocessing import MinMaxScaler\n",
    "scaler = MinMaxScaler()\n",
    "\n",
    "# Apply scaler() to all the columns except the binary and categorical\n",
    "num_vars = ['TotalVisits', 'Total Time Spent on Website', 'Page Views Per Visit']\n",
    "\n",
    "df_model[num_vars] = scaler.fit_transform(df_model[num_vars])\n"
   ]
  },
  {
   "cell_type": "code",
   "execution_count": null,
   "metadata": {},
   "outputs": [],
   "source": [
    "df_model[num_vars].head()"
   ]
  },
  {
   "cell_type": "code",
   "execution_count": null,
   "metadata": {},
   "outputs": [],
   "source": [
    "df_model.to_pickle('model_scale.pkl')"
   ]
  },
  {
   "cell_type": "markdown",
   "metadata": {},
   "source": [
    "### Dummy Columns"
   ]
  },
  {
   "cell_type": "code",
   "execution_count": null,
   "metadata": {},
   "outputs": [],
   "source": []
  },
  {
   "cell_type": "code",
   "execution_count": null,
   "metadata": {
    "scrolled": true
   },
   "outputs": [],
   "source": [
    "df_model.select_dtypes('object').columns"
   ]
  },
  {
   "cell_type": "code",
   "execution_count": null,
   "metadata": {},
   "outputs": [],
   "source": [
    "# create dummies\n",
    "cat_columns = list(set(['Lead Origin', 'Lead Source', 'Last Activity', 'Country',\n",
    "       'Specialization', 'What is your current occupation',\n",
    "       'What matters most to you in choosing a course', 'Tags', 'City',\n",
    "       'Last Notable Activity']).intersection(df_model.columns))\n",
    "\n",
    "df_model = pd.get_dummies(df_model, drop_first=True, columns=cat_columns)\n",
    "\n",
    "for col in df_model.columns:\n",
    "    if df_model[col].dtype == 'bool':\n",
    "        df_model[col] = df_model[col].astype(int)\n"
   ]
  },
  {
   "cell_type": "code",
   "execution_count": null,
   "metadata": {},
   "outputs": [],
   "source": [
    "df_model.head()"
   ]
  },
  {
   "cell_type": "code",
   "execution_count": null,
   "metadata": {},
   "outputs": [],
   "source": [
    "df_model.to_pickle(\"model_dummy.pkl\")"
   ]
  },
  {
   "cell_type": "markdown",
   "metadata": {},
   "source": [
    "### Train Test Split"
   ]
  },
  {
   "cell_type": "code",
   "execution_count": null,
   "metadata": {},
   "outputs": [],
   "source": [
    "df_model = pd.read_pickle('model_dummy.pkl')"
   ]
  },
  {
   "cell_type": "code",
   "execution_count": null,
   "metadata": {},
   "outputs": [],
   "source": [
    "df_model.shape"
   ]
  },
  {
   "cell_type": "code",
   "execution_count": null,
   "metadata": {},
   "outputs": [],
   "source": [
    "TRAIN_SIZE = 0.8\n",
    "RANDOM_STATE = 100\n",
    "Y_LABEL = 'Converted'"
   ]
  },
  {
   "cell_type": "code",
   "execution_count": null,
   "metadata": {},
   "outputs": [],
   "source": [
    "from sklearn.model_selection import train_test_split\n",
    "\n",
    "# We specify this so that the train and test data set always have the same rows, respectively\n",
    "\n",
    "df_train, df_test = train_test_split(df_model, train_size = 0.8, test_size = 1-TRAIN_SIZE, random_state = RANDOM_STATE)\n",
    "\n",
    "y_train = df_train[Y_LABEL]\n",
    "X_train = df_train.drop(columns=Y_LABEL)\n",
    "y_test = df_test[Y_LABEL]\n",
    "X_test = df_test.drop(columns=Y_LABEL)"
   ]
  },
  {
   "cell_type": "code",
   "execution_count": null,
   "metadata": {},
   "outputs": [],
   "source": []
  },
  {
   "cell_type": "markdown",
   "metadata": {
    "jp-MarkdownHeadingCollapsed": true
   },
   "source": [
    "### Basic Model"
   ]
  },
  {
   "cell_type": "code",
   "execution_count": null,
   "metadata": {},
   "outputs": [],
   "source": [
    "# Importing RFE and LinearRegression\n",
    "from sklearn.linear_model import LogisticRegression\n",
    "from sklearn.metrics import accuracy_score\n",
    "\n",
    "model = LogisticRegression()\n",
    "model.fit(X_train, y_train)\n",
    "predictions_train = model.predict(X_train)\n",
    "predictions_test = model.predict(X_test)\n",
    "\n",
    "from sklearn.metrics import classification_report\n",
    "print(classification_report(y_train, predictions_train))\n",
    "print(classification_report(y_test, predictions_test))"
   ]
  },
  {
   "cell_type": "code",
   "execution_count": null,
   "metadata": {},
   "outputs": [],
   "source": [
    "# Even without using RFE, this preliminary model is quite strong."
   ]
  },
  {
   "cell_type": "code",
   "execution_count": null,
   "metadata": {},
   "outputs": [],
   "source": []
  },
  {
   "cell_type": "markdown",
   "metadata": {
    "jp-MarkdownHeadingCollapsed": true
   },
   "source": [
    "### RFE"
   ]
  },
  {
   "cell_type": "code",
   "execution_count": null,
   "metadata": {},
   "outputs": [],
   "source": [
    "from sklearn.feature_selection import RFE\n",
    "\n",
    "rfe = RFE(model, n_features_to_select=15)             # running RFE\n",
    "rfe = rfe.fit(X_train, y_train)"
   ]
  },
  {
   "cell_type": "code",
   "execution_count": null,
   "metadata": {},
   "outputs": [],
   "source": []
  },
  {
   "cell_type": "code",
   "execution_count": null,
   "metadata": {},
   "outputs": [],
   "source": [
    "X_train_rfe = rfe.transform(X_train)\n",
    "X_test_rfe = rfe.transform(X_test)\n"
   ]
  },
  {
   "cell_type": "code",
   "execution_count": null,
   "metadata": {
    "scrolled": true
   },
   "outputs": [],
   "source": [
    "list(zip(X_train.columns, rfe.support_, rfe.ranking_))"
   ]
  },
  {
   "cell_type": "code",
   "execution_count": null,
   "metadata": {},
   "outputs": [],
   "source": [
    "model.fit(X_train_rfe, y_train)\n",
    "predictions_rfe = model.predict(X_test_rfe)\n",
    "accuracy_rfe = accuracy_score(y_test, predictions_rfe)\n",
    "print(f\"Model Accuracy with RFE: {accuracy_rfe}\")"
   ]
  },
  {
   "cell_type": "code",
   "execution_count": null,
   "metadata": {},
   "outputs": [],
   "source": [
    "X_train.columns[rfe.support_]"
   ]
  },
  {
   "cell_type": "code",
   "execution_count": null,
   "metadata": {},
   "outputs": [],
   "source": [
    "# Calculate the VIFs for the new model\n",
    "import statsmodels.api as sm  \n",
    "from statsmodels.stats.outliers_influence import variance_inflation_factor\n",
    "\n",
    "def build_model(X, y):\n",
    "    X = sm.add_constant(X) #Adding the constant\n",
    "    # lm = sm.Logit(y, X).fit() # fitting the model\n",
    "    lm = sm.GLM(y, X, family = sm.families.Binomial()).fit()\n",
    "    return lm\n",
    "\n",
    "def check_VIF(X):\n",
    "    vif = pd.DataFrame()\n",
    "    vif['Features'] = X.columns\n",
    "    vif['VIF'] = [variance_inflation_factor(X.values, i) for i in range(X.shape[1])]\n",
    "    vif['VIF'] = round(vif['VIF'], 2)\n",
    "    vif = vif.sort_values(by = \"VIF\", ascending = False)\n",
    "    return vif\n"
   ]
  },
  {
   "cell_type": "markdown",
   "metadata": {},
   "source": [
    "### Removing high p-value"
   ]
  },
  {
   "cell_type": "code",
   "execution_count": null,
   "metadata": {},
   "outputs": [],
   "source": [
    "X_train_new = X_train[X_train.columns[rfe.support_]]\n",
    "lm = build_model(X_train_new, y_train)\n",
    "lm.summary()"
   ]
  },
  {
   "cell_type": "code",
   "execution_count": null,
   "metadata": {},
   "outputs": [],
   "source": []
  },
  {
   "cell_type": "code",
   "execution_count": null,
   "metadata": {},
   "outputs": [],
   "source": [
    "# drop due to high p-value\n",
    "X_train_new.drop(['Tags_Not doing further education'],axis=1, inplace=True)\n",
    "lm = build_model(X_train_new, y_train)\n",
    "lm.summary()"
   ]
  },
  {
   "cell_type": "code",
   "execution_count": null,
   "metadata": {},
   "outputs": [],
   "source": [
    "X_train_new.drop(['Tags_Lost to EINS'],axis=1, inplace=True)\n",
    "lm = build_model(X_train_new, y_train)\n",
    "lm.summary()"
   ]
  },
  {
   "cell_type": "code",
   "execution_count": null,
   "metadata": {},
   "outputs": [],
   "source": [
    "X_train_new.drop(['Lead Source_others'],axis=1, inplace=True)\n",
    "lm = build_model(X_train_new, y_train)\n",
    "lm.summary()"
   ]
  },
  {
   "cell_type": "code",
   "execution_count": null,
   "metadata": {},
   "outputs": [],
   "source": [
    "X_train_new.drop(['Last Notable Activity_Modified'],axis=1, inplace=True)\n",
    "lm = build_model(X_train_new, y_train)\n",
    "lm.summary()"
   ]
  },
  {
   "cell_type": "code",
   "execution_count": null,
   "metadata": {},
   "outputs": [],
   "source": []
  },
  {
   "cell_type": "code",
   "execution_count": null,
   "metadata": {},
   "outputs": [],
   "source": []
  },
  {
   "cell_type": "markdown",
   "metadata": {
    "jp-MarkdownHeadingCollapsed": true
   },
   "source": [
    "### Checking VIF"
   ]
  },
  {
   "cell_type": "code",
   "execution_count": null,
   "metadata": {},
   "outputs": [],
   "source": []
  },
  {
   "cell_type": "code",
   "execution_count": null,
   "metadata": {},
   "outputs": [],
   "source": [
    "check_VIF(X_train_new)"
   ]
  },
  {
   "cell_type": "markdown",
   "metadata": {},
   "source": [
    "Stop iteration since all VIF are below 5. This is the final model"
   ]
  },
  {
   "cell_type": "markdown",
   "metadata": {},
   "source": [
    "### Evaluation"
   ]
  },
  {
   "cell_type": "code",
   "execution_count": null,
   "metadata": {},
   "outputs": [],
   "source": [
    "X_test = sm.add_constant(df_test)\n",
    "\n",
    "X_test = X_test[lm.model.exog_names]\n",
    "\n",
    "y_test_pred = lm.predict(X_test)\n",
    "y_train_pred = lm.predict(sm.add_constant(X_train_new))"
   ]
  },
  {
   "cell_type": "code",
   "execution_count": null,
   "metadata": {},
   "outputs": [],
   "source": [
    "# These y_train_pred and y_test_pred values are essentially probability of lead conversion."
   ]
  },
  {
   "cell_type": "code",
   "execution_count": null,
   "metadata": {},
   "outputs": [],
   "source": []
  },
  {
   "cell_type": "code",
   "execution_count": null,
   "metadata": {},
   "outputs": [],
   "source": [
    "y_train_pred_df = pd.DataFrame({\n",
    "    'Converted': y_train.values, \n",
    "    'Probability': y_train_pred}\n",
    ")\n",
    "y_train_pred_df.head()"
   ]
  },
  {
   "cell_type": "code",
   "execution_count": null,
   "metadata": {},
   "outputs": [],
   "source": [
    "# Substituting 0 or 1 with the cut off as 0.5\n",
    "y_train_pred_df['Prediction'] = y_train_pred_df['Probability'].apply(lambda x: round(x))\n",
    "y_train_pred_df.head()"
   ]
  },
  {
   "cell_type": "code",
   "execution_count": null,
   "metadata": {},
   "outputs": [],
   "source": [
    "# Creating confusion matrix\n",
    "from sklearn import metrics\n",
    "\n",
    "confusion = metrics.confusion_matrix(y_train_pred_df['Converted'], y_train_pred_df['Prediction'] )\n",
    "confusion"
   ]
  },
  {
   "cell_type": "code",
   "execution_count": null,
   "metadata": {},
   "outputs": [],
   "source": [
    "print('Model accuracy:', round(metrics.accuracy_score(y_train_pred_df['Converted'], y_train_pred_df['Prediction']), 4) * 100, '%')"
   ]
  },
  {
   "cell_type": "code",
   "execution_count": null,
   "metadata": {},
   "outputs": [],
   "source": [
    "# Not converted\n",
    "TN, FP = confusion[0,:]\n",
    "\n",
    "# Yes Converted\n",
    "FN, TP = confusion[1,:]"
   ]
  },
  {
   "cell_type": "code",
   "execution_count": null,
   "metadata": {},
   "outputs": [],
   "source": [
    "sensitivity = round(TP/(TP+FN), 4) * 100\n",
    "print('Model sensitivity is', sensitivity, '%')\n",
    "\n",
    "specificity = round(TN/(TN+FP), 4) * 100\n",
    "print('Model specificity is', specificity, '%')"
   ]
  },
  {
   "cell_type": "markdown",
   "metadata": {},
   "source": [
    "#### Confusion Matrix (Train)"
   ]
  },
  {
   "cell_type": "code",
   "execution_count": null,
   "metadata": {},
   "outputs": [],
   "source": [
    "# also confirmed using classification report\n",
    "print(classification_report(y_train, (y_train_pred > 0.5)))"
   ]
  },
  {
   "cell_type": "markdown",
   "metadata": {},
   "source": [
    "#### Confusion Matrix (Test)"
   ]
  },
  {
   "cell_type": "code",
   "execution_count": null,
   "metadata": {},
   "outputs": [],
   "source": [
    "print(classification_report(y_test, (y_test_pred > 0.5)))"
   ]
  },
  {
   "cell_type": "markdown",
   "metadata": {},
   "source": [
    "### ROC Curve\n"
   ]
  },
  {
   "cell_type": "code",
   "execution_count": null,
   "metadata": {},
   "outputs": [],
   "source": [
    "# We can find more optimal threshold rather than 0.5"
   ]
  },
  {
   "cell_type": "code",
   "execution_count": null,
   "metadata": {},
   "outputs": [],
   "source": [
    "# ROC function\n",
    "def draw_roc( actual, probs ):\n",
    "    fpr, tpr, thresholds = metrics.roc_curve( actual, probs,\n",
    "                                              drop_intermediate = False )\n",
    "    auc_score = metrics.roc_auc_score( actual, probs )\n",
    "    plt.figure(figsize=(5, 5))\n",
    "    plt.plot( fpr, tpr, label='ROC curve (area = %0.2f)' % auc_score )\n",
    "    plt.plot([0, 1], [0, 1], 'k--')\n",
    "    plt.xlim([0.0, 1.0])\n",
    "    plt.ylim([0.0, 1.05])\n",
    "    plt.xlabel('False Positive Rate or [1 - True Negative Rate]')\n",
    "    plt.ylabel('True Positive Rate')\n",
    "    plt.title('Receiver operating characteristic example')\n",
    "    plt.legend(loc=\"lower right\")\n",
    "    plt.show()\n"
   ]
  },
  {
   "cell_type": "code",
   "execution_count": null,
   "metadata": {},
   "outputs": [],
   "source": []
  },
  {
   "cell_type": "code",
   "execution_count": null,
   "metadata": {},
   "outputs": [],
   "source": [
    "draw_roc(y_train_pred_df['Converted'], y_train_pred_df['Probability'])"
   ]
  },
  {
   "cell_type": "code",
   "execution_count": null,
   "metadata": {},
   "outputs": [],
   "source": [
    "# Now let's calculate accuracy sensitivity and specificity for various probability cutoffs.\n",
    "cutoff_df = pd.DataFrame( columns = ['prob','accuracy','sensi','speci'])\n",
    "from sklearn.metrics import confusion_matrix\n",
    "\n",
    "# TP = confusion[1,1] # true positive \n",
    "# TN = confusion[0,0] # true negatives\n",
    "# FP = confusion[0,1] # false positives\n",
    "# FN = confusion[1,0] # false negatives\n",
    "\n",
    "num = [0.0,0.1,0.2,0.3,0.4,0.5,0.6,0.7,0.8,0.9]\n",
    "for i in num:\n",
    "    cm1 = metrics.confusion_matrix(y_train_pred_df['Converted'], y_train_pred_df['Probability'] > i )\n",
    "    total1=sum(sum(cm1))\n",
    "    accuracy = (cm1[0,0]+cm1[1,1])/total1\n",
    "    \n",
    "    speci = cm1[0,0]/(cm1[0,0]+cm1[0,1])\n",
    "    sensi = cm1[1,1]/(cm1[1,0]+cm1[1,1])\n",
    "    cutoff_df.loc[i] =[ i ,accuracy,sensi,speci]\n",
    "cutoff_df"
   ]
  },
  {
   "cell_type": "code",
   "execution_count": null,
   "metadata": {},
   "outputs": [],
   "source": [
    "# Plotting the accuracy, sensitivity, specificity\n",
    "cutoff_df.plot.line(x='prob', y=['accuracy','sensi','speci'])\n",
    "plt.axvline(x=0.3, color='r', linestyle='--')  # Adds a red dashed vertical line\n",
    "plt.show()"
   ]
  },
  {
   "cell_type": "markdown",
   "metadata": {},
   "source": [
    "The optimal point appears to be close to 0.3"
   ]
  },
  {
   "cell_type": "code",
   "execution_count": null,
   "metadata": {},
   "outputs": [],
   "source": [
    "THRESHOLD = 0.3\n",
    "y_train_pred_df['final_predicted'] = y_train_pred_df['Probability'].map( lambda x: 1 if x > THRESHOLD else 0)\n",
    "y_train_pred_df.head()"
   ]
  },
  {
   "cell_type": "code",
   "execution_count": null,
   "metadata": {},
   "outputs": [],
   "source": [
    "print(classification_report(y_train, (y_train_pred > THRESHOLD)))\n",
    "print(classification_report(y_test, (y_test_pred > THRESHOLD)))"
   ]
  },
  {
   "cell_type": "markdown",
   "metadata": {},
   "source": [
    "Now we observe that training accuracy, sensitivty and specificity are all 94%, while that of test is close to 92%"
   ]
  },
  {
   "cell_type": "markdown",
   "metadata": {},
   "source": [
    "### Predictions"
   ]
  },
  {
   "cell_type": "code",
   "execution_count": null,
   "metadata": {},
   "outputs": [],
   "source": [
    "X_test = sm.add_constant(df_test)\n",
    "\n",
    "X_test = X_test[lm.model.exog_names]\n",
    "\n",
    "y_test_pred = lm.predict(X_test)\n",
    "y_train_pred = lm.predict(sm.add_constant(X_train_new))"
   ]
  },
  {
   "cell_type": "code",
   "execution_count": null,
   "metadata": {},
   "outputs": [],
   "source": [
    "y_test_pred_df = pd.DataFrame({\n",
    "    'Converted': y_test.values, \n",
    "    'Probability': y_test_pred}\n",
    ")\n",
    "y_test_pred_df.head()"
   ]
  },
  {
   "cell_type": "code",
   "execution_count": null,
   "metadata": {},
   "outputs": [],
   "source": [
    "# Substituting 0 or 1 with the cut off as THRESHOLD\n",
    "y_test_pred_df['Prediction'] = y_test_pred_df['Probability'].apply(lambda x: int(x > THRESHOLD) )\n",
    "y_test_pred_df['Score'] = y_test_pred_df['Probability'] * 100\n",
    "y_test_pred_df.head()"
   ]
  },
  {
   "cell_type": "code",
   "execution_count": null,
   "metadata": {},
   "outputs": [],
   "source": [
    "print('Test model accuracy is', round(metrics.accuracy_score(y_test_pred_df['Converted'], y_test_pred_df['Prediction']), 4) * 100, '%')"
   ]
  },
  {
   "cell_type": "code",
   "execution_count": null,
   "metadata": {},
   "outputs": [],
   "source": [
    "# Same as before, just kept here for completition of this section.\n",
    "print(classification_report(y_test, (y_test_pred > THRESHOLD)))"
   ]
  },
  {
   "cell_type": "markdown",
   "metadata": {},
   "source": [
    " "
   ]
  },
  {
   "cell_type": "code",
   "execution_count": null,
   "metadata": {},
   "outputs": [],
   "source": []
  }
 ],
 "metadata": {
  "kernelspec": {
   "display_name": "Python 3 (ipykernel)",
   "language": "python",
   "name": "python3"
  },
  "language_info": {
   "codemirror_mode": {
    "name": "ipython",
    "version": 3
   },
   "file_extension": ".py",
   "mimetype": "text/x-python",
   "name": "python",
   "nbconvert_exporter": "python",
   "pygments_lexer": "ipython3",
   "version": "3.10.12"
  }
 },
 "nbformat": 4,
 "nbformat_minor": 4
}
