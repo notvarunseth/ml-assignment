{
 "cells": [
  {
   "cell_type": "markdown",
   "metadata": {},
   "source": [
    "# Lead Scoring"
   ]
  },
  {
   "cell_type": "code",
   "execution_count": 121,
   "metadata": {},
   "outputs": [],
   "source": [
    "import pandas as pd\n",
    "import numpy as np\n",
    "import seaborn as sns\n",
    "import matplotlib.pyplot as plt"
   ]
  },
  {
   "cell_type": "markdown",
   "metadata": {},
   "source": [
    "## Data Cleaning"
   ]
  },
  {
   "cell_type": "markdown",
   "metadata": {},
   "source": [
    "### Inspecting"
   ]
  },
  {
   "cell_type": "code",
   "execution_count": 122,
   "metadata": {},
   "outputs": [],
   "source": [
    "df = pd.read_csv('Leads.csv')\n",
    "df.to_pickle('init.pkl')"
   ]
  },
  {
   "cell_type": "code",
   "execution_count": 123,
   "metadata": {
    "scrolled": true
   },
   "outputs": [
    {
     "data": {
      "text/html": [
       "<div>\n",
       "<style scoped>\n",
       "    .dataframe tbody tr th:only-of-type {\n",
       "        vertical-align: middle;\n",
       "    }\n",
       "\n",
       "    .dataframe tbody tr th {\n",
       "        vertical-align: top;\n",
       "    }\n",
       "\n",
       "    .dataframe thead th {\n",
       "        text-align: right;\n",
       "    }\n",
       "</style>\n",
       "<table border=\"1\" class=\"dataframe\">\n",
       "  <thead>\n",
       "    <tr style=\"text-align: right;\">\n",
       "      <th></th>\n",
       "      <th>Prospect ID</th>\n",
       "      <th>Lead Number</th>\n",
       "      <th>Lead Origin</th>\n",
       "      <th>Lead Source</th>\n",
       "      <th>Do Not Email</th>\n",
       "      <th>Do Not Call</th>\n",
       "      <th>Converted</th>\n",
       "      <th>TotalVisits</th>\n",
       "      <th>Total Time Spent on Website</th>\n",
       "      <th>Page Views Per Visit</th>\n",
       "      <th>...</th>\n",
       "      <th>Get updates on DM Content</th>\n",
       "      <th>Lead Profile</th>\n",
       "      <th>City</th>\n",
       "      <th>Asymmetrique Activity Index</th>\n",
       "      <th>Asymmetrique Profile Index</th>\n",
       "      <th>Asymmetrique Activity Score</th>\n",
       "      <th>Asymmetrique Profile Score</th>\n",
       "      <th>I agree to pay the amount through cheque</th>\n",
       "      <th>A free copy of Mastering The Interview</th>\n",
       "      <th>Last Notable Activity</th>\n",
       "    </tr>\n",
       "  </thead>\n",
       "  <tbody>\n",
       "    <tr>\n",
       "      <th>0</th>\n",
       "      <td>7927b2df-8bba-4d29-b9a2-b6e0beafe620</td>\n",
       "      <td>660737</td>\n",
       "      <td>API</td>\n",
       "      <td>Olark Chat</td>\n",
       "      <td>No</td>\n",
       "      <td>No</td>\n",
       "      <td>0</td>\n",
       "      <td>0.0</td>\n",
       "      <td>0</td>\n",
       "      <td>0.0</td>\n",
       "      <td>...</td>\n",
       "      <td>No</td>\n",
       "      <td>Select</td>\n",
       "      <td>Select</td>\n",
       "      <td>02.Medium</td>\n",
       "      <td>02.Medium</td>\n",
       "      <td>15.0</td>\n",
       "      <td>15.0</td>\n",
       "      <td>No</td>\n",
       "      <td>No</td>\n",
       "      <td>Modified</td>\n",
       "    </tr>\n",
       "    <tr>\n",
       "      <th>1</th>\n",
       "      <td>2a272436-5132-4136-86fa-dcc88c88f482</td>\n",
       "      <td>660728</td>\n",
       "      <td>API</td>\n",
       "      <td>Organic Search</td>\n",
       "      <td>No</td>\n",
       "      <td>No</td>\n",
       "      <td>0</td>\n",
       "      <td>5.0</td>\n",
       "      <td>674</td>\n",
       "      <td>2.5</td>\n",
       "      <td>...</td>\n",
       "      <td>No</td>\n",
       "      <td>Select</td>\n",
       "      <td>Select</td>\n",
       "      <td>02.Medium</td>\n",
       "      <td>02.Medium</td>\n",
       "      <td>15.0</td>\n",
       "      <td>15.0</td>\n",
       "      <td>No</td>\n",
       "      <td>No</td>\n",
       "      <td>Email Opened</td>\n",
       "    </tr>\n",
       "    <tr>\n",
       "      <th>2</th>\n",
       "      <td>8cc8c611-a219-4f35-ad23-fdfd2656bd8a</td>\n",
       "      <td>660727</td>\n",
       "      <td>Landing Page Submission</td>\n",
       "      <td>Direct Traffic</td>\n",
       "      <td>No</td>\n",
       "      <td>No</td>\n",
       "      <td>1</td>\n",
       "      <td>2.0</td>\n",
       "      <td>1532</td>\n",
       "      <td>2.0</td>\n",
       "      <td>...</td>\n",
       "      <td>No</td>\n",
       "      <td>Potential Lead</td>\n",
       "      <td>Mumbai</td>\n",
       "      <td>02.Medium</td>\n",
       "      <td>01.High</td>\n",
       "      <td>14.0</td>\n",
       "      <td>20.0</td>\n",
       "      <td>No</td>\n",
       "      <td>Yes</td>\n",
       "      <td>Email Opened</td>\n",
       "    </tr>\n",
       "    <tr>\n",
       "      <th>3</th>\n",
       "      <td>0cc2df48-7cf4-4e39-9de9-19797f9b38cc</td>\n",
       "      <td>660719</td>\n",
       "      <td>Landing Page Submission</td>\n",
       "      <td>Direct Traffic</td>\n",
       "      <td>No</td>\n",
       "      <td>No</td>\n",
       "      <td>0</td>\n",
       "      <td>1.0</td>\n",
       "      <td>305</td>\n",
       "      <td>1.0</td>\n",
       "      <td>...</td>\n",
       "      <td>No</td>\n",
       "      <td>Select</td>\n",
       "      <td>Mumbai</td>\n",
       "      <td>02.Medium</td>\n",
       "      <td>01.High</td>\n",
       "      <td>13.0</td>\n",
       "      <td>17.0</td>\n",
       "      <td>No</td>\n",
       "      <td>No</td>\n",
       "      <td>Modified</td>\n",
       "    </tr>\n",
       "    <tr>\n",
       "      <th>4</th>\n",
       "      <td>3256f628-e534-4826-9d63-4a8b88782852</td>\n",
       "      <td>660681</td>\n",
       "      <td>Landing Page Submission</td>\n",
       "      <td>Google</td>\n",
       "      <td>No</td>\n",
       "      <td>No</td>\n",
       "      <td>1</td>\n",
       "      <td>2.0</td>\n",
       "      <td>1428</td>\n",
       "      <td>1.0</td>\n",
       "      <td>...</td>\n",
       "      <td>No</td>\n",
       "      <td>Select</td>\n",
       "      <td>Mumbai</td>\n",
       "      <td>02.Medium</td>\n",
       "      <td>01.High</td>\n",
       "      <td>15.0</td>\n",
       "      <td>18.0</td>\n",
       "      <td>No</td>\n",
       "      <td>No</td>\n",
       "      <td>Modified</td>\n",
       "    </tr>\n",
       "  </tbody>\n",
       "</table>\n",
       "<p>5 rows × 37 columns</p>\n",
       "</div>"
      ],
      "text/plain": [
       "                            Prospect ID  Lead Number              Lead Origin  \\\n",
       "0  7927b2df-8bba-4d29-b9a2-b6e0beafe620       660737                      API   \n",
       "1  2a272436-5132-4136-86fa-dcc88c88f482       660728                      API   \n",
       "2  8cc8c611-a219-4f35-ad23-fdfd2656bd8a       660727  Landing Page Submission   \n",
       "3  0cc2df48-7cf4-4e39-9de9-19797f9b38cc       660719  Landing Page Submission   \n",
       "4  3256f628-e534-4826-9d63-4a8b88782852       660681  Landing Page Submission   \n",
       "\n",
       "      Lead Source Do Not Email Do Not Call  Converted  TotalVisits  \\\n",
       "0      Olark Chat           No          No          0          0.0   \n",
       "1  Organic Search           No          No          0          5.0   \n",
       "2  Direct Traffic           No          No          1          2.0   \n",
       "3  Direct Traffic           No          No          0          1.0   \n",
       "4          Google           No          No          1          2.0   \n",
       "\n",
       "   Total Time Spent on Website  Page Views Per Visit  ...  \\\n",
       "0                            0                   0.0  ...   \n",
       "1                          674                   2.5  ...   \n",
       "2                         1532                   2.0  ...   \n",
       "3                          305                   1.0  ...   \n",
       "4                         1428                   1.0  ...   \n",
       "\n",
       "  Get updates on DM Content    Lead Profile    City  \\\n",
       "0                        No          Select  Select   \n",
       "1                        No          Select  Select   \n",
       "2                        No  Potential Lead  Mumbai   \n",
       "3                        No          Select  Mumbai   \n",
       "4                        No          Select  Mumbai   \n",
       "\n",
       "  Asymmetrique Activity Index Asymmetrique Profile Index  \\\n",
       "0                   02.Medium                  02.Medium   \n",
       "1                   02.Medium                  02.Medium   \n",
       "2                   02.Medium                    01.High   \n",
       "3                   02.Medium                    01.High   \n",
       "4                   02.Medium                    01.High   \n",
       "\n",
       "  Asymmetrique Activity Score Asymmetrique Profile Score  \\\n",
       "0                        15.0                       15.0   \n",
       "1                        15.0                       15.0   \n",
       "2                        14.0                       20.0   \n",
       "3                        13.0                       17.0   \n",
       "4                        15.0                       18.0   \n",
       "\n",
       "  I agree to pay the amount through cheque  \\\n",
       "0                                       No   \n",
       "1                                       No   \n",
       "2                                       No   \n",
       "3                                       No   \n",
       "4                                       No   \n",
       "\n",
       "  A free copy of Mastering The Interview Last Notable Activity  \n",
       "0                                     No              Modified  \n",
       "1                                     No          Email Opened  \n",
       "2                                    Yes          Email Opened  \n",
       "3                                     No              Modified  \n",
       "4                                     No              Modified  \n",
       "\n",
       "[5 rows x 37 columns]"
      ]
     },
     "execution_count": 123,
     "metadata": {},
     "output_type": "execute_result"
    }
   ],
   "source": [
    "df.head()"
   ]
  },
  {
   "cell_type": "code",
   "execution_count": 124,
   "metadata": {},
   "outputs": [
    {
     "data": {
      "text/plain": [
       "(9240, 37)"
      ]
     },
     "execution_count": 124,
     "metadata": {},
     "output_type": "execute_result"
    }
   ],
   "source": [
    "df.shape"
   ]
  },
  {
   "cell_type": "code",
   "execution_count": 125,
   "metadata": {},
   "outputs": [
    {
     "data": {
      "text/html": [
       "<div>\n",
       "<style scoped>\n",
       "    .dataframe tbody tr th:only-of-type {\n",
       "        vertical-align: middle;\n",
       "    }\n",
       "\n",
       "    .dataframe tbody tr th {\n",
       "        vertical-align: top;\n",
       "    }\n",
       "\n",
       "    .dataframe thead th {\n",
       "        text-align: right;\n",
       "    }\n",
       "</style>\n",
       "<table border=\"1\" class=\"dataframe\">\n",
       "  <thead>\n",
       "    <tr style=\"text-align: right;\">\n",
       "      <th></th>\n",
       "      <th>Lead Number</th>\n",
       "      <th>Converted</th>\n",
       "      <th>TotalVisits</th>\n",
       "      <th>Total Time Spent on Website</th>\n",
       "      <th>Page Views Per Visit</th>\n",
       "      <th>Asymmetrique Activity Score</th>\n",
       "      <th>Asymmetrique Profile Score</th>\n",
       "    </tr>\n",
       "  </thead>\n",
       "  <tbody>\n",
       "    <tr>\n",
       "      <th>count</th>\n",
       "      <td>9240.000000</td>\n",
       "      <td>9240.000000</td>\n",
       "      <td>9103.000000</td>\n",
       "      <td>9240.000000</td>\n",
       "      <td>9103.000000</td>\n",
       "      <td>5022.000000</td>\n",
       "      <td>5022.000000</td>\n",
       "    </tr>\n",
       "    <tr>\n",
       "      <th>mean</th>\n",
       "      <td>617188.435606</td>\n",
       "      <td>0.385390</td>\n",
       "      <td>3.445238</td>\n",
       "      <td>487.698268</td>\n",
       "      <td>2.362820</td>\n",
       "      <td>14.306252</td>\n",
       "      <td>16.344883</td>\n",
       "    </tr>\n",
       "    <tr>\n",
       "      <th>std</th>\n",
       "      <td>23405.995698</td>\n",
       "      <td>0.486714</td>\n",
       "      <td>4.854853</td>\n",
       "      <td>548.021466</td>\n",
       "      <td>2.161418</td>\n",
       "      <td>1.386694</td>\n",
       "      <td>1.811395</td>\n",
       "    </tr>\n",
       "    <tr>\n",
       "      <th>min</th>\n",
       "      <td>579533.000000</td>\n",
       "      <td>0.000000</td>\n",
       "      <td>0.000000</td>\n",
       "      <td>0.000000</td>\n",
       "      <td>0.000000</td>\n",
       "      <td>7.000000</td>\n",
       "      <td>11.000000</td>\n",
       "    </tr>\n",
       "    <tr>\n",
       "      <th>25%</th>\n",
       "      <td>596484.500000</td>\n",
       "      <td>0.000000</td>\n",
       "      <td>1.000000</td>\n",
       "      <td>12.000000</td>\n",
       "      <td>1.000000</td>\n",
       "      <td>14.000000</td>\n",
       "      <td>15.000000</td>\n",
       "    </tr>\n",
       "    <tr>\n",
       "      <th>50%</th>\n",
       "      <td>615479.000000</td>\n",
       "      <td>0.000000</td>\n",
       "      <td>3.000000</td>\n",
       "      <td>248.000000</td>\n",
       "      <td>2.000000</td>\n",
       "      <td>14.000000</td>\n",
       "      <td>16.000000</td>\n",
       "    </tr>\n",
       "    <tr>\n",
       "      <th>75%</th>\n",
       "      <td>637387.250000</td>\n",
       "      <td>1.000000</td>\n",
       "      <td>5.000000</td>\n",
       "      <td>936.000000</td>\n",
       "      <td>3.000000</td>\n",
       "      <td>15.000000</td>\n",
       "      <td>18.000000</td>\n",
       "    </tr>\n",
       "    <tr>\n",
       "      <th>max</th>\n",
       "      <td>660737.000000</td>\n",
       "      <td>1.000000</td>\n",
       "      <td>251.000000</td>\n",
       "      <td>2272.000000</td>\n",
       "      <td>55.000000</td>\n",
       "      <td>18.000000</td>\n",
       "      <td>20.000000</td>\n",
       "    </tr>\n",
       "  </tbody>\n",
       "</table>\n",
       "</div>"
      ],
      "text/plain": [
       "         Lead Number    Converted  TotalVisits  Total Time Spent on Website  \\\n",
       "count    9240.000000  9240.000000  9103.000000                  9240.000000   \n",
       "mean   617188.435606     0.385390     3.445238                   487.698268   \n",
       "std     23405.995698     0.486714     4.854853                   548.021466   \n",
       "min    579533.000000     0.000000     0.000000                     0.000000   \n",
       "25%    596484.500000     0.000000     1.000000                    12.000000   \n",
       "50%    615479.000000     0.000000     3.000000                   248.000000   \n",
       "75%    637387.250000     1.000000     5.000000                   936.000000   \n",
       "max    660737.000000     1.000000   251.000000                  2272.000000   \n",
       "\n",
       "       Page Views Per Visit  Asymmetrique Activity Score  \\\n",
       "count           9103.000000                  5022.000000   \n",
       "mean               2.362820                    14.306252   \n",
       "std                2.161418                     1.386694   \n",
       "min                0.000000                     7.000000   \n",
       "25%                1.000000                    14.000000   \n",
       "50%                2.000000                    14.000000   \n",
       "75%                3.000000                    15.000000   \n",
       "max               55.000000                    18.000000   \n",
       "\n",
       "       Asymmetrique Profile Score  \n",
       "count                 5022.000000  \n",
       "mean                    16.344883  \n",
       "std                      1.811395  \n",
       "min                     11.000000  \n",
       "25%                     15.000000  \n",
       "50%                     16.000000  \n",
       "75%                     18.000000  \n",
       "max                     20.000000  "
      ]
     },
     "execution_count": 125,
     "metadata": {},
     "output_type": "execute_result"
    }
   ],
   "source": [
    "df.describe()"
   ]
  },
  {
   "cell_type": "code",
   "execution_count": 126,
   "metadata": {},
   "outputs": [
    {
     "name": "stdout",
     "output_type": "stream",
     "text": [
      "<class 'pandas.core.frame.DataFrame'>\n",
      "RangeIndex: 9240 entries, 0 to 9239\n",
      "Data columns (total 37 columns):\n",
      " #   Column                                         Non-Null Count  Dtype  \n",
      "---  ------                                         --------------  -----  \n",
      " 0   Prospect ID                                    9240 non-null   object \n",
      " 1   Lead Number                                    9240 non-null   int64  \n",
      " 2   Lead Origin                                    9240 non-null   object \n",
      " 3   Lead Source                                    9204 non-null   object \n",
      " 4   Do Not Email                                   9240 non-null   object \n",
      " 5   Do Not Call                                    9240 non-null   object \n",
      " 6   Converted                                      9240 non-null   int64  \n",
      " 7   TotalVisits                                    9103 non-null   float64\n",
      " 8   Total Time Spent on Website                    9240 non-null   int64  \n",
      " 9   Page Views Per Visit                           9103 non-null   float64\n",
      " 10  Last Activity                                  9137 non-null   object \n",
      " 11  Country                                        6779 non-null   object \n",
      " 12  Specialization                                 7802 non-null   object \n",
      " 13  How did you hear about X Education             7033 non-null   object \n",
      " 14  What is your current occupation                6550 non-null   object \n",
      " 15  What matters most to you in choosing a course  6531 non-null   object \n",
      " 16  Search                                         9240 non-null   object \n",
      " 17  Magazine                                       9240 non-null   object \n",
      " 18  Newspaper Article                              9240 non-null   object \n",
      " 19  X Education Forums                             9240 non-null   object \n",
      " 20  Newspaper                                      9240 non-null   object \n",
      " 21  Digital Advertisement                          9240 non-null   object \n",
      " 22  Through Recommendations                        9240 non-null   object \n",
      " 23  Receive More Updates About Our Courses         9240 non-null   object \n",
      " 24  Tags                                           5887 non-null   object \n",
      " 25  Lead Quality                                   4473 non-null   object \n",
      " 26  Update me on Supply Chain Content              9240 non-null   object \n",
      " 27  Get updates on DM Content                      9240 non-null   object \n",
      " 28  Lead Profile                                   6531 non-null   object \n",
      " 29  City                                           7820 non-null   object \n",
      " 30  Asymmetrique Activity Index                    5022 non-null   object \n",
      " 31  Asymmetrique Profile Index                     5022 non-null   object \n",
      " 32  Asymmetrique Activity Score                    5022 non-null   float64\n",
      " 33  Asymmetrique Profile Score                     5022 non-null   float64\n",
      " 34  I agree to pay the amount through cheque       9240 non-null   object \n",
      " 35  A free copy of Mastering The Interview         9240 non-null   object \n",
      " 36  Last Notable Activity                          9240 non-null   object \n",
      "dtypes: float64(4), int64(3), object(30)\n",
      "memory usage: 2.6+ MB\n"
     ]
    }
   ],
   "source": [
    "df.info()"
   ]
  },
  {
   "cell_type": "code",
   "execution_count": null,
   "metadata": {},
   "outputs": [],
   "source": []
  },
  {
   "cell_type": "code",
   "execution_count": 127,
   "metadata": {
    "scrolled": true
   },
   "outputs": [
    {
     "name": "stdout",
     "output_type": "stream",
     "text": [
      "============= Prospect ID =============\n",
      "Prospect ID\n",
      "7927b2df-8bba-4d29-b9a2-b6e0beafe620    0.000108\n",
      "22e9d4ef-d294-4ebf-81c7-7c7a1105aeea    0.000108\n",
      "46befc49-253a-419b-abea-2fd978d2e2b1    0.000108\n",
      "9d35a2c2-09d8-439f-9875-0e8bbf267f5a    0.000108\n",
      "f0de9371-4dc2-48c2-9785-a08d6fc4fcb5    0.000108\n",
      "Name: proportion, dtype: float64\n",
      "============= Lead Origin =============\n",
      "Lead Origin\n",
      "Landing Page Submission    0.528788\n",
      "API                        0.387446\n",
      "Lead Add Form              0.077706\n",
      "Lead Import                0.005952\n",
      "Quick Add Form             0.000108\n",
      "Name: proportion, dtype: float64\n",
      "============= Lead Source =============\n",
      "Lead Source\n",
      "Google            0.311604\n",
      "Direct Traffic    0.276293\n",
      "Olark Chat        0.190678\n",
      "Organic Search    0.125380\n",
      "Reference         0.058018\n",
      "Name: proportion, dtype: float64\n",
      "============= Do Not Email =============\n",
      "Do Not Email\n",
      "No     0.920563\n",
      "Yes    0.079437\n",
      "Name: proportion, dtype: float64\n",
      "============= Do Not Call =============\n",
      "Do Not Call\n",
      "No     0.999784\n",
      "Yes    0.000216\n",
      "Name: proportion, dtype: float64\n",
      "============= Last Activity =============\n",
      "Last Activity\n",
      "Email Opened               0.376163\n",
      "SMS Sent                   0.300427\n",
      "Olark Chat Conversation    0.106490\n",
      "Page Visited on Website    0.070045\n",
      "Converted to Lead          0.046843\n",
      "Name: proportion, dtype: float64\n",
      "============= Country =============\n",
      "Country\n",
      "India                   0.957663\n",
      "United States           0.010178\n",
      "United Arab Emirates    0.007818\n",
      "Singapore               0.003540\n",
      "Saudi Arabia            0.003098\n",
      "Name: proportion, dtype: float64\n",
      "============= Specialization =============\n",
      "Specialization\n",
      "Select                       0.248911\n",
      "Finance Management           0.125096\n",
      "Human Resource Management    0.108690\n",
      "Marketing Management         0.107408\n",
      "Operations Management        0.064471\n",
      "Name: proportion, dtype: float64\n",
      "============= How did you hear about X Education =============\n",
      "How did you hear about X Education\n",
      "Select                   0.717048\n",
      "Online Search            0.114887\n",
      "Word Of Mouth            0.049481\n",
      "Student of SomeSchool    0.044078\n",
      "Other                    0.026447\n",
      "Name: proportion, dtype: float64\n",
      "============= What is your current occupation =============\n",
      "What is your current occupation\n",
      "Unemployed              0.854962\n",
      "Working Professional    0.107786\n",
      "Student                 0.032061\n",
      "Other                   0.002443\n",
      "Housewife               0.001527\n",
      "Name: proportion, dtype: float64\n",
      "============= What matters most to you in choosing a course =============\n",
      "What matters most to you in choosing a course\n",
      "Better Career Prospects      0.999541\n",
      "Flexibility & Convenience    0.000306\n",
      "Other                        0.000153\n",
      "Name: proportion, dtype: float64\n",
      "============= Search =============\n",
      "Search\n",
      "No     0.998485\n",
      "Yes    0.001515\n",
      "Name: proportion, dtype: float64\n",
      "============= Magazine =============\n",
      "Magazine\n",
      "No    1.0\n",
      "Name: proportion, dtype: float64\n",
      "============= Newspaper Article =============\n",
      "Newspaper Article\n",
      "No     0.999784\n",
      "Yes    0.000216\n",
      "Name: proportion, dtype: float64\n",
      "============= X Education Forums =============\n",
      "X Education Forums\n",
      "No     0.999892\n",
      "Yes    0.000108\n",
      "Name: proportion, dtype: float64\n",
      "============= Newspaper =============\n",
      "Newspaper\n",
      "No     0.999892\n",
      "Yes    0.000108\n",
      "Name: proportion, dtype: float64\n",
      "============= Digital Advertisement =============\n",
      "Digital Advertisement\n",
      "No     0.999567\n",
      "Yes    0.000433\n",
      "Name: proportion, dtype: float64\n",
      "============= Through Recommendations =============\n",
      "Through Recommendations\n",
      "No     0.999242\n",
      "Yes    0.000758\n",
      "Name: proportion, dtype: float64\n",
      "============= Receive More Updates About Our Courses =============\n",
      "Receive More Updates About Our Courses\n",
      "No    1.0\n",
      "Name: proportion, dtype: float64\n",
      "============= Tags =============\n",
      "Tags\n",
      "Will revert after reading the email    0.351962\n",
      "Ringing                                0.204349\n",
      "Interested in other courses            0.087141\n",
      "Already a student                      0.078988\n",
      "Closed by Horizzon                     0.060812\n",
      "Name: proportion, dtype: float64\n",
      "============= Lead Quality =============\n",
      "Lead Quality\n",
      "Might be             0.348759\n",
      "Not Sure             0.244131\n",
      "High in Relevance    0.142410\n",
      "Worst                0.134362\n",
      "Low in Relevance     0.130338\n",
      "Name: proportion, dtype: float64\n",
      "============= Update me on Supply Chain Content =============\n",
      "Update me on Supply Chain Content\n",
      "No    1.0\n",
      "Name: proportion, dtype: float64\n",
      "============= Get updates on DM Content =============\n",
      "Get updates on DM Content\n",
      "No    1.0\n",
      "Name: proportion, dtype: float64\n",
      "============= Lead Profile =============\n",
      "Lead Profile\n",
      "Select                   0.634819\n",
      "Potential Lead           0.246976\n",
      "Other Leads              0.074567\n",
      "Student of SomeSchool    0.036901\n",
      "Lateral Student          0.003675\n",
      "Name: proportion, dtype: float64\n",
      "============= City =============\n",
      "City\n",
      "Mumbai                         0.412020\n",
      "Select                         0.287596\n",
      "Thane & Outskirts              0.096164\n",
      "Other Cities                   0.087724\n",
      "Other Cities of Maharashtra    0.058440\n",
      "Name: proportion, dtype: float64\n",
      "============= Asymmetrique Activity Index =============\n",
      "Asymmetrique Activity Index\n",
      "02.Medium    0.764436\n",
      "01.High      0.163481\n",
      "03.Low       0.072083\n",
      "Name: proportion, dtype: float64\n",
      "============= Asymmetrique Profile Index =============\n",
      "Asymmetrique Profile Index\n",
      "02.Medium    0.555157\n",
      "01.High      0.438670\n",
      "03.Low       0.006173\n",
      "Name: proportion, dtype: float64\n",
      "============= I agree to pay the amount through cheque =============\n",
      "I agree to pay the amount through cheque\n",
      "No    1.0\n",
      "Name: proportion, dtype: float64\n",
      "============= A free copy of Mastering The Interview =============\n",
      "A free copy of Mastering The Interview\n",
      "No     0.687446\n",
      "Yes    0.312554\n",
      "Name: proportion, dtype: float64\n",
      "============= Last Notable Activity =============\n",
      "Last Notable Activity\n",
      "Modified                   0.368723\n",
      "Email Opened               0.305952\n",
      "SMS Sent                   0.235065\n",
      "Page Visited on Website    0.034416\n",
      "Olark Chat Conversation    0.019805\n",
      "Name: proportion, dtype: float64\n"
     ]
    }
   ],
   "source": [
    "for column in df.select_dtypes('object').columns:\n",
    "    print(f\"============= {column} =============\")\n",
    "    print(df[column].value_counts(normalize=True)[:5])"
   ]
  },
  {
   "cell_type": "markdown",
   "metadata": {},
   "source": [
    "### Removing ID"
   ]
  },
  {
   "cell_type": "code",
   "execution_count": 128,
   "metadata": {},
   "outputs": [],
   "source": [
    "# Remove Identity columns as they do not have any prediction power (too unique)\n",
    "df.drop(columns=['Prospect ID', 'Lead Number'], inplace=True)"
   ]
  },
  {
   "cell_type": "markdown",
   "metadata": {},
   "source": [
    "### Replacing 'Select' Terms"
   ]
  },
  {
   "cell_type": "code",
   "execution_count": 129,
   "metadata": {},
   "outputs": [],
   "source": [
    "# The \"Select\" terms must be replaced from all columns (missing data)\n",
    "df.replace('Select', np.nan, inplace=True)"
   ]
  },
  {
   "cell_type": "markdown",
   "metadata": {},
   "source": [
    "### Columns with high Missing Values"
   ]
  },
  {
   "cell_type": "code",
   "execution_count": null,
   "metadata": {},
   "outputs": [],
   "source": []
  },
  {
   "cell_type": "code",
   "execution_count": 130,
   "metadata": {},
   "outputs": [
    {
     "data": {
      "image/png": "[encoded data removed]",
      "text/plain": [
       "<Figure size 640x480 with 1 Axes>"
      ]
     },
     "metadata": {},
     "output_type": "display_data"
    }
   ],
   "source": [
    "# Check the number of nulls\n",
    "NULL_COLUMN_THRESHOLD = 0.4\n",
    "\n",
    "null_percent = df.isnull().sum() / df.shape[0] \n",
    "null_features = null_percent[null_percent > 0]\n",
    "\n",
    "# Drop any columns with null values more than this%\n",
    "df.drop(columns=null_percent[null_percent > NULL_COLUMN_THRESHOLD].index, inplace=True)\n",
    "\n",
    "# Visualize.\n",
    "null_features_df = null_features.reset_index()\n",
    "null_features_df.columns = ['Feature', 'Value']\n",
    "sns.barplot(x='Value', y='Feature', data=null_features_df, orient='h')\n",
    "\n",
    "plt.axvline(NULL_COLUMN_THRESHOLD, color='k')\n",
    "plt.show()"
   ]
  },
  {
   "cell_type": "code",
   "execution_count": 131,
   "metadata": {},
   "outputs": [],
   "source": [
    "df.to_pickle('cleaning_high_missing.pkl')"
   ]
  },
  {
   "cell_type": "markdown",
   "metadata": {},
   "source": [
    "### Imputation"
   ]
  },
  {
   "cell_type": "code",
   "execution_count": 132,
   "metadata": {},
   "outputs": [],
   "source": [
    "df = pd.read_pickle('cleaning_high_missing.pkl')"
   ]
  },
  {
   "cell_type": "code",
   "execution_count": 133,
   "metadata": {},
   "outputs": [
    {
     "data": {
      "text/plain": [
       "Lead Source                                      0.003896\n",
       "TotalVisits                                      0.014827\n",
       "Page Views Per Visit                             0.014827\n",
       "Last Activity                                    0.011147\n",
       "Country                                          0.266342\n",
       "Specialization                                   0.365801\n",
       "What is your current occupation                  0.291126\n",
       "What matters most to you in choosing a course    0.293182\n",
       "Tags                                             0.362879\n",
       "City                                             0.397078\n",
       "dtype: float64"
      ]
     },
     "execution_count": 133,
     "metadata": {},
     "output_type": "execute_result"
    }
   ],
   "source": [
    "remaining = df.isnull().mean()\n",
    "remaining[remaining > 0]"
   ]
  },
  {
   "cell_type": "markdown",
   "metadata": {},
   "source": [
    "#### Imputing Lead Source"
   ]
  },
  {
   "cell_type": "code",
   "execution_count": null,
   "metadata": {},
   "outputs": [],
   "source": []
  },
  {
   "cell_type": "code",
   "execution_count": 134,
   "metadata": {},
   "outputs": [
    {
     "data": {
      "text/plain": [
       "Lead Source\n",
       "Google            0.310390\n",
       "Direct Traffic    0.275216\n",
       "Olark Chat        0.189935\n",
       "Organic Search    0.124892\n",
       "Reference         0.057792\n",
       "Name: proportion, dtype: float64"
      ]
     },
     "execution_count": 134,
     "metadata": {},
     "output_type": "execute_result"
    }
   ],
   "source": [
    "# If number of nulls is low then we can impute it.\n",
    "df['Lead Source'].value_counts(normalize=True, dropna=False)[:5]"
   ]
  },
  {
   "cell_type": "code",
   "execution_count": 135,
   "metadata": {},
   "outputs": [],
   "source": [
    "# For 'Lead Source', we observe that Mode is Google. And very small fraction is NA. \n",
    "# If unknown, we can assume that they were redirected from Google.\n",
    "# So we impute this information with the mode value (Google)\n",
    "df['Lead Source'] = df['Lead Source'].fillna(df['Lead Source'].mode()[0])"
   ]
  },
  {
   "cell_type": "code",
   "execution_count": null,
   "metadata": {},
   "outputs": [],
   "source": []
  },
  {
   "cell_type": "markdown",
   "metadata": {},
   "source": [
    "#### Remaining Missing Nulls"
   ]
  },
  {
   "cell_type": "code",
   "execution_count": null,
   "metadata": {},
   "outputs": [],
   "source": []
  },
  {
   "cell_type": "code",
   "execution_count": 136,
   "metadata": {},
   "outputs": [
    {
     "data": {
      "text/plain": [
       "TotalVisits\n",
       "0.0    0.236905\n",
       "2.0    0.181818\n",
       "3.0    0.141342\n",
       "4.0    0.121212\n",
       "5.0    0.084740\n",
       "Name: proportion, dtype: float64"
      ]
     },
     "execution_count": 136,
     "metadata": {},
     "output_type": "execute_result"
    }
   ],
   "source": [
    "# If number of nulls is low then we can impute it.\n",
    "df['TotalVisits'].value_counts(normalize=True, dropna=False).loc[:5]"
   ]
  },
  {
   "cell_type": "code",
   "execution_count": 137,
   "metadata": {},
   "outputs": [
    {
     "name": "stdout",
     "output_type": "stream",
     "text": [
      "<class 'pandas.core.frame.DataFrame'>\n",
      "Index: 137 entries, 77 to 9087\n",
      "Data columns (total 28 columns):\n",
      " #   Column                                         Non-Null Count  Dtype  \n",
      "---  ------                                         --------------  -----  \n",
      " 0   Lead Origin                                    137 non-null    object \n",
      " 1   Lead Source                                    137 non-null    object \n",
      " 2   Do Not Email                                   137 non-null    object \n",
      " 3   Do Not Call                                    137 non-null    object \n",
      " 4   Converted                                      137 non-null    int64  \n",
      " 5   TotalVisits                                    0 non-null      float64\n",
      " 6   Total Time Spent on Website                    137 non-null    int64  \n",
      " 7   Page Views Per Visit                           0 non-null      float64\n",
      " 8   Last Activity                                  34 non-null     object \n",
      " 9   Country                                        0 non-null      object \n",
      " 10  Specialization                                 61 non-null     object \n",
      " 11  What is your current occupation                130 non-null    object \n",
      " 12  What matters most to you in choosing a course  130 non-null    object \n",
      " 13  Search                                         137 non-null    object \n",
      " 14  Magazine                                       137 non-null    object \n",
      " 15  Newspaper Article                              137 non-null    object \n",
      " 16  X Education Forums                             137 non-null    object \n",
      " 17  Newspaper                                      137 non-null    object \n",
      " 18  Digital Advertisement                          137 non-null    object \n",
      " 19  Through Recommendations                        137 non-null    object \n",
      " 20  Receive More Updates About Our Courses         137 non-null    object \n",
      " 21  Tags                                           117 non-null    object \n",
      " 22  Update me on Supply Chain Content              137 non-null    object \n",
      " 23  Get updates on DM Content                      137 non-null    object \n",
      " 24  City                                           68 non-null     object \n",
      " 25  I agree to pay the amount through cheque       137 non-null    object \n",
      " 26  A free copy of Mastering The Interview         137 non-null    object \n",
      " 27  Last Notable Activity                          137 non-null    object \n",
      "dtypes: float64(2), int64(2), object(24)\n",
      "memory usage: 31.0+ KB\n"
     ]
    }
   ],
   "source": [
    "df[df['TotalVisits'].isna()].info()"
   ]
  },
  {
   "cell_type": "code",
   "execution_count": 138,
   "metadata": {},
   "outputs": [],
   "source": [
    "# we observe that when this value is null, some other column values also tends to be null\n",
    "# For example, Page Views Per Visit is always null, Country & City is null half the time, and Specialization is also null. \n",
    "# Last Activity also has many nul values.\n",
    "# It is likely that the data is captured in a specific way, and there's an edge case where data is missed, which affects many other columns.\n",
    "# It is best to drop these rows."
   ]
  },
  {
   "cell_type": "code",
   "execution_count": 139,
   "metadata": {},
   "outputs": [],
   "source": [
    "df.dropna(subset=['TotalVisits'], inplace=True)"
   ]
  },
  {
   "cell_type": "code",
   "execution_count": null,
   "metadata": {},
   "outputs": [],
   "source": []
  },
  {
   "cell_type": "code",
   "execution_count": 140,
   "metadata": {},
   "outputs": [
    {
     "data": {
      "text/plain": [
       "Country                                          0.255300\n",
       "Specialization                                   0.362957\n",
       "What is your current occupation                  0.294738\n",
       "What matters most to you in choosing a course    0.296825\n",
       "Tags                                             0.366143\n",
       "City                                             0.395474\n",
       "dtype: float64"
      ]
     },
     "execution_count": 140,
     "metadata": {},
     "output_type": "execute_result"
    }
   ],
   "source": [
    "remaining = df.isnull().mean()\n",
    "remaining[remaining > 0]"
   ]
  },
  {
   "cell_type": "code",
   "execution_count": 141,
   "metadata": {},
   "outputs": [],
   "source": [
    "df.to_pickle('cleaning_null_rows.pkl')"
   ]
  },
  {
   "cell_type": "markdown",
   "metadata": {},
   "source": [
    "### Constant Columns"
   ]
  },
  {
   "cell_type": "code",
   "execution_count": null,
   "metadata": {},
   "outputs": [],
   "source": []
  },
  {
   "cell_type": "code",
   "execution_count": 142,
   "metadata": {},
   "outputs": [
    {
     "name": "stdout",
     "output_type": "stream",
     "text": [
      "removing ['Magazine', 'Receive More Updates About Our Courses', 'Update me on Supply Chain Content', 'Get updates on DM Content', 'I agree to pay the amount through cheque']\n"
     ]
    }
   ],
   "source": [
    "# Remove columns with all values constant.\n",
    "\n",
    "constant_cols = [col for col in df.columns if df[col].nunique() == 1]\n",
    "print(\"removing\", constant_cols)"
   ]
  },
  {
   "cell_type": "code",
   "execution_count": 143,
   "metadata": {},
   "outputs": [],
   "source": [
    "df.drop(columns=constant_cols, inplace=True)"
   ]
  },
  {
   "cell_type": "code",
   "execution_count": 144,
   "metadata": {},
   "outputs": [],
   "source": [
    "df.to_pickle('cleaning_constant_removed.pkl')"
   ]
  },
  {
   "cell_type": "code",
   "execution_count": null,
   "metadata": {},
   "outputs": [],
   "source": []
  },
  {
   "cell_type": "markdown",
   "metadata": {
    "jp-MarkdownHeadingCollapsed": true
   },
   "source": [
    "### Binary Variables"
   ]
  },
  {
   "cell_type": "code",
   "execution_count": 145,
   "metadata": {},
   "outputs": [],
   "source": [
    "boolean_columns = [\n",
    "    'Do Not Email', 'Do Not Call',\n",
    "    'Search', 'Magazine', 'Newspaper Article', \n",
    "    'X Education Forums', 'Newspaper', 'Digital Advertisement', \n",
    "    'Through Recommendations', 'Receive More Updates About Our Courses', \n",
    "    'Update me on Supply Chain Content', 'Get updates on DM Content', \n",
    "    'I agree to pay the amount through cheque', 'A free copy of Mastering The Interview',\n",
    "]\n",
    "\n",
    "def yes_no_boolean(value):\n",
    "    if isinstance(value, bool):\n",
    "        # already converted.\n",
    "        return value\n",
    "    if value.lower() == 'yes':\n",
    "        return True\n",
    "    elif value.lower() == 'no':\n",
    "        return False\n",
    "    raise ValueError(f\"Invalid value: {value}\")\n",
    "\n",
    "for column in boolean_columns:\n",
    "    if column not in df.columns:\n",
    "        # dropped before.\n",
    "        continue\n",
    "    df[column] = df[column].apply(yes_no_boolean).astype(bool)"
   ]
  },
  {
   "cell_type": "code",
   "execution_count": 146,
   "metadata": {},
   "outputs": [],
   "source": [
    "# ensure there is no other value except for True and False.\n",
    "df['Converted'] = df['Converted'].astype(bool)"
   ]
  },
  {
   "cell_type": "code",
   "execution_count": null,
   "metadata": {},
   "outputs": [],
   "source": []
  },
  {
   "cell_type": "markdown",
   "metadata": {},
   "source": [
    "### Clubbing Categorical Values"
   ]
  },
  {
   "cell_type": "code",
   "execution_count": null,
   "metadata": {},
   "outputs": [],
   "source": []
  },
  {
   "cell_type": "code",
   "execution_count": 147,
   "metadata": {},
   "outputs": [],
   "source": [
    "# club less common values together into one category.\n",
    "# also include NA."
   ]
  },
  {
   "cell_type": "code",
   "execution_count": 148,
   "metadata": {},
   "outputs": [
    {
     "name": "stdout",
     "output_type": "stream",
     "text": [
      "Number of uniques for 'Lead Origin' is 3\n",
      "Number of uniques for 'Lead Source' is 5\n",
      "Number of uniques for 'Last Activity' is 7\n",
      "Number of uniques for 'Country' is 2\n",
      "Number of uniques for 'Specialization' is 14\n",
      "Number of uniques for 'What is your current occupation' is 2\n",
      "Number of uniques for 'What matters most to you in choosing a course' is 2\n",
      "Number of uniques for 'Tags' is 12\n",
      "Number of uniques for 'City' is 5\n",
      "Number of uniques for 'Last Notable Activity' is 5\n"
     ]
    }
   ],
   "source": [
    "threshold = 0.95\n",
    "\n",
    "for column in df.select_dtypes(include=['object']).columns:\n",
    "# for column in ['Country']:\n",
    "    # print(f\"============= {column} ===============\")\n",
    "    value_counts = df[column].value_counts(normalize=True)\n",
    "    cumulative_counts = value_counts.cumsum()\n",
    "    less_common_values = cumulative_counts[cumulative_counts > threshold].index.to_list()\n",
    "\n",
    "    first_category = value_counts.index[0]\n",
    "    if cumulative_counts[first_category] > threshold:\n",
    "        less_common_values.remove(first_category)\n",
    "\n",
    "    # print(\"less_common_values\", less_common_values)\n",
    "\n",
    "    def replacer(value):\n",
    "        if pd.isna(value):\n",
    "            return value\n",
    "        if value not in less_common_values:\n",
    "            return value\n",
    "        return 'others'\n",
    "    \n",
    "    df[column] = df[column].apply(replacer)\n",
    "    print(f\"Number of uniques for '{column}' is\", df[column].nunique())"
   ]
  },
  {
   "cell_type": "markdown",
   "metadata": {},
   "source": [
    "### Low Variation"
   ]
  },
  {
   "cell_type": "code",
   "execution_count": null,
   "metadata": {},
   "outputs": [],
   "source": []
  },
  {
   "cell_type": "code",
   "execution_count": 149,
   "metadata": {},
   "outputs": [
    {
     "data": {
      "text/html": [
       "<div>\n",
       "<style scoped>\n",
       "    .dataframe tbody tr th:only-of-type {\n",
       "        vertical-align: middle;\n",
       "    }\n",
       "\n",
       "    .dataframe tbody tr th {\n",
       "        vertical-align: top;\n",
       "    }\n",
       "\n",
       "    .dataframe thead th {\n",
       "        text-align: right;\n",
       "    }\n",
       "</style>\n",
       "<table border=\"1\" class=\"dataframe\">\n",
       "  <thead>\n",
       "    <tr style=\"text-align: right;\">\n",
       "      <th></th>\n",
       "      <th>name</th>\n",
       "      <th>type</th>\n",
       "      <th>dominant_value</th>\n",
       "      <th>percent</th>\n",
       "    </tr>\n",
       "  </thead>\n",
       "  <tbody>\n",
       "    <tr>\n",
       "      <th>0</th>\n",
       "      <td>Do Not Call</td>\n",
       "      <td>bool</td>\n",
       "      <td>False</td>\n",
       "      <td>99.978029</td>\n",
       "    </tr>\n",
       "    <tr>\n",
       "      <th>1</th>\n",
       "      <td>What matters most to you in choosing a course</td>\n",
       "      <td>object</td>\n",
       "      <td>Better Career Prospects</td>\n",
       "      <td>99.968755</td>\n",
       "    </tr>\n",
       "    <tr>\n",
       "      <th>2</th>\n",
       "      <td>Newspaper Article</td>\n",
       "      <td>bool</td>\n",
       "      <td>False</td>\n",
       "      <td>99.978029</td>\n",
       "    </tr>\n",
       "    <tr>\n",
       "      <th>3</th>\n",
       "      <td>X Education Forums</td>\n",
       "      <td>bool</td>\n",
       "      <td>False</td>\n",
       "      <td>99.989015</td>\n",
       "    </tr>\n",
       "    <tr>\n",
       "      <th>4</th>\n",
       "      <td>Newspaper</td>\n",
       "      <td>bool</td>\n",
       "      <td>False</td>\n",
       "      <td>99.989015</td>\n",
       "    </tr>\n",
       "    <tr>\n",
       "      <th>5</th>\n",
       "      <td>Digital Advertisement</td>\n",
       "      <td>bool</td>\n",
       "      <td>False</td>\n",
       "      <td>99.956058</td>\n",
       "    </tr>\n",
       "    <tr>\n",
       "      <th>6</th>\n",
       "      <td>Through Recommendations</td>\n",
       "      <td>bool</td>\n",
       "      <td>False</td>\n",
       "      <td>99.923102</td>\n",
       "    </tr>\n",
       "  </tbody>\n",
       "</table>\n",
       "</div>"
      ],
      "text/plain": [
       "                                            name    type  \\\n",
       "0                                    Do Not Call    bool   \n",
       "1  What matters most to you in choosing a course  object   \n",
       "2                              Newspaper Article    bool   \n",
       "3                             X Education Forums    bool   \n",
       "4                                      Newspaper    bool   \n",
       "5                          Digital Advertisement    bool   \n",
       "6                        Through Recommendations    bool   \n",
       "\n",
       "            dominant_value    percent  \n",
       "0                    False  99.978029  \n",
       "1  Better Career Prospects  99.968755  \n",
       "2                    False  99.978029  \n",
       "3                    False  99.989015  \n",
       "4                    False  99.989015  \n",
       "5                    False  99.956058  \n",
       "6                    False  99.923102  "
      ]
     },
     "execution_count": 149,
     "metadata": {},
     "output_type": "execute_result"
    }
   ],
   "source": [
    "THRESHOLD_LOW_VAR = 0.999\n",
    "\n",
    "# Check if a vast majority values are same, and drop these column, it is not useful.\n",
    "low_variation_columns = []\n",
    "printable = []\n",
    "for column in df.columns:\n",
    "\n",
    "    value_counts = df[column].value_counts(normalize=True)\n",
    "    cumulative_counts = value_counts.cumsum()\n",
    "\n",
    "    first_category = value_counts.index[0]\n",
    "    \n",
    "    if cumulative_counts[first_category] > THRESHOLD_LOW_VAR:\n",
    "        printable.append({\n",
    "            'name': column,\n",
    "            'type': df.dtypes[column],\n",
    "            'dominant_value': first_category,\n",
    "            'percent': 100 * cumulative_counts[first_category],\n",
    "        })\n",
    "        # print(f\"'{column}' ({type()}) has dominant '{first_category}' \", round(cumulative_counts[first_category], 4)) \n",
    "        low_variation_columns.append(column)\n",
    "pd.DataFrame(printable)"
   ]
  },
  {
   "cell_type": "code",
   "execution_count": 150,
   "metadata": {},
   "outputs": [],
   "source": [
    "df.drop(columns=low_variation_columns, inplace=True)"
   ]
  },
  {
   "cell_type": "code",
   "execution_count": 151,
   "metadata": {},
   "outputs": [],
   "source": [
    "df.to_pickle('cleaning_low_variation_removed.pkl')"
   ]
  },
  {
   "cell_type": "code",
   "execution_count": null,
   "metadata": {},
   "outputs": [],
   "source": []
  },
  {
   "cell_type": "markdown",
   "metadata": {},
   "source": [
    "### Null Row Removal"
   ]
  },
  {
   "cell_type": "code",
   "execution_count": 152,
   "metadata": {},
   "outputs": [
    {
     "data": {
      "text/plain": [
       "Converted\n",
       "False    5642\n",
       "True     3461\n",
       "Name: count, dtype: int64"
      ]
     },
     "execution_count": 152,
     "metadata": {},
     "output_type": "execute_result"
    }
   ],
   "source": [
    "df['Converted'].value_counts()"
   ]
  },
  {
   "cell_type": "code",
   "execution_count": 153,
   "metadata": {},
   "outputs": [
    {
     "name": "stdout",
     "output_type": "stream",
     "text": [
      "removing 5478\n"
     ]
    }
   ],
   "source": [
    "# Logistic Regression requires all non-null rows, so we drop any rows with any null column value\n",
    "rows_to_be_removed = df.isnull().any(axis=1)\n",
    "print(\"removing\", sum(rows_to_be_removed))\n",
    "df = df[~rows_to_be_removed]"
   ]
  },
  {
   "cell_type": "code",
   "execution_count": 154,
   "metadata": {},
   "outputs": [
    {
     "data": {
      "text/plain": [
       "Converted\n",
       "False    1998\n",
       "True     1627\n",
       "Name: count, dtype: int64"
      ]
     },
     "execution_count": 154,
     "metadata": {},
     "output_type": "execute_result"
    }
   ],
   "source": [
    "# still balanced.\n",
    "df['Converted'].value_counts()"
   ]
  },
  {
   "cell_type": "code",
   "execution_count": 155,
   "metadata": {},
   "outputs": [
    {
     "data": {
      "text/plain": [
       "0.39231601731601734"
      ]
     },
     "execution_count": 155,
     "metadata": {},
     "output_type": "execute_result"
    }
   ],
   "source": [
    "# Fraction of rows retained after cleanup.\n",
    "len(df) / len(pd.read_pickle('init.pkl'))"
   ]
  },
  {
   "cell_type": "code",
   "execution_count": 156,
   "metadata": {},
   "outputs": [],
   "source": [
    "df.to_pickle('null_row_removed.pkl')"
   ]
  },
  {
   "cell_type": "code",
   "execution_count": null,
   "metadata": {},
   "outputs": [],
   "source": []
  },
  {
   "cell_type": "code",
   "execution_count": null,
   "metadata": {},
   "outputs": [],
   "source": []
  },
  {
   "cell_type": "code",
   "execution_count": 157,
   "metadata": {},
   "outputs": [],
   "source": [
    "df.to_pickle('cleaning_final.pkl')"
   ]
  },
  {
   "cell_type": "code",
   "execution_count": 158,
   "metadata": {},
   "outputs": [
    {
     "data": {
      "text/plain": [
       "Index(['Lead Origin', 'Lead Source', 'Do Not Email', 'Converted',\n",
       "       'TotalVisits', 'Total Time Spent on Website', 'Page Views Per Visit',\n",
       "       'Last Activity', 'Country', 'Specialization',\n",
       "       'What is your current occupation', 'Search', 'Tags', 'City',\n",
       "       'A free copy of Mastering The Interview', 'Last Notable Activity'],\n",
       "      dtype='object')"
      ]
     },
     "execution_count": 158,
     "metadata": {},
     "output_type": "execute_result"
    }
   ],
   "source": [
    "df.columns"
   ]
  },
  {
   "cell_type": "markdown",
   "metadata": {},
   "source": [
    "## EDA"
   ]
  },
  {
   "cell_type": "code",
   "execution_count": 189,
   "metadata": {},
   "outputs": [],
   "source": [
    "# Here we observe many graphs and their patterns."
   ]
  },
  {
   "cell_type": "code",
   "execution_count": 159,
   "metadata": {},
   "outputs": [
    {
     "data": {
      "text/plain": [
       "<Figure size 640x480 with 0 Axes>"
      ]
     },
     "metadata": {},
     "output_type": "display_data"
    },
    {
     "data": {
      "image/png": "[encoded data removed]",
      "text/plain": [
       "<Figure size 500x500 with 1 Axes>"
      ]
     },
     "metadata": {},
     "output_type": "display_data"
    },
    {
     "data": {
      "text/plain": [
       "<Figure size 640x480 with 0 Axes>"
      ]
     },
     "metadata": {},
     "output_type": "display_data"
    },
    {
     "data": {
      "image/png": "[encoded data removed]",
      "text/plain": [
       "<Figure size 500x500 with 1 Axes>"
      ]
     },
     "metadata": {},
     "output_type": "display_data"
    },
    {
     "data": {
      "text/plain": [
       "<Figure size 640x480 with 0 Axes>"
      ]
     },
     "metadata": {},
     "output_type": "display_data"
    },
    {
     "data": {
      "image/png": "[encoded data removed]",
      "text/plain": [
       "<Figure size 500x500 with 1 Axes>"
      ]
     },
     "metadata": {},
     "output_type": "display_data"
    },
    {
     "data": {
      "text/plain": [
       "<Figure size 640x480 with 0 Axes>"
      ]
     },
     "metadata": {},
     "output_type": "display_data"
    },
    {
     "data": {
      "image/png": "[encoded data removed]",
      "text/plain": [
       "<Figure size 500x500 with 1 Axes>"
      ]
     },
     "metadata": {},
     "output_type": "display_data"
    },
    {
     "data": {
      "text/plain": [
       "<Figure size 640x480 with 0 Axes>"
      ]
     },
     "metadata": {},
     "output_type": "display_data"
    },
    {
     "data": {
      "image/png": "[encoded data removed]",
      "text/plain": [
       "<Figure size 500x500 with 1 Axes>"
      ]
     },
     "metadata": {},
     "output_type": "display_data"
    },
    {
     "data": {
      "text/plain": [
       "<Figure size 640x480 with 0 Axes>"
      ]
     },
     "metadata": {},
     "output_type": "display_data"
    },
    {
     "data": {
      "image/png": "[encoded data removed]",
      "text/plain": [
       "<Figure size 500x500 with 1 Axes>"
      ]
     },
     "metadata": {},
     "output_type": "display_data"
    },
    {
     "data": {
      "text/plain": [
       "<Figure size 640x480 with 0 Axes>"
      ]
     },
     "metadata": {},
     "output_type": "display_data"
    },
    {
     "data": {
      "image/png": "[encoded data removed]",
      "text/plain": [
       "<Figure size 500x500 with 1 Axes>"
      ]
     },
     "metadata": {},
     "output_type": "display_data"
    },
    {
     "data": {
      "text/plain": [
       "<Figure size 640x480 with 0 Axes>"
      ]
     },
     "metadata": {},
     "output_type": "display_data"
    },
    {
     "data": {
      "image/png": "[encoded data removed]",
      "text/plain": [
       "<Figure size 500x500 with 1 Axes>"
      ]
     },
     "metadata": {},
     "output_type": "display_data"
    },
    {
     "data": {
      "text/plain": [
       "<Figure size 640x480 with 0 Axes>"
      ]
     },
     "metadata": {},
     "output_type": "display_data"
    },
    {
     "data": {
      "image/png": "[encoded data removed]",
      "text/plain": [
       "<Figure size 500x500 with 1 Axes>"
      ]
     },
     "metadata": {},
     "output_type": "display_data"
    },
    {
     "data": {
      "text/plain": [
       "<Figure size 640x480 with 0 Axes>"
      ]
     },
     "metadata": {},
     "output_type": "display_data"
    },
    {
     "data": {
      "image/png": "[encoded data removed]",
      "text/plain": [
       "<Figure size 500x500 with 1 Axes>"
      ]
     },
     "metadata": {},
     "output_type": "display_data"
    },
    {
     "data": {
      "text/plain": [
       "<Figure size 640x480 with 0 Axes>"
      ]
     },
     "metadata": {},
     "output_type": "display_data"
    },
    {
     "data": {
      "image/png": "[encoded data removed]",
      "text/plain": [
       "<Figure size 500x500 with 1 Axes>"
      ]
     },
     "metadata": {},
     "output_type": "display_data"
    },
    {
     "data": {
      "text/plain": [
       "<Figure size 640x480 with 0 Axes>"
      ]
     },
     "metadata": {},
     "output_type": "display_data"
    },
    {
     "data": {
      "image/png": "[encoded data removed]",
      "text/plain": [
       "<Figure size 500x500 with 1 Axes>"
      ]
     },
     "metadata": {},
     "output_type": "display_data"
    },
    {
     "data": {
      "text/plain": [
       "<Figure size 640x480 with 0 Axes>"
      ]
     },
     "metadata": {},
     "output_type": "display_data"
    },
    {
     "data": {
      "image/png": "[encoded data removed]",
      "text/plain": [
       "<Figure size 500x500 with 1 Axes>"
      ]
     },
     "metadata": {},
     "output_type": "display_data"
    },
    {
     "data": {
      "text/plain": [
       "<Figure size 640x480 with 0 Axes>"
      ]
     },
     "metadata": {},
     "output_type": "display_data"
    },
    {
     "data": {
      "image/png": "[encoded data removed]",
      "text/plain": [
       "<Figure size 500x500 with 1 Axes>"
      ]
     },
     "metadata": {},
     "output_type": "display_data"
    },
    {
     "data": {
      "text/plain": [
       "<Figure size 640x480 with 0 Axes>"
      ]
     },
     "metadata": {},
     "output_type": "display_data"
    },
    {
     "data": {
      "image/png": "[encoded data removed]",
      "text/plain": [
       "<Figure size 500x500 with 1 Axes>"
      ]
     },
     "metadata": {},
     "output_type": "display_data"
    },
    {
     "data": {
      "text/plain": [
       "<Figure size 640x480 with 0 Axes>"
      ]
     },
     "metadata": {},
     "output_type": "display_data"
    },
    {
     "data": {
      "image/png": "[encoded data removed]",
      "text/plain": [
       "<Figure size 500x500 with 1 Axes>"
      ]
     },
     "metadata": {},
     "output_type": "display_data"
    }
   ],
   "source": [
    "for column in df.columns:\n",
    "    plt.figure()\n",
    "    sns.displot(df[column])\n",
    "    plt.show()"
   ]
  },
  {
   "cell_type": "markdown",
   "metadata": {},
   "source": [
    "## Modelling"
   ]
  },
  {
   "cell_type": "code",
   "execution_count": 160,
   "metadata": {},
   "outputs": [],
   "source": [
    "import pandas as pd"
   ]
  },
  {
   "cell_type": "code",
   "execution_count": 161,
   "metadata": {},
   "outputs": [],
   "source": [
    "# pick last element from the dataframes array.\n",
    "df_model = pd.read_pickle('cleaning_final.pkl')"
   ]
  },
  {
   "cell_type": "markdown",
   "metadata": {
    "jp-MarkdownHeadingCollapsed": true
   },
   "source": [
    "### Scaling"
   ]
  },
  {
   "cell_type": "code",
   "execution_count": 162,
   "metadata": {},
   "outputs": [
    {
     "data": {
      "text/plain": [
       "Index(['TotalVisits', 'Total Time Spent on Website', 'Page Views Per Visit'], dtype='object')"
      ]
     },
     "execution_count": 162,
     "metadata": {},
     "output_type": "execute_result"
    }
   ],
   "source": [
    "df_model.select_dtypes(exclude=['object', 'bool']).columns"
   ]
  },
  {
   "cell_type": "code",
   "execution_count": null,
   "metadata": {},
   "outputs": [],
   "source": []
  },
  {
   "cell_type": "code",
   "execution_count": 163,
   "metadata": {
    "scrolled": true
   },
   "outputs": [],
   "source": [
    "from sklearn.preprocessing import MinMaxScaler\n",
    "scaler = MinMaxScaler()\n",
    "\n",
    "# Apply scaler() to all the columns except the binary and categorical\n",
    "num_vars = ['TotalVisits', 'Total Time Spent on Website', 'Page Views Per Visit']\n",
    "\n",
    "df_model[num_vars] = scaler.fit_transform(df_model[num_vars])\n"
   ]
  },
  {
   "cell_type": "code",
   "execution_count": 164,
   "metadata": {},
   "outputs": [
    {
     "data": {
      "text/html": [
       "<div>\n",
       "<style scoped>\n",
       "    .dataframe tbody tr th:only-of-type {\n",
       "        vertical-align: middle;\n",
       "    }\n",
       "\n",
       "    .dataframe tbody tr th {\n",
       "        vertical-align: top;\n",
       "    }\n",
       "\n",
       "    .dataframe thead th {\n",
       "        text-align: right;\n",
       "    }\n",
       "</style>\n",
       "<table border=\"1\" class=\"dataframe\">\n",
       "  <thead>\n",
       "    <tr style=\"text-align: right;\">\n",
       "      <th></th>\n",
       "      <th>TotalVisits</th>\n",
       "      <th>Total Time Spent on Website</th>\n",
       "      <th>Page Views Per Visit</th>\n",
       "    </tr>\n",
       "  </thead>\n",
       "  <tbody>\n",
       "    <tr>\n",
       "      <th>2</th>\n",
       "      <td>0.007968</td>\n",
       "      <td>0.674296</td>\n",
       "      <td>0.125000</td>\n",
       "    </tr>\n",
       "    <tr>\n",
       "      <th>3</th>\n",
       "      <td>0.003984</td>\n",
       "      <td>0.134243</td>\n",
       "      <td>0.062500</td>\n",
       "    </tr>\n",
       "    <tr>\n",
       "      <th>6</th>\n",
       "      <td>0.007968</td>\n",
       "      <td>0.721831</td>\n",
       "      <td>0.125000</td>\n",
       "    </tr>\n",
       "    <tr>\n",
       "      <th>10</th>\n",
       "      <td>0.031873</td>\n",
       "      <td>0.594630</td>\n",
       "      <td>0.500000</td>\n",
       "    </tr>\n",
       "    <tr>\n",
       "      <th>11</th>\n",
       "      <td>0.031873</td>\n",
       "      <td>0.591109</td>\n",
       "      <td>0.166875</td>\n",
       "    </tr>\n",
       "  </tbody>\n",
       "</table>\n",
       "</div>"
      ],
      "text/plain": [
       "    TotalVisits  Total Time Spent on Website  Page Views Per Visit\n",
       "2      0.007968                     0.674296              0.125000\n",
       "3      0.003984                     0.134243              0.062500\n",
       "6      0.007968                     0.721831              0.125000\n",
       "10     0.031873                     0.594630              0.500000\n",
       "11     0.031873                     0.591109              0.166875"
      ]
     },
     "execution_count": 164,
     "metadata": {},
     "output_type": "execute_result"
    }
   ],
   "source": [
    "df_model[num_vars].head()"
   ]
  },
  {
   "cell_type": "code",
   "execution_count": 165,
   "metadata": {},
   "outputs": [],
   "source": [
    "df_model.to_pickle('model_scale.pkl')"
   ]
  },
  {
   "cell_type": "markdown",
   "metadata": {
    "jp-MarkdownHeadingCollapsed": true
   },
   "source": [
    "### Dummy Columns"
   ]
  },
  {
   "cell_type": "code",
   "execution_count": null,
   "metadata": {},
   "outputs": [],
   "source": []
  },
  {
   "cell_type": "code",
   "execution_count": 166,
   "metadata": {
    "scrolled": true
   },
   "outputs": [
    {
     "data": {
      "text/plain": [
       "Index(['Lead Origin', 'Lead Source', 'Last Activity', 'Country',\n",
       "       'Specialization', 'What is your current occupation', 'Tags', 'City',\n",
       "       'Last Notable Activity'],\n",
       "      dtype='object')"
      ]
     },
     "execution_count": 166,
     "metadata": {},
     "output_type": "execute_result"
    }
   ],
   "source": [
    "df_model.select_dtypes('object').columns"
   ]
  },
  {
   "cell_type": "code",
   "execution_count": 167,
   "metadata": {},
   "outputs": [],
   "source": [
    "# create dummies\n",
    "cat_columns = list(set(['Lead Origin', 'Lead Source', 'Last Activity', 'Country',\n",
    "       'Specialization', 'What is your current occupation',\n",
    "       'What matters most to you in choosing a course', 'Tags', 'City',\n",
    "       'Last Notable Activity']).intersection(df_model.columns))\n",
    "\n",
    "df_model = pd.get_dummies(df_model, drop_first=True, columns=cat_columns)\n",
    "\n",
    "for col in df_model.columns:\n",
    "    if df_model[col].dtype == 'bool':\n",
    "        df_model[col] = df_model[col].astype(int)\n"
   ]
  },
  {
   "cell_type": "code",
   "execution_count": 168,
   "metadata": {},
   "outputs": [
    {
     "data": {
      "text/html": [
       "<div>\n",
       "<style scoped>\n",
       "    .dataframe tbody tr th:only-of-type {\n",
       "        vertical-align: middle;\n",
       "    }\n",
       "\n",
       "    .dataframe tbody tr th {\n",
       "        vertical-align: top;\n",
       "    }\n",
       "\n",
       "    .dataframe thead th {\n",
       "        text-align: right;\n",
       "    }\n",
       "</style>\n",
       "<table border=\"1\" class=\"dataframe\">\n",
       "  <thead>\n",
       "    <tr style=\"text-align: right;\">\n",
       "      <th></th>\n",
       "      <th>Do Not Email</th>\n",
       "      <th>Converted</th>\n",
       "      <th>TotalVisits</th>\n",
       "      <th>Total Time Spent on Website</th>\n",
       "      <th>Page Views Per Visit</th>\n",
       "      <th>Search</th>\n",
       "      <th>A free copy of Mastering The Interview</th>\n",
       "      <th>Lead Origin_Landing Page Submission</th>\n",
       "      <th>Lead Origin_others</th>\n",
       "      <th>Lead Source_Google</th>\n",
       "      <th>...</th>\n",
       "      <th>Specialization_Healthcare Management</th>\n",
       "      <th>Specialization_Human Resource Management</th>\n",
       "      <th>Specialization_IT Projects Management</th>\n",
       "      <th>Specialization_International Business</th>\n",
       "      <th>Specialization_Marketing Management</th>\n",
       "      <th>Specialization_Media and Advertising</th>\n",
       "      <th>Specialization_Operations Management</th>\n",
       "      <th>Specialization_Supply Chain Management</th>\n",
       "      <th>Specialization_Travel and Tourism</th>\n",
       "      <th>Specialization_others</th>\n",
       "    </tr>\n",
       "  </thead>\n",
       "  <tbody>\n",
       "    <tr>\n",
       "      <th>2</th>\n",
       "      <td>0</td>\n",
       "      <td>1</td>\n",
       "      <td>0.007968</td>\n",
       "      <td>0.674296</td>\n",
       "      <td>0.125000</td>\n",
       "      <td>0</td>\n",
       "      <td>1</td>\n",
       "      <td>1</td>\n",
       "      <td>0</td>\n",
       "      <td>0</td>\n",
       "      <td>...</td>\n",
       "      <td>0</td>\n",
       "      <td>0</td>\n",
       "      <td>0</td>\n",
       "      <td>0</td>\n",
       "      <td>0</td>\n",
       "      <td>0</td>\n",
       "      <td>0</td>\n",
       "      <td>0</td>\n",
       "      <td>0</td>\n",
       "      <td>0</td>\n",
       "    </tr>\n",
       "    <tr>\n",
       "      <th>3</th>\n",
       "      <td>0</td>\n",
       "      <td>0</td>\n",
       "      <td>0.003984</td>\n",
       "      <td>0.134243</td>\n",
       "      <td>0.062500</td>\n",
       "      <td>0</td>\n",
       "      <td>0</td>\n",
       "      <td>1</td>\n",
       "      <td>0</td>\n",
       "      <td>0</td>\n",
       "      <td>...</td>\n",
       "      <td>0</td>\n",
       "      <td>0</td>\n",
       "      <td>0</td>\n",
       "      <td>0</td>\n",
       "      <td>0</td>\n",
       "      <td>1</td>\n",
       "      <td>0</td>\n",
       "      <td>0</td>\n",
       "      <td>0</td>\n",
       "      <td>0</td>\n",
       "    </tr>\n",
       "    <tr>\n",
       "      <th>6</th>\n",
       "      <td>0</td>\n",
       "      <td>1</td>\n",
       "      <td>0.007968</td>\n",
       "      <td>0.721831</td>\n",
       "      <td>0.125000</td>\n",
       "      <td>0</td>\n",
       "      <td>0</td>\n",
       "      <td>1</td>\n",
       "      <td>0</td>\n",
       "      <td>1</td>\n",
       "      <td>...</td>\n",
       "      <td>0</td>\n",
       "      <td>0</td>\n",
       "      <td>0</td>\n",
       "      <td>0</td>\n",
       "      <td>0</td>\n",
       "      <td>0</td>\n",
       "      <td>0</td>\n",
       "      <td>1</td>\n",
       "      <td>0</td>\n",
       "      <td>0</td>\n",
       "    </tr>\n",
       "    <tr>\n",
       "      <th>10</th>\n",
       "      <td>0</td>\n",
       "      <td>1</td>\n",
       "      <td>0.031873</td>\n",
       "      <td>0.594630</td>\n",
       "      <td>0.500000</td>\n",
       "      <td>0</td>\n",
       "      <td>1</td>\n",
       "      <td>1</td>\n",
       "      <td>0</td>\n",
       "      <td>0</td>\n",
       "      <td>...</td>\n",
       "      <td>0</td>\n",
       "      <td>0</td>\n",
       "      <td>0</td>\n",
       "      <td>0</td>\n",
       "      <td>0</td>\n",
       "      <td>0</td>\n",
       "      <td>0</td>\n",
       "      <td>0</td>\n",
       "      <td>1</td>\n",
       "      <td>0</td>\n",
       "    </tr>\n",
       "    <tr>\n",
       "      <th>11</th>\n",
       "      <td>0</td>\n",
       "      <td>1</td>\n",
       "      <td>0.031873</td>\n",
       "      <td>0.591109</td>\n",
       "      <td>0.166875</td>\n",
       "      <td>0</td>\n",
       "      <td>1</td>\n",
       "      <td>1</td>\n",
       "      <td>0</td>\n",
       "      <td>0</td>\n",
       "      <td>...</td>\n",
       "      <td>0</td>\n",
       "      <td>1</td>\n",
       "      <td>0</td>\n",
       "      <td>0</td>\n",
       "      <td>0</td>\n",
       "      <td>0</td>\n",
       "      <td>0</td>\n",
       "      <td>0</td>\n",
       "      <td>0</td>\n",
       "      <td>0</td>\n",
       "    </tr>\n",
       "  </tbody>\n",
       "</table>\n",
       "<p>5 rows × 53 columns</p>\n",
       "</div>"
      ],
      "text/plain": [
       "    Do Not Email  Converted  TotalVisits  Total Time Spent on Website  \\\n",
       "2              0          1     0.007968                     0.674296   \n",
       "3              0          0     0.003984                     0.134243   \n",
       "6              0          1     0.007968                     0.721831   \n",
       "10             0          1     0.031873                     0.594630   \n",
       "11             0          1     0.031873                     0.591109   \n",
       "\n",
       "    Page Views Per Visit  Search  A free copy of Mastering The Interview  \\\n",
       "2               0.125000       0                                       1   \n",
       "3               0.062500       0                                       0   \n",
       "6               0.125000       0                                       0   \n",
       "10              0.500000       0                                       1   \n",
       "11              0.166875       0                                       1   \n",
       "\n",
       "    Lead Origin_Landing Page Submission  Lead Origin_others  \\\n",
       "2                                     1                   0   \n",
       "3                                     1                   0   \n",
       "6                                     1                   0   \n",
       "10                                    1                   0   \n",
       "11                                    1                   0   \n",
       "\n",
       "    Lead Source_Google  ...  Specialization_Healthcare Management  \\\n",
       "2                    0  ...                                     0   \n",
       "3                    0  ...                                     0   \n",
       "6                    1  ...                                     0   \n",
       "10                   0  ...                                     0   \n",
       "11                   0  ...                                     0   \n",
       "\n",
       "    Specialization_Human Resource Management  \\\n",
       "2                                          0   \n",
       "3                                          0   \n",
       "6                                          0   \n",
       "10                                         0   \n",
       "11                                         1   \n",
       "\n",
       "    Specialization_IT Projects Management  \\\n",
       "2                                       0   \n",
       "3                                       0   \n",
       "6                                       0   \n",
       "10                                      0   \n",
       "11                                      0   \n",
       "\n",
       "    Specialization_International Business  \\\n",
       "2                                       0   \n",
       "3                                       0   \n",
       "6                                       0   \n",
       "10                                      0   \n",
       "11                                      0   \n",
       "\n",
       "    Specialization_Marketing Management  Specialization_Media and Advertising  \\\n",
       "2                                     0                                     0   \n",
       "3                                     0                                     1   \n",
       "6                                     0                                     0   \n",
       "10                                    0                                     0   \n",
       "11                                    0                                     0   \n",
       "\n",
       "    Specialization_Operations Management  \\\n",
       "2                                      0   \n",
       "3                                      0   \n",
       "6                                      0   \n",
       "10                                     0   \n",
       "11                                     0   \n",
       "\n",
       "    Specialization_Supply Chain Management  Specialization_Travel and Tourism  \\\n",
       "2                                        0                                  0   \n",
       "3                                        0                                  0   \n",
       "6                                        1                                  0   \n",
       "10                                       0                                  1   \n",
       "11                                       0                                  0   \n",
       "\n",
       "    Specialization_others  \n",
       "2                       0  \n",
       "3                       0  \n",
       "6                       0  \n",
       "10                      0  \n",
       "11                      0  \n",
       "\n",
       "[5 rows x 53 columns]"
      ]
     },
     "execution_count": 168,
     "metadata": {},
     "output_type": "execute_result"
    }
   ],
   "source": [
    "df_model.head()"
   ]
  },
  {
   "cell_type": "code",
   "execution_count": 169,
   "metadata": {},
   "outputs": [],
   "source": [
    "df_model.to_pickle(\"model_dummy.pkl\")"
   ]
  },
  {
   "cell_type": "markdown",
   "metadata": {
    "jp-MarkdownHeadingCollapsed": true
   },
   "source": [
    "### Train Test Split"
   ]
  },
  {
   "cell_type": "code",
   "execution_count": 170,
   "metadata": {},
   "outputs": [
    {
     "data": {
      "text/plain": [
       "(3625, 53)"
      ]
     },
     "execution_count": 170,
     "metadata": {},
     "output_type": "execute_result"
    }
   ],
   "source": [
    "df_model.shape"
   ]
  },
  {
   "cell_type": "code",
   "execution_count": 171,
   "metadata": {},
   "outputs": [],
   "source": [
    "TRAIN_SIZE = 0.8\n",
    "RANDOM_STATE = 100\n",
    "Y_LABEL = 'Converted'"
   ]
  },
  {
   "cell_type": "code",
   "execution_count": 172,
   "metadata": {},
   "outputs": [],
   "source": [
    "from sklearn.model_selection import train_test_split\n",
    "\n",
    "# We specify this so that the train and test data set always have the same rows, respectively\n",
    "\n",
    "df_train, df_test = train_test_split(df_model, train_size = 0.8, test_size = 1-TRAIN_SIZE, random_state = RANDOM_STATE)\n",
    "\n",
    "y_train = df_train[Y_LABEL]\n",
    "X_train = df_train.drop(columns=Y_LABEL)\n",
    "y_test = df_test[Y_LABEL]\n",
    "X_test = df_test.drop(columns=Y_LABEL)"
   ]
  },
  {
   "cell_type": "code",
   "execution_count": null,
   "metadata": {},
   "outputs": [],
   "source": []
  },
  {
   "cell_type": "markdown",
   "metadata": {},
   "source": [
    "### Basic Model"
   ]
  },
  {
   "cell_type": "code",
   "execution_count": 173,
   "metadata": {},
   "outputs": [
    {
     "name": "stdout",
     "output_type": "stream",
     "text": [
      "              precision    recall  f1-score   support\n",
      "\n",
      "           0       0.96      0.97      0.97      1603\n",
      "           1       0.97      0.95      0.96      1297\n",
      "\n",
      "    accuracy                           0.96      2900\n",
      "   macro avg       0.96      0.96      0.96      2900\n",
      "weighted avg       0.96      0.96      0.96      2900\n",
      "\n",
      "              precision    recall  f1-score   support\n",
      "\n",
      "           0       0.96      0.95      0.95       395\n",
      "           1       0.94      0.95      0.94       330\n",
      "\n",
      "    accuracy                           0.95       725\n",
      "   macro avg       0.95      0.95      0.95       725\n",
      "weighted avg       0.95      0.95      0.95       725\n",
      "\n"
     ]
    }
   ],
   "source": [
    "# Importing RFE and LinearRegression\n",
    "from sklearn.linear_model import LogisticRegression\n",
    "from sklearn.metrics import accuracy_score\n",
    "\n",
    "model = LogisticRegression()\n",
    "model.fit(X_train, y_train)\n",
    "predictions_train = model.predict(X_train)\n",
    "predictions_test = model.predict(X_test)\n",
    "\n",
    "from sklearn.metrics import classification_report\n",
    "print(classification_report(y_train, predictions_train))\n",
    "print(classification_report(y_test, predictions_test))"
   ]
  },
  {
   "cell_type": "code",
   "execution_count": 174,
   "metadata": {},
   "outputs": [],
   "source": [
    "# Even without using RFE, this preliminary model is quite strong."
   ]
  },
  {
   "cell_type": "code",
   "execution_count": null,
   "metadata": {},
   "outputs": [],
   "source": []
  },
  {
   "cell_type": "markdown",
   "metadata": {
    "jp-MarkdownHeadingCollapsed": true
   },
   "source": [
    "### RFE"
   ]
  },
  {
   "cell_type": "code",
   "execution_count": 175,
   "metadata": {},
   "outputs": [],
   "source": [
    "from sklearn.feature_selection import RFE\n",
    "\n",
    "rfe = RFE(model, n_features_to_select=15)             # running RFE\n",
    "rfe = rfe.fit(X_train, y_train)"
   ]
  },
  {
   "cell_type": "code",
   "execution_count": 176,
   "metadata": {},
   "outputs": [],
   "source": [
    "X_train_rfe = rfe.transform(X_train)\n",
    "X_test_rfe = rfe.transform(X_test)\n"
   ]
  },
  {
   "cell_type": "code",
   "execution_count": 177,
   "metadata": {},
   "outputs": [
    {
     "name": "stdout",
     "output_type": "stream",
     "text": [
      "Model Accuracy with RFE: 0.9503448275862069\n"
     ]
    }
   ],
   "source": [
    "model.fit(X_train_rfe, y_train)\n",
    "predictions_rfe = model.predict(X_test_rfe)\n",
    "accuracy_rfe = accuracy_score(y_test, predictions_rfe)\n",
    "print(f\"Model Accuracy with RFE: {accuracy_rfe}\")"
   ]
  },
  {
   "cell_type": "code",
   "execution_count": 178,
   "metadata": {},
   "outputs": [
    {
     "data": {
      "text/plain": [
       "Index(['Do Not Email', 'TotalVisits', 'Total Time Spent on Website',\n",
       "       'Lead Source_others', 'Last Activity_SMS Sent',\n",
       "       'What is your current occupation_others',\n",
       "       'Last Notable Activity_Modified', 'Tags_Busy',\n",
       "       'Tags_Closed by Horizzon', 'Tags_Interested in other courses',\n",
       "       'Tags_Lost to EINS', 'Tags_Not doing further education', 'Tags_Ringing',\n",
       "       'Tags_Will revert after reading the email', 'Tags_switched off'],\n",
       "      dtype='object')"
      ]
     },
     "execution_count": 178,
     "metadata": {},
     "output_type": "execute_result"
    }
   ],
   "source": [
    "X_train.columns[rfe.support_]"
   ]
  },
  {
   "cell_type": "code",
   "execution_count": 179,
   "metadata": {},
   "outputs": [],
   "source": [
    "# Calculate the VIFs for the new model\n",
    "import statsmodels.api as sm  \n",
    "from statsmodels.stats.outliers_influence import variance_inflation_factor\n",
    "\n",
    "def build_model(X, y):\n",
    "    X = sm.add_constant(X) #Adding the constant\n",
    "    lm = sm.Logit(y, X).fit() # fitting the model\n",
    "    return lm\n",
    "\n",
    "def check_VIF(X):\n",
    "    vif = pd.DataFrame()\n",
    "    vif['Features'] = X.columns\n",
    "    vif['VIF'] = [variance_inflation_factor(X.values, i) for i in range(X.shape[1])]\n",
    "    vif['VIF'] = round(vif['VIF'], 2)\n",
    "    vif = vif.sort_values(by = \"VIF\", ascending = False)\n",
    "    return vif\n"
   ]
  },
  {
   "cell_type": "markdown",
   "metadata": {
    "jp-MarkdownHeadingCollapsed": true
   },
   "source": [
    "### Removing high p-value"
   ]
  },
  {
   "cell_type": "code",
   "execution_count": 180,
   "metadata": {},
   "outputs": [
    {
     "name": "stdout",
     "output_type": "stream",
     "text": [
      "Warning: Maximum number of iterations has been exceeded.\n",
      "         Current function value: 0.121718\n",
      "         Iterations: 35\n"
     ]
    },
    {
     "name": "stderr",
     "output_type": "stream",
     "text": [
      "/opt/homebrew/Caskroom/miniforge/base/lib/python3.10/site-packages/statsmodels/base/model.py:607: ConvergenceWarning: Maximum Likelihood optimization failed to converge. Check mle_retvals\n",
      "  warnings.warn(\"Maximum Likelihood optimization failed to \"\n"
     ]
    },
    {
     "data": {
      "text/html": [
       "<table class=\"simpletable\">\n",
       "<caption>Logit Regression Results</caption>\n",
       "<tr>\n",
       "  <th>Dep. Variable:</th>       <td>Converted</td>    <th>  No. Observations:  </th>  <td>  2900</td> \n",
       "</tr>\n",
       "<tr>\n",
       "  <th>Model:</th>                 <td>Logit</td>      <th>  Df Residuals:      </th>  <td>  2884</td> \n",
       "</tr>\n",
       "<tr>\n",
       "  <th>Method:</th>                 <td>MLE</td>       <th>  Df Model:          </th>  <td>    15</td> \n",
       "</tr>\n",
       "<tr>\n",
       "  <th>Date:</th>            <td>Mon, 19 Feb 2024</td> <th>  Pseudo R-squ.:     </th>  <td>0.8230</td> \n",
       "</tr>\n",
       "<tr>\n",
       "  <th>Time:</th>                <td>17:18:29</td>     <th>  Log-Likelihood:    </th> <td> -352.98</td>\n",
       "</tr>\n",
       "<tr>\n",
       "  <th>converged:</th>             <td>False</td>      <th>  LL-Null:           </th> <td> -1994.0</td>\n",
       "</tr>\n",
       "<tr>\n",
       "  <th>Covariance Type:</th>     <td>nonrobust</td>    <th>  LLR p-value:       </th>  <td> 0.000</td> \n",
       "</tr>\n",
       "</table>\n",
       "<table class=\"simpletable\">\n",
       "<tr>\n",
       "                      <td></td>                        <th>coef</th>     <th>std err</th>      <th>z</th>      <th>P>|z|</th>  <th>[0.025</th>    <th>0.975]</th>  \n",
       "</tr>\n",
       "<tr>\n",
       "  <th>const</th>                                    <td>   -4.5801</td> <td>    0.352</td> <td>  -12.996</td> <td> 0.000</td> <td>   -5.271</td> <td>   -3.889</td>\n",
       "</tr>\n",
       "<tr>\n",
       "  <th>Do Not Email</th>                             <td>   -0.7411</td> <td>    0.478</td> <td>   -1.550</td> <td> 0.121</td> <td>   -1.678</td> <td>    0.196</td>\n",
       "</tr>\n",
       "<tr>\n",
       "  <th>TotalVisits</th>                              <td>   21.1837</td> <td>    7.419</td> <td>    2.855</td> <td> 0.004</td> <td>    6.643</td> <td>   35.725</td>\n",
       "</tr>\n",
       "<tr>\n",
       "  <th>Total Time Spent on Website</th>              <td>    3.6848</td> <td>    0.431</td> <td>    8.557</td> <td> 0.000</td> <td>    2.841</td> <td>    4.529</td>\n",
       "</tr>\n",
       "<tr>\n",
       "  <th>Lead Source_others</th>                       <td>    1.4654</td> <td>    1.098</td> <td>    1.335</td> <td> 0.182</td> <td>   -0.687</td> <td>    3.617</td>\n",
       "</tr>\n",
       "<tr>\n",
       "  <th>Last Activity_SMS Sent</th>                   <td>    1.0803</td> <td>    0.234</td> <td>    4.622</td> <td> 0.000</td> <td>    0.622</td> <td>    1.538</td>\n",
       "</tr>\n",
       "<tr>\n",
       "  <th>What is your current occupation_others</th>   <td>    0.5636</td> <td>    0.395</td> <td>    1.425</td> <td> 0.154</td> <td>   -0.212</td> <td>    1.339</td>\n",
       "</tr>\n",
       "<tr>\n",
       "  <th>Last Notable Activity_Modified</th>           <td>   -0.9027</td> <td>    0.261</td> <td>   -3.456</td> <td> 0.001</td> <td>   -1.415</td> <td>   -0.391</td>\n",
       "</tr>\n",
       "<tr>\n",
       "  <th>Tags_Busy</th>                                <td>    3.0663</td> <td>    0.336</td> <td>    9.114</td> <td> 0.000</td> <td>    2.407</td> <td>    3.726</td>\n",
       "</tr>\n",
       "<tr>\n",
       "  <th>Tags_Closed by Horizzon</th>                  <td>    7.9237</td> <td>    1.052</td> <td>    7.533</td> <td> 0.000</td> <td>    5.862</td> <td>    9.985</td>\n",
       "</tr>\n",
       "<tr>\n",
       "  <th>Tags_Interested in other courses</th>         <td>   -1.1445</td> <td>    0.764</td> <td>   -1.498</td> <td> 0.134</td> <td>   -2.642</td> <td>    0.353</td>\n",
       "</tr>\n",
       "<tr>\n",
       "  <th>Tags_Lost to EINS</th>                        <td>   19.1104</td> <td>  326.546</td> <td>    0.059</td> <td> 0.953</td> <td> -620.907</td> <td>  659.128</td>\n",
       "</tr>\n",
       "<tr>\n",
       "  <th>Tags_Not doing further education</th>         <td>  -16.9776</td> <td> 3207.697</td> <td>   -0.005</td> <td> 0.996</td> <td>-6303.948</td> <td> 6269.993</td>\n",
       "</tr>\n",
       "<tr>\n",
       "  <th>Tags_Ringing</th>                             <td>   -0.7868</td> <td>    0.347</td> <td>   -2.268</td> <td> 0.023</td> <td>   -1.467</td> <td>   -0.107</td>\n",
       "</tr>\n",
       "<tr>\n",
       "  <th>Tags_Will revert after reading the email</th> <td>    6.2325</td> <td>    0.321</td> <td>   19.417</td> <td> 0.000</td> <td>    5.603</td> <td>    6.862</td>\n",
       "</tr>\n",
       "<tr>\n",
       "  <th>Tags_switched off</th>                        <td>   -1.1392</td> <td>    0.648</td> <td>   -1.758</td> <td> 0.079</td> <td>   -2.409</td> <td>    0.131</td>\n",
       "</tr>\n",
       "</table>"
      ],
      "text/latex": [
       "\\begin{center}\n",
       "\\begin{tabular}{lclc}\n",
       "\\toprule\n",
       "\\textbf{Dep. Variable:}                            &    Converted     & \\textbf{  No. Observations:  } &     2900    \\\\\n",
       "\\textbf{Model:}                                    &      Logit       & \\textbf{  Df Residuals:      } &     2884    \\\\\n",
       "\\textbf{Method:}                                   &       MLE        & \\textbf{  Df Model:          } &       15    \\\\\n",
       "\\textbf{Date:}                                     & Mon, 19 Feb 2024 & \\textbf{  Pseudo R-squ.:     } &   0.8230    \\\\\n",
       "\\textbf{Time:}                                     &     17:18:29     & \\textbf{  Log-Likelihood:    } &   -352.98   \\\\\n",
       "\\textbf{converged:}                                &      False       & \\textbf{  LL-Null:           } &   -1994.0   \\\\\n",
       "\\textbf{Covariance Type:}                          &    nonrobust     & \\textbf{  LLR p-value:       } &    0.000    \\\\\n",
       "\\bottomrule\n",
       "\\end{tabular}\n",
       "\\begin{tabular}{lcccccc}\n",
       "                                                   & \\textbf{coef} & \\textbf{std err} & \\textbf{z} & \\textbf{P$> |$z$|$} & \\textbf{[0.025} & \\textbf{0.975]}  \\\\\n",
       "\\midrule\n",
       "\\textbf{const}                                     &      -4.5801  &        0.352     &   -12.996  &         0.000        &       -5.271    &       -3.889     \\\\\n",
       "\\textbf{Do Not Email}                              &      -0.7411  &        0.478     &    -1.550  &         0.121        &       -1.678    &        0.196     \\\\\n",
       "\\textbf{TotalVisits}                               &      21.1837  &        7.419     &     2.855  &         0.004        &        6.643    &       35.725     \\\\\n",
       "\\textbf{Total Time Spent on Website}               &       3.6848  &        0.431     &     8.557  &         0.000        &        2.841    &        4.529     \\\\\n",
       "\\textbf{Lead Source\\_others}                       &       1.4654  &        1.098     &     1.335  &         0.182        &       -0.687    &        3.617     \\\\\n",
       "\\textbf{Last Activity\\_SMS Sent}                   &       1.0803  &        0.234     &     4.622  &         0.000        &        0.622    &        1.538     \\\\\n",
       "\\textbf{What is your current occupation\\_others}   &       0.5636  &        0.395     &     1.425  &         0.154        &       -0.212    &        1.339     \\\\\n",
       "\\textbf{Last Notable Activity\\_Modified}           &      -0.9027  &        0.261     &    -3.456  &         0.001        &       -1.415    &       -0.391     \\\\\n",
       "\\textbf{Tags\\_Busy}                                &       3.0663  &        0.336     &     9.114  &         0.000        &        2.407    &        3.726     \\\\\n",
       "\\textbf{Tags\\_Closed by Horizzon}                  &       7.9237  &        1.052     &     7.533  &         0.000        &        5.862    &        9.985     \\\\\n",
       "\\textbf{Tags\\_Interested in other courses}         &      -1.1445  &        0.764     &    -1.498  &         0.134        &       -2.642    &        0.353     \\\\\n",
       "\\textbf{Tags\\_Lost to EINS}                        &      19.1104  &      326.546     &     0.059  &         0.953        &     -620.907    &      659.128     \\\\\n",
       "\\textbf{Tags\\_Not doing further education}         &     -16.9776  &     3207.697     &    -0.005  &         0.996        &    -6303.948    &     6269.993     \\\\\n",
       "\\textbf{Tags\\_Ringing}                             &      -0.7868  &        0.347     &    -2.268  &         0.023        &       -1.467    &       -0.107     \\\\\n",
       "\\textbf{Tags\\_Will revert after reading the email} &       6.2325  &        0.321     &    19.417  &         0.000        &        5.603    &        6.862     \\\\\n",
       "\\textbf{Tags\\_switched off}                        &      -1.1392  &        0.648     &    -1.758  &         0.079        &       -2.409    &        0.131     \\\\\n",
       "\\bottomrule\n",
       "\\end{tabular}\n",
       "%\\caption{Logit Regression Results}\n",
       "\\end{center}"
      ],
      "text/plain": [
       "<class 'statsmodels.iolib.summary.Summary'>\n",
       "\"\"\"\n",
       "                           Logit Regression Results                           \n",
       "==============================================================================\n",
       "Dep. Variable:              Converted   No. Observations:                 2900\n",
       "Model:                          Logit   Df Residuals:                     2884\n",
       "Method:                           MLE   Df Model:                           15\n",
       "Date:                Mon, 19 Feb 2024   Pseudo R-squ.:                  0.8230\n",
       "Time:                        17:18:29   Log-Likelihood:                -352.98\n",
       "converged:                      False   LL-Null:                       -1994.0\n",
       "Covariance Type:            nonrobust   LLR p-value:                     0.000\n",
       "============================================================================================================\n",
       "                                               coef    std err          z      P>|z|      [0.025      0.975]\n",
       "------------------------------------------------------------------------------------------------------------\n",
       "const                                       -4.5801      0.352    -12.996      0.000      -5.271      -3.889\n",
       "Do Not Email                                -0.7411      0.478     -1.550      0.121      -1.678       0.196\n",
       "TotalVisits                                 21.1837      7.419      2.855      0.004       6.643      35.725\n",
       "Total Time Spent on Website                  3.6848      0.431      8.557      0.000       2.841       4.529\n",
       "Lead Source_others                           1.4654      1.098      1.335      0.182      -0.687       3.617\n",
       "Last Activity_SMS Sent                       1.0803      0.234      4.622      0.000       0.622       1.538\n",
       "What is your current occupation_others       0.5636      0.395      1.425      0.154      -0.212       1.339\n",
       "Last Notable Activity_Modified              -0.9027      0.261     -3.456      0.001      -1.415      -0.391\n",
       "Tags_Busy                                    3.0663      0.336      9.114      0.000       2.407       3.726\n",
       "Tags_Closed by Horizzon                      7.9237      1.052      7.533      0.000       5.862       9.985\n",
       "Tags_Interested in other courses            -1.1445      0.764     -1.498      0.134      -2.642       0.353\n",
       "Tags_Lost to EINS                           19.1104    326.546      0.059      0.953    -620.907     659.128\n",
       "Tags_Not doing further education           -16.9776   3207.697     -0.005      0.996   -6303.948    6269.993\n",
       "Tags_Ringing                                -0.7868      0.347     -2.268      0.023      -1.467      -0.107\n",
       "Tags_Will revert after reading the email     6.2325      0.321     19.417      0.000       5.603       6.862\n",
       "Tags_switched off                           -1.1392      0.648     -1.758      0.079      -2.409       0.131\n",
       "============================================================================================================\n",
       "\"\"\""
      ]
     },
     "execution_count": 180,
     "metadata": {},
     "output_type": "execute_result"
    }
   ],
   "source": [
    "X_train_new = X_train[X_train.columns[rfe.support_]]\n",
    "lm = build_model(X_train_new, y_train)\n",
    "lm.summary()"
   ]
  },
  {
   "cell_type": "code",
   "execution_count": null,
   "metadata": {},
   "outputs": [],
   "source": []
  },
  {
   "cell_type": "code",
   "execution_count": 181,
   "metadata": {},
   "outputs": [
    {
     "name": "stderr",
     "output_type": "stream",
     "text": [
      "/var/folders/gn/_m6452xj7mg0cf7j0dvwvlgw0000gn/T/ipykernel_83894/1460431089.py:2: SettingWithCopyWarning: \n",
      "A value is trying to be set on a copy of a slice from a DataFrame\n",
      "\n",
      "See the caveats in the documentation: https://pandas.pydata.org/pandas-docs/stable/user_guide/indexing.html#returning-a-view-versus-a-copy\n",
      "  X_train_new.drop(['Tags_Not doing further education'],axis=1, inplace=True)\n"
     ]
    },
    {
     "name": "stdout",
     "output_type": "stream",
     "text": [
      "Warning: Maximum number of iterations has been exceeded.\n",
      "         Current function value: 0.122406\n",
      "         Iterations: 35\n"
     ]
    },
    {
     "name": "stderr",
     "output_type": "stream",
     "text": [
      "/opt/homebrew/Caskroom/miniforge/base/lib/python3.10/site-packages/statsmodels/base/model.py:607: ConvergenceWarning: Maximum Likelihood optimization failed to converge. Check mle_retvals\n",
      "  warnings.warn(\"Maximum Likelihood optimization failed to \"\n"
     ]
    },
    {
     "data": {
      "text/html": [
       "<table class=\"simpletable\">\n",
       "<caption>Logit Regression Results</caption>\n",
       "<tr>\n",
       "  <th>Dep. Variable:</th>       <td>Converted</td>    <th>  No. Observations:  </th>  <td>  2900</td> \n",
       "</tr>\n",
       "<tr>\n",
       "  <th>Model:</th>                 <td>Logit</td>      <th>  Df Residuals:      </th>  <td>  2885</td> \n",
       "</tr>\n",
       "<tr>\n",
       "  <th>Method:</th>                 <td>MLE</td>       <th>  Df Model:          </th>  <td>    14</td> \n",
       "</tr>\n",
       "<tr>\n",
       "  <th>Date:</th>            <td>Mon, 19 Feb 2024</td> <th>  Pseudo R-squ.:     </th>  <td>0.8220</td> \n",
       "</tr>\n",
       "<tr>\n",
       "  <th>Time:</th>                <td>17:18:29</td>     <th>  Log-Likelihood:    </th> <td> -354.98</td>\n",
       "</tr>\n",
       "<tr>\n",
       "  <th>converged:</th>             <td>False</td>      <th>  LL-Null:           </th> <td> -1994.0</td>\n",
       "</tr>\n",
       "<tr>\n",
       "  <th>Covariance Type:</th>     <td>nonrobust</td>    <th>  LLR p-value:       </th>  <td> 0.000</td> \n",
       "</tr>\n",
       "</table>\n",
       "<table class=\"simpletable\">\n",
       "<tr>\n",
       "                      <td></td>                        <th>coef</th>     <th>std err</th>      <th>z</th>      <th>P>|z|</th>  <th>[0.025</th>    <th>0.975]</th>  \n",
       "</tr>\n",
       "<tr>\n",
       "  <th>const</th>                                    <td>   -4.6538</td> <td>    0.352</td> <td>  -13.215</td> <td> 0.000</td> <td>   -5.344</td> <td>   -3.964</td>\n",
       "</tr>\n",
       "<tr>\n",
       "  <th>Do Not Email</th>                             <td>   -0.8116</td> <td>    0.468</td> <td>   -1.736</td> <td> 0.083</td> <td>   -1.728</td> <td>    0.105</td>\n",
       "</tr>\n",
       "<tr>\n",
       "  <th>TotalVisits</th>                              <td>   19.3337</td> <td>    6.770</td> <td>    2.856</td> <td> 0.004</td> <td>    6.065</td> <td>   32.603</td>\n",
       "</tr>\n",
       "<tr>\n",
       "  <th>Total Time Spent on Website</th>              <td>    3.6986</td> <td>    0.431</td> <td>    8.580</td> <td> 0.000</td> <td>    2.854</td> <td>    4.544</td>\n",
       "</tr>\n",
       "<tr>\n",
       "  <th>Lead Source_others</th>                       <td>    1.4363</td> <td>    1.066</td> <td>    1.347</td> <td> 0.178</td> <td>   -0.653</td> <td>    3.526</td>\n",
       "</tr>\n",
       "<tr>\n",
       "  <th>Last Activity_SMS Sent</th>                   <td>    1.0955</td> <td>    0.234</td> <td>    4.679</td> <td> 0.000</td> <td>    0.637</td> <td>    1.554</td>\n",
       "</tr>\n",
       "<tr>\n",
       "  <th>What is your current occupation_others</th>   <td>    0.5830</td> <td>    0.398</td> <td>    1.463</td> <td> 0.143</td> <td>   -0.198</td> <td>    1.364</td>\n",
       "</tr>\n",
       "<tr>\n",
       "  <th>Last Notable Activity_Modified</th>           <td>   -0.9284</td> <td>    0.260</td> <td>   -3.577</td> <td> 0.000</td> <td>   -1.437</td> <td>   -0.420</td>\n",
       "</tr>\n",
       "<tr>\n",
       "  <th>Tags_Busy</th>                                <td>    3.1724</td> <td>    0.336</td> <td>    9.437</td> <td> 0.000</td> <td>    2.514</td> <td>    3.831</td>\n",
       "</tr>\n",
       "<tr>\n",
       "  <th>Tags_Closed by Horizzon</th>                  <td>    8.0496</td> <td>    1.051</td> <td>    7.660</td> <td> 0.000</td> <td>    5.990</td> <td>   10.109</td>\n",
       "</tr>\n",
       "<tr>\n",
       "  <th>Tags_Interested in other courses</th>         <td>   -1.0246</td> <td>    0.763</td> <td>   -1.343</td> <td> 0.179</td> <td>   -2.520</td> <td>    0.471</td>\n",
       "</tr>\n",
       "<tr>\n",
       "  <th>Tags_Lost to EINS</th>                        <td>   13.3022</td> <td>   16.897</td> <td>    0.787</td> <td> 0.431</td> <td>  -19.816</td> <td>   46.420</td>\n",
       "</tr>\n",
       "<tr>\n",
       "  <th>Tags_Ringing</th>                             <td>   -0.6797</td> <td>    0.346</td> <td>   -1.967</td> <td> 0.049</td> <td>   -1.357</td> <td>   -0.002</td>\n",
       "</tr>\n",
       "<tr>\n",
       "  <th>Tags_Will revert after reading the email</th> <td>    6.3384</td> <td>    0.321</td> <td>   19.772</td> <td> 0.000</td> <td>    5.710</td> <td>    6.967</td>\n",
       "</tr>\n",
       "<tr>\n",
       "  <th>Tags_switched off</th>                        <td>   -1.0263</td> <td>    0.647</td> <td>   -1.587</td> <td> 0.112</td> <td>   -2.294</td> <td>    0.241</td>\n",
       "</tr>\n",
       "</table>"
      ],
      "text/latex": [
       "\\begin{center}\n",
       "\\begin{tabular}{lclc}\n",
       "\\toprule\n",
       "\\textbf{Dep. Variable:}                            &    Converted     & \\textbf{  No. Observations:  } &     2900    \\\\\n",
       "\\textbf{Model:}                                    &      Logit       & \\textbf{  Df Residuals:      } &     2885    \\\\\n",
       "\\textbf{Method:}                                   &       MLE        & \\textbf{  Df Model:          } &       14    \\\\\n",
       "\\textbf{Date:}                                     & Mon, 19 Feb 2024 & \\textbf{  Pseudo R-squ.:     } &   0.8220    \\\\\n",
       "\\textbf{Time:}                                     &     17:18:29     & \\textbf{  Log-Likelihood:    } &   -354.98   \\\\\n",
       "\\textbf{converged:}                                &      False       & \\textbf{  LL-Null:           } &   -1994.0   \\\\\n",
       "\\textbf{Covariance Type:}                          &    nonrobust     & \\textbf{  LLR p-value:       } &    0.000    \\\\\n",
       "\\bottomrule\n",
       "\\end{tabular}\n",
       "\\begin{tabular}{lcccccc}\n",
       "                                                   & \\textbf{coef} & \\textbf{std err} & \\textbf{z} & \\textbf{P$> |$z$|$} & \\textbf{[0.025} & \\textbf{0.975]}  \\\\\n",
       "\\midrule\n",
       "\\textbf{const}                                     &      -4.6538  &        0.352     &   -13.215  &         0.000        &       -5.344    &       -3.964     \\\\\n",
       "\\textbf{Do Not Email}                              &      -0.8116  &        0.468     &    -1.736  &         0.083        &       -1.728    &        0.105     \\\\\n",
       "\\textbf{TotalVisits}                               &      19.3337  &        6.770     &     2.856  &         0.004        &        6.065    &       32.603     \\\\\n",
       "\\textbf{Total Time Spent on Website}               &       3.6986  &        0.431     &     8.580  &         0.000        &        2.854    &        4.544     \\\\\n",
       "\\textbf{Lead Source\\_others}                       &       1.4363  &        1.066     &     1.347  &         0.178        &       -0.653    &        3.526     \\\\\n",
       "\\textbf{Last Activity\\_SMS Sent}                   &       1.0955  &        0.234     &     4.679  &         0.000        &        0.637    &        1.554     \\\\\n",
       "\\textbf{What is your current occupation\\_others}   &       0.5830  &        0.398     &     1.463  &         0.143        &       -0.198    &        1.364     \\\\\n",
       "\\textbf{Last Notable Activity\\_Modified}           &      -0.9284  &        0.260     &    -3.577  &         0.000        &       -1.437    &       -0.420     \\\\\n",
       "\\textbf{Tags\\_Busy}                                &       3.1724  &        0.336     &     9.437  &         0.000        &        2.514    &        3.831     \\\\\n",
       "\\textbf{Tags\\_Closed by Horizzon}                  &       8.0496  &        1.051     &     7.660  &         0.000        &        5.990    &       10.109     \\\\\n",
       "\\textbf{Tags\\_Interested in other courses}         &      -1.0246  &        0.763     &    -1.343  &         0.179        &       -2.520    &        0.471     \\\\\n",
       "\\textbf{Tags\\_Lost to EINS}                        &      13.3022  &       16.897     &     0.787  &         0.431        &      -19.816    &       46.420     \\\\\n",
       "\\textbf{Tags\\_Ringing}                             &      -0.6797  &        0.346     &    -1.967  &         0.049        &       -1.357    &       -0.002     \\\\\n",
       "\\textbf{Tags\\_Will revert after reading the email} &       6.3384  &        0.321     &    19.772  &         0.000        &        5.710    &        6.967     \\\\\n",
       "\\textbf{Tags\\_switched off}                        &      -1.0263  &        0.647     &    -1.587  &         0.112        &       -2.294    &        0.241     \\\\\n",
       "\\bottomrule\n",
       "\\end{tabular}\n",
       "%\\caption{Logit Regression Results}\n",
       "\\end{center}"
      ],
      "text/plain": [
       "<class 'statsmodels.iolib.summary.Summary'>\n",
       "\"\"\"\n",
       "                           Logit Regression Results                           \n",
       "==============================================================================\n",
       "Dep. Variable:              Converted   No. Observations:                 2900\n",
       "Model:                          Logit   Df Residuals:                     2885\n",
       "Method:                           MLE   Df Model:                           14\n",
       "Date:                Mon, 19 Feb 2024   Pseudo R-squ.:                  0.8220\n",
       "Time:                        17:18:29   Log-Likelihood:                -354.98\n",
       "converged:                      False   LL-Null:                       -1994.0\n",
       "Covariance Type:            nonrobust   LLR p-value:                     0.000\n",
       "============================================================================================================\n",
       "                                               coef    std err          z      P>|z|      [0.025      0.975]\n",
       "------------------------------------------------------------------------------------------------------------\n",
       "const                                       -4.6538      0.352    -13.215      0.000      -5.344      -3.964\n",
       "Do Not Email                                -0.8116      0.468     -1.736      0.083      -1.728       0.105\n",
       "TotalVisits                                 19.3337      6.770      2.856      0.004       6.065      32.603\n",
       "Total Time Spent on Website                  3.6986      0.431      8.580      0.000       2.854       4.544\n",
       "Lead Source_others                           1.4363      1.066      1.347      0.178      -0.653       3.526\n",
       "Last Activity_SMS Sent                       1.0955      0.234      4.679      0.000       0.637       1.554\n",
       "What is your current occupation_others       0.5830      0.398      1.463      0.143      -0.198       1.364\n",
       "Last Notable Activity_Modified              -0.9284      0.260     -3.577      0.000      -1.437      -0.420\n",
       "Tags_Busy                                    3.1724      0.336      9.437      0.000       2.514       3.831\n",
       "Tags_Closed by Horizzon                      8.0496      1.051      7.660      0.000       5.990      10.109\n",
       "Tags_Interested in other courses            -1.0246      0.763     -1.343      0.179      -2.520       0.471\n",
       "Tags_Lost to EINS                           13.3022     16.897      0.787      0.431     -19.816      46.420\n",
       "Tags_Ringing                                -0.6797      0.346     -1.967      0.049      -1.357      -0.002\n",
       "Tags_Will revert after reading the email     6.3384      0.321     19.772      0.000       5.710       6.967\n",
       "Tags_switched off                           -1.0263      0.647     -1.587      0.112      -2.294       0.241\n",
       "============================================================================================================\n",
       "\"\"\""
      ]
     },
     "execution_count": 181,
     "metadata": {},
     "output_type": "execute_result"
    }
   ],
   "source": [
    "# drop due to high p-value\n",
    "X_train_new.drop(['Tags_Not doing further education'],axis=1, inplace=True)\n",
    "lm = build_model(X_train_new, y_train)\n",
    "lm.summary()"
   ]
  },
  {
   "cell_type": "code",
   "execution_count": 182,
   "metadata": {},
   "outputs": [
    {
     "name": "stderr",
     "output_type": "stream",
     "text": [
      "/var/folders/gn/_m6452xj7mg0cf7j0dvwvlgw0000gn/T/ipykernel_83894/2182957672.py:1: SettingWithCopyWarning: \n",
      "A value is trying to be set on a copy of a slice from a DataFrame\n",
      "\n",
      "See the caveats in the documentation: https://pandas.pydata.org/pandas-docs/stable/user_guide/indexing.html#returning-a-view-versus-a-copy\n",
      "  X_train_new.drop(['Tags_Lost to EINS'],axis=1, inplace=True)\n"
     ]
    },
    {
     "name": "stdout",
     "output_type": "stream",
     "text": [
      "Optimization terminated successfully.\n",
      "         Current function value: 0.165154\n",
      "         Iterations 9\n"
     ]
    },
    {
     "data": {
      "text/html": [
       "<table class=\"simpletable\">\n",
       "<caption>Logit Regression Results</caption>\n",
       "<tr>\n",
       "  <th>Dep. Variable:</th>       <td>Converted</td>    <th>  No. Observations:  </th>  <td>  2900</td> \n",
       "</tr>\n",
       "<tr>\n",
       "  <th>Model:</th>                 <td>Logit</td>      <th>  Df Residuals:      </th>  <td>  2886</td> \n",
       "</tr>\n",
       "<tr>\n",
       "  <th>Method:</th>                 <td>MLE</td>       <th>  Df Model:          </th>  <td>    13</td> \n",
       "</tr>\n",
       "<tr>\n",
       "  <th>Date:</th>            <td>Mon, 19 Feb 2024</td> <th>  Pseudo R-squ.:     </th>  <td>0.7598</td> \n",
       "</tr>\n",
       "<tr>\n",
       "  <th>Time:</th>                <td>17:18:29</td>     <th>  Log-Likelihood:    </th> <td> -478.95</td>\n",
       "</tr>\n",
       "<tr>\n",
       "  <th>converged:</th>             <td>True</td>       <th>  LL-Null:           </th> <td> -1994.0</td>\n",
       "</tr>\n",
       "<tr>\n",
       "  <th>Covariance Type:</th>     <td>nonrobust</td>    <th>  LLR p-value:       </th>  <td> 0.000</td> \n",
       "</tr>\n",
       "</table>\n",
       "<table class=\"simpletable\">\n",
       "<tr>\n",
       "                      <td></td>                        <th>coef</th>     <th>std err</th>      <th>z</th>      <th>P>|z|</th>  <th>[0.025</th>    <th>0.975]</th>  \n",
       "</tr>\n",
       "<tr>\n",
       "  <th>const</th>                                    <td>   -3.4055</td> <td>    0.244</td> <td>  -13.946</td> <td> 0.000</td> <td>   -3.884</td> <td>   -2.927</td>\n",
       "</tr>\n",
       "<tr>\n",
       "  <th>Do Not Email</th>                             <td>   -1.4786</td> <td>    0.402</td> <td>   -3.675</td> <td> 0.000</td> <td>   -2.267</td> <td>   -0.690</td>\n",
       "</tr>\n",
       "<tr>\n",
       "  <th>TotalVisits</th>                              <td>   18.6321</td> <td>    5.721</td> <td>    3.257</td> <td> 0.001</td> <td>    7.420</td> <td>   29.844</td>\n",
       "</tr>\n",
       "<tr>\n",
       "  <th>Total Time Spent on Website</th>              <td>    3.8542</td> <td>    0.359</td> <td>   10.738</td> <td> 0.000</td> <td>    3.151</td> <td>    4.558</td>\n",
       "</tr>\n",
       "<tr>\n",
       "  <th>Lead Source_others</th>                       <td>    0.6648</td> <td>    0.906</td> <td>    0.734</td> <td> 0.463</td> <td>   -1.110</td> <td>    2.440</td>\n",
       "</tr>\n",
       "<tr>\n",
       "  <th>Last Activity_SMS Sent</th>                   <td>    0.8710</td> <td>    0.199</td> <td>    4.380</td> <td> 0.000</td> <td>    0.481</td> <td>    1.261</td>\n",
       "</tr>\n",
       "<tr>\n",
       "  <th>What is your current occupation_others</th>   <td>    0.6609</td> <td>    0.307</td> <td>    2.152</td> <td> 0.031</td> <td>    0.059</td> <td>    1.263</td>\n",
       "</tr>\n",
       "<tr>\n",
       "  <th>Last Notable Activity_Modified</th>           <td>   -0.2166</td> <td>    0.200</td> <td>   -1.085</td> <td> 0.278</td> <td>   -0.608</td> <td>    0.175</td>\n",
       "</tr>\n",
       "<tr>\n",
       "  <th>Tags_Busy</th>                                <td>    1.9039</td> <td>    0.274</td> <td>    6.954</td> <td> 0.000</td> <td>    1.367</td> <td>    2.441</td>\n",
       "</tr>\n",
       "<tr>\n",
       "  <th>Tags_Closed by Horizzon</th>                  <td>    6.4037</td> <td>    1.025</td> <td>    6.247</td> <td> 0.000</td> <td>    4.394</td> <td>    8.413</td>\n",
       "</tr>\n",
       "<tr>\n",
       "  <th>Tags_Interested in other courses</th>         <td>   -2.6491</td> <td>    0.734</td> <td>   -3.611</td> <td> 0.000</td> <td>   -4.087</td> <td>   -1.211</td>\n",
       "</tr>\n",
       "<tr>\n",
       "  <th>Tags_Ringing</th>                             <td>   -1.9007</td> <td>    0.283</td> <td>   -6.715</td> <td> 0.000</td> <td>   -2.455</td> <td>   -1.346</td>\n",
       "</tr>\n",
       "<tr>\n",
       "  <th>Tags_Will revert after reading the email</th> <td>    4.9530</td> <td>    0.241</td> <td>   20.509</td> <td> 0.000</td> <td>    4.480</td> <td>    5.426</td>\n",
       "</tr>\n",
       "<tr>\n",
       "  <th>Tags_switched off</th>                        <td>   -2.2398</td> <td>    0.617</td> <td>   -3.629</td> <td> 0.000</td> <td>   -3.449</td> <td>   -1.030</td>\n",
       "</tr>\n",
       "</table>"
      ],
      "text/latex": [
       "\\begin{center}\n",
       "\\begin{tabular}{lclc}\n",
       "\\toprule\n",
       "\\textbf{Dep. Variable:}                            &    Converted     & \\textbf{  No. Observations:  } &     2900    \\\\\n",
       "\\textbf{Model:}                                    &      Logit       & \\textbf{  Df Residuals:      } &     2886    \\\\\n",
       "\\textbf{Method:}                                   &       MLE        & \\textbf{  Df Model:          } &       13    \\\\\n",
       "\\textbf{Date:}                                     & Mon, 19 Feb 2024 & \\textbf{  Pseudo R-squ.:     } &   0.7598    \\\\\n",
       "\\textbf{Time:}                                     &     17:18:29     & \\textbf{  Log-Likelihood:    } &   -478.95   \\\\\n",
       "\\textbf{converged:}                                &       True       & \\textbf{  LL-Null:           } &   -1994.0   \\\\\n",
       "\\textbf{Covariance Type:}                          &    nonrobust     & \\textbf{  LLR p-value:       } &    0.000    \\\\\n",
       "\\bottomrule\n",
       "\\end{tabular}\n",
       "\\begin{tabular}{lcccccc}\n",
       "                                                   & \\textbf{coef} & \\textbf{std err} & \\textbf{z} & \\textbf{P$> |$z$|$} & \\textbf{[0.025} & \\textbf{0.975]}  \\\\\n",
       "\\midrule\n",
       "\\textbf{const}                                     &      -3.4055  &        0.244     &   -13.946  &         0.000        &       -3.884    &       -2.927     \\\\\n",
       "\\textbf{Do Not Email}                              &      -1.4786  &        0.402     &    -3.675  &         0.000        &       -2.267    &       -0.690     \\\\\n",
       "\\textbf{TotalVisits}                               &      18.6321  &        5.721     &     3.257  &         0.001        &        7.420    &       29.844     \\\\\n",
       "\\textbf{Total Time Spent on Website}               &       3.8542  &        0.359     &    10.738  &         0.000        &        3.151    &        4.558     \\\\\n",
       "\\textbf{Lead Source\\_others}                       &       0.6648  &        0.906     &     0.734  &         0.463        &       -1.110    &        2.440     \\\\\n",
       "\\textbf{Last Activity\\_SMS Sent}                   &       0.8710  &        0.199     &     4.380  &         0.000        &        0.481    &        1.261     \\\\\n",
       "\\textbf{What is your current occupation\\_others}   &       0.6609  &        0.307     &     2.152  &         0.031        &        0.059    &        1.263     \\\\\n",
       "\\textbf{Last Notable Activity\\_Modified}           &      -0.2166  &        0.200     &    -1.085  &         0.278        &       -0.608    &        0.175     \\\\\n",
       "\\textbf{Tags\\_Busy}                                &       1.9039  &        0.274     &     6.954  &         0.000        &        1.367    &        2.441     \\\\\n",
       "\\textbf{Tags\\_Closed by Horizzon}                  &       6.4037  &        1.025     &     6.247  &         0.000        &        4.394    &        8.413     \\\\\n",
       "\\textbf{Tags\\_Interested in other courses}         &      -2.6491  &        0.734     &    -3.611  &         0.000        &       -4.087    &       -1.211     \\\\\n",
       "\\textbf{Tags\\_Ringing}                             &      -1.9007  &        0.283     &    -6.715  &         0.000        &       -2.455    &       -1.346     \\\\\n",
       "\\textbf{Tags\\_Will revert after reading the email} &       4.9530  &        0.241     &    20.509  &         0.000        &        4.480    &        5.426     \\\\\n",
       "\\textbf{Tags\\_switched off}                        &      -2.2398  &        0.617     &    -3.629  &         0.000        &       -3.449    &       -1.030     \\\\\n",
       "\\bottomrule\n",
       "\\end{tabular}\n",
       "%\\caption{Logit Regression Results}\n",
       "\\end{center}"
      ],
      "text/plain": [
       "<class 'statsmodels.iolib.summary.Summary'>\n",
       "\"\"\"\n",
       "                           Logit Regression Results                           \n",
       "==============================================================================\n",
       "Dep. Variable:              Converted   No. Observations:                 2900\n",
       "Model:                          Logit   Df Residuals:                     2886\n",
       "Method:                           MLE   Df Model:                           13\n",
       "Date:                Mon, 19 Feb 2024   Pseudo R-squ.:                  0.7598\n",
       "Time:                        17:18:29   Log-Likelihood:                -478.95\n",
       "converged:                       True   LL-Null:                       -1994.0\n",
       "Covariance Type:            nonrobust   LLR p-value:                     0.000\n",
       "============================================================================================================\n",
       "                                               coef    std err          z      P>|z|      [0.025      0.975]\n",
       "------------------------------------------------------------------------------------------------------------\n",
       "const                                       -3.4055      0.244    -13.946      0.000      -3.884      -2.927\n",
       "Do Not Email                                -1.4786      0.402     -3.675      0.000      -2.267      -0.690\n",
       "TotalVisits                                 18.6321      5.721      3.257      0.001       7.420      29.844\n",
       "Total Time Spent on Website                  3.8542      0.359     10.738      0.000       3.151       4.558\n",
       "Lead Source_others                           0.6648      0.906      0.734      0.463      -1.110       2.440\n",
       "Last Activity_SMS Sent                       0.8710      0.199      4.380      0.000       0.481       1.261\n",
       "What is your current occupation_others       0.6609      0.307      2.152      0.031       0.059       1.263\n",
       "Last Notable Activity_Modified              -0.2166      0.200     -1.085      0.278      -0.608       0.175\n",
       "Tags_Busy                                    1.9039      0.274      6.954      0.000       1.367       2.441\n",
       "Tags_Closed by Horizzon                      6.4037      1.025      6.247      0.000       4.394       8.413\n",
       "Tags_Interested in other courses            -2.6491      0.734     -3.611      0.000      -4.087      -1.211\n",
       "Tags_Ringing                                -1.9007      0.283     -6.715      0.000      -2.455      -1.346\n",
       "Tags_Will revert after reading the email     4.9530      0.241     20.509      0.000       4.480       5.426\n",
       "Tags_switched off                           -2.2398      0.617     -3.629      0.000      -3.449      -1.030\n",
       "============================================================================================================\n",
       "\"\"\""
      ]
     },
     "execution_count": 182,
     "metadata": {},
     "output_type": "execute_result"
    }
   ],
   "source": [
    "X_train_new.drop(['Tags_Lost to EINS'],axis=1, inplace=True)\n",
    "lm = build_model(X_train_new, y_train)\n",
    "lm.summary()"
   ]
  },
  {
   "cell_type": "code",
   "execution_count": 183,
   "metadata": {},
   "outputs": [
    {
     "name": "stderr",
     "output_type": "stream",
     "text": [
      "/var/folders/gn/_m6452xj7mg0cf7j0dvwvlgw0000gn/T/ipykernel_83894/2865134204.py:1: SettingWithCopyWarning: \n",
      "A value is trying to be set on a copy of a slice from a DataFrame\n",
      "\n",
      "See the caveats in the documentation: https://pandas.pydata.org/pandas-docs/stable/user_guide/indexing.html#returning-a-view-versus-a-copy\n",
      "  X_train_new.drop(['Lead Source_others'],axis=1, inplace=True)\n"
     ]
    },
    {
     "name": "stdout",
     "output_type": "stream",
     "text": [
      "Optimization terminated successfully.\n",
      "         Current function value: 0.165248\n",
      "         Iterations 9\n"
     ]
    },
    {
     "data": {
      "text/html": [
       "<table class=\"simpletable\">\n",
       "<caption>Logit Regression Results</caption>\n",
       "<tr>\n",
       "  <th>Dep. Variable:</th>       <td>Converted</td>    <th>  No. Observations:  </th>  <td>  2900</td> \n",
       "</tr>\n",
       "<tr>\n",
       "  <th>Model:</th>                 <td>Logit</td>      <th>  Df Residuals:      </th>  <td>  2887</td> \n",
       "</tr>\n",
       "<tr>\n",
       "  <th>Method:</th>                 <td>MLE</td>       <th>  Df Model:          </th>  <td>    12</td> \n",
       "</tr>\n",
       "<tr>\n",
       "  <th>Date:</th>            <td>Mon, 19 Feb 2024</td> <th>  Pseudo R-squ.:     </th>  <td>0.7597</td> \n",
       "</tr>\n",
       "<tr>\n",
       "  <th>Time:</th>                <td>17:18:30</td>     <th>  Log-Likelihood:    </th> <td> -479.22</td>\n",
       "</tr>\n",
       "<tr>\n",
       "  <th>converged:</th>             <td>True</td>       <th>  LL-Null:           </th> <td> -1994.0</td>\n",
       "</tr>\n",
       "<tr>\n",
       "  <th>Covariance Type:</th>     <td>nonrobust</td>    <th>  LLR p-value:       </th>  <td> 0.000</td> \n",
       "</tr>\n",
       "</table>\n",
       "<table class=\"simpletable\">\n",
       "<tr>\n",
       "                      <td></td>                        <th>coef</th>     <th>std err</th>      <th>z</th>      <th>P>|z|</th>  <th>[0.025</th>    <th>0.975]</th>  \n",
       "</tr>\n",
       "<tr>\n",
       "  <th>const</th>                                    <td>   -3.3954</td> <td>    0.243</td> <td>  -13.949</td> <td> 0.000</td> <td>   -3.872</td> <td>   -2.918</td>\n",
       "</tr>\n",
       "<tr>\n",
       "  <th>Do Not Email</th>                             <td>   -1.4826</td> <td>    0.403</td> <td>   -3.679</td> <td> 0.000</td> <td>   -2.272</td> <td>   -0.693</td>\n",
       "</tr>\n",
       "<tr>\n",
       "  <th>TotalVisits</th>                              <td>   18.7577</td> <td>    5.705</td> <td>    3.288</td> <td> 0.001</td> <td>    7.576</td> <td>   29.939</td>\n",
       "</tr>\n",
       "<tr>\n",
       "  <th>Total Time Spent on Website</th>              <td>    3.8422</td> <td>    0.358</td> <td>   10.726</td> <td> 0.000</td> <td>    3.140</td> <td>    4.544</td>\n",
       "</tr>\n",
       "<tr>\n",
       "  <th>Last Activity_SMS Sent</th>                   <td>    0.8619</td> <td>    0.198</td> <td>    4.343</td> <td> 0.000</td> <td>    0.473</td> <td>    1.251</td>\n",
       "</tr>\n",
       "<tr>\n",
       "  <th>What is your current occupation_others</th>   <td>    0.6564</td> <td>    0.307</td> <td>    2.140</td> <td> 0.032</td> <td>    0.055</td> <td>    1.258</td>\n",
       "</tr>\n",
       "<tr>\n",
       "  <th>Last Notable Activity_Modified</th>           <td>   -0.2161</td> <td>    0.200</td> <td>   -1.083</td> <td> 0.279</td> <td>   -0.607</td> <td>    0.175</td>\n",
       "</tr>\n",
       "<tr>\n",
       "  <th>Tags_Busy</th>                                <td>    1.9080</td> <td>    0.274</td> <td>    6.973</td> <td> 0.000</td> <td>    1.372</td> <td>    2.444</td>\n",
       "</tr>\n",
       "<tr>\n",
       "  <th>Tags_Closed by Horizzon</th>                  <td>    6.4897</td> <td>    1.023</td> <td>    6.346</td> <td> 0.000</td> <td>    4.485</td> <td>    8.494</td>\n",
       "</tr>\n",
       "<tr>\n",
       "  <th>Tags_Interested in other courses</th>         <td>   -2.6539</td> <td>    0.733</td> <td>   -3.618</td> <td> 0.000</td> <td>   -4.091</td> <td>   -1.216</td>\n",
       "</tr>\n",
       "<tr>\n",
       "  <th>Tags_Ringing</th>                             <td>   -1.9031</td> <td>    0.283</td> <td>   -6.727</td> <td> 0.000</td> <td>   -2.458</td> <td>   -1.349</td>\n",
       "</tr>\n",
       "<tr>\n",
       "  <th>Tags_Will revert after reading the email</th> <td>    4.9572</td> <td>    0.242</td> <td>   20.524</td> <td> 0.000</td> <td>    4.484</td> <td>    5.431</td>\n",
       "</tr>\n",
       "<tr>\n",
       "  <th>Tags_switched off</th>                        <td>   -2.2424</td> <td>    0.617</td> <td>   -3.634</td> <td> 0.000</td> <td>   -3.452</td> <td>   -1.033</td>\n",
       "</tr>\n",
       "</table>"
      ],
      "text/latex": [
       "\\begin{center}\n",
       "\\begin{tabular}{lclc}\n",
       "\\toprule\n",
       "\\textbf{Dep. Variable:}                            &    Converted     & \\textbf{  No. Observations:  } &     2900    \\\\\n",
       "\\textbf{Model:}                                    &      Logit       & \\textbf{  Df Residuals:      } &     2887    \\\\\n",
       "\\textbf{Method:}                                   &       MLE        & \\textbf{  Df Model:          } &       12    \\\\\n",
       "\\textbf{Date:}                                     & Mon, 19 Feb 2024 & \\textbf{  Pseudo R-squ.:     } &   0.7597    \\\\\n",
       "\\textbf{Time:}                                     &     17:18:30     & \\textbf{  Log-Likelihood:    } &   -479.22   \\\\\n",
       "\\textbf{converged:}                                &       True       & \\textbf{  LL-Null:           } &   -1994.0   \\\\\n",
       "\\textbf{Covariance Type:}                          &    nonrobust     & \\textbf{  LLR p-value:       } &    0.000    \\\\\n",
       "\\bottomrule\n",
       "\\end{tabular}\n",
       "\\begin{tabular}{lcccccc}\n",
       "                                                   & \\textbf{coef} & \\textbf{std err} & \\textbf{z} & \\textbf{P$> |$z$|$} & \\textbf{[0.025} & \\textbf{0.975]}  \\\\\n",
       "\\midrule\n",
       "\\textbf{const}                                     &      -3.3954  &        0.243     &   -13.949  &         0.000        &       -3.872    &       -2.918     \\\\\n",
       "\\textbf{Do Not Email}                              &      -1.4826  &        0.403     &    -3.679  &         0.000        &       -2.272    &       -0.693     \\\\\n",
       "\\textbf{TotalVisits}                               &      18.7577  &        5.705     &     3.288  &         0.001        &        7.576    &       29.939     \\\\\n",
       "\\textbf{Total Time Spent on Website}               &       3.8422  &        0.358     &    10.726  &         0.000        &        3.140    &        4.544     \\\\\n",
       "\\textbf{Last Activity\\_SMS Sent}                   &       0.8619  &        0.198     &     4.343  &         0.000        &        0.473    &        1.251     \\\\\n",
       "\\textbf{What is your current occupation\\_others}   &       0.6564  &        0.307     &     2.140  &         0.032        &        0.055    &        1.258     \\\\\n",
       "\\textbf{Last Notable Activity\\_Modified}           &      -0.2161  &        0.200     &    -1.083  &         0.279        &       -0.607    &        0.175     \\\\\n",
       "\\textbf{Tags\\_Busy}                                &       1.9080  &        0.274     &     6.973  &         0.000        &        1.372    &        2.444     \\\\\n",
       "\\textbf{Tags\\_Closed by Horizzon}                  &       6.4897  &        1.023     &     6.346  &         0.000        &        4.485    &        8.494     \\\\\n",
       "\\textbf{Tags\\_Interested in other courses}         &      -2.6539  &        0.733     &    -3.618  &         0.000        &       -4.091    &       -1.216     \\\\\n",
       "\\textbf{Tags\\_Ringing}                             &      -1.9031  &        0.283     &    -6.727  &         0.000        &       -2.458    &       -1.349     \\\\\n",
       "\\textbf{Tags\\_Will revert after reading the email} &       4.9572  &        0.242     &    20.524  &         0.000        &        4.484    &        5.431     \\\\\n",
       "\\textbf{Tags\\_switched off}                        &      -2.2424  &        0.617     &    -3.634  &         0.000        &       -3.452    &       -1.033     \\\\\n",
       "\\bottomrule\n",
       "\\end{tabular}\n",
       "%\\caption{Logit Regression Results}\n",
       "\\end{center}"
      ],
      "text/plain": [
       "<class 'statsmodels.iolib.summary.Summary'>\n",
       "\"\"\"\n",
       "                           Logit Regression Results                           \n",
       "==============================================================================\n",
       "Dep. Variable:              Converted   No. Observations:                 2900\n",
       "Model:                          Logit   Df Residuals:                     2887\n",
       "Method:                           MLE   Df Model:                           12\n",
       "Date:                Mon, 19 Feb 2024   Pseudo R-squ.:                  0.7597\n",
       "Time:                        17:18:30   Log-Likelihood:                -479.22\n",
       "converged:                       True   LL-Null:                       -1994.0\n",
       "Covariance Type:            nonrobust   LLR p-value:                     0.000\n",
       "============================================================================================================\n",
       "                                               coef    std err          z      P>|z|      [0.025      0.975]\n",
       "------------------------------------------------------------------------------------------------------------\n",
       "const                                       -3.3954      0.243    -13.949      0.000      -3.872      -2.918\n",
       "Do Not Email                                -1.4826      0.403     -3.679      0.000      -2.272      -0.693\n",
       "TotalVisits                                 18.7577      5.705      3.288      0.001       7.576      29.939\n",
       "Total Time Spent on Website                  3.8422      0.358     10.726      0.000       3.140       4.544\n",
       "Last Activity_SMS Sent                       0.8619      0.198      4.343      0.000       0.473       1.251\n",
       "What is your current occupation_others       0.6564      0.307      2.140      0.032       0.055       1.258\n",
       "Last Notable Activity_Modified              -0.2161      0.200     -1.083      0.279      -0.607       0.175\n",
       "Tags_Busy                                    1.9080      0.274      6.973      0.000       1.372       2.444\n",
       "Tags_Closed by Horizzon                      6.4897      1.023      6.346      0.000       4.485       8.494\n",
       "Tags_Interested in other courses            -2.6539      0.733     -3.618      0.000      -4.091      -1.216\n",
       "Tags_Ringing                                -1.9031      0.283     -6.727      0.000      -2.458      -1.349\n",
       "Tags_Will revert after reading the email     4.9572      0.242     20.524      0.000       4.484       5.431\n",
       "Tags_switched off                           -2.2424      0.617     -3.634      0.000      -3.452      -1.033\n",
       "============================================================================================================\n",
       "\"\"\""
      ]
     },
     "execution_count": 183,
     "metadata": {},
     "output_type": "execute_result"
    }
   ],
   "source": [
    "X_train_new.drop(['Lead Source_others'],axis=1, inplace=True)\n",
    "lm = build_model(X_train_new, y_train)\n",
    "lm.summary()"
   ]
  },
  {
   "cell_type": "code",
   "execution_count": 184,
   "metadata": {},
   "outputs": [
    {
     "name": "stderr",
     "output_type": "stream",
     "text": [
      "/var/folders/gn/_m6452xj7mg0cf7j0dvwvlgw0000gn/T/ipykernel_83894/2493671648.py:1: SettingWithCopyWarning: \n",
      "A value is trying to be set on a copy of a slice from a DataFrame\n",
      "\n",
      "See the caveats in the documentation: https://pandas.pydata.org/pandas-docs/stable/user_guide/indexing.html#returning-a-view-versus-a-copy\n",
      "  X_train_new.drop(['Last Notable Activity_Modified'],axis=1, inplace=True)\n"
     ]
    },
    {
     "name": "stdout",
     "output_type": "stream",
     "text": [
      "Optimization terminated successfully.\n",
      "         Current function value: 0.165450\n",
      "         Iterations 9\n"
     ]
    },
    {
     "data": {
      "text/html": [
       "<table class=\"simpletable\">\n",
       "<caption>Logit Regression Results</caption>\n",
       "<tr>\n",
       "  <th>Dep. Variable:</th>       <td>Converted</td>    <th>  No. Observations:  </th>  <td>  2900</td> \n",
       "</tr>\n",
       "<tr>\n",
       "  <th>Model:</th>                 <td>Logit</td>      <th>  Df Residuals:      </th>  <td>  2888</td> \n",
       "</tr>\n",
       "<tr>\n",
       "  <th>Method:</th>                 <td>MLE</td>       <th>  Df Model:          </th>  <td>    11</td> \n",
       "</tr>\n",
       "<tr>\n",
       "  <th>Date:</th>            <td>Mon, 19 Feb 2024</td> <th>  Pseudo R-squ.:     </th>  <td>0.7594</td> \n",
       "</tr>\n",
       "<tr>\n",
       "  <th>Time:</th>                <td>17:18:30</td>     <th>  Log-Likelihood:    </th> <td> -479.81</td>\n",
       "</tr>\n",
       "<tr>\n",
       "  <th>converged:</th>             <td>True</td>       <th>  LL-Null:           </th> <td> -1994.0</td>\n",
       "</tr>\n",
       "<tr>\n",
       "  <th>Covariance Type:</th>     <td>nonrobust</td>    <th>  LLR p-value:       </th>  <td> 0.000</td> \n",
       "</tr>\n",
       "</table>\n",
       "<table class=\"simpletable\">\n",
       "<tr>\n",
       "                      <td></td>                        <th>coef</th>     <th>std err</th>      <th>z</th>      <th>P>|z|</th>  <th>[0.025</th>    <th>0.975]</th>  \n",
       "</tr>\n",
       "<tr>\n",
       "  <th>const</th>                                    <td>   -3.4960</td> <td>    0.227</td> <td>  -15.434</td> <td> 0.000</td> <td>   -3.940</td> <td>   -3.052</td>\n",
       "</tr>\n",
       "<tr>\n",
       "  <th>Do Not Email</th>                             <td>   -1.5015</td> <td>    0.402</td> <td>   -3.734</td> <td> 0.000</td> <td>   -2.290</td> <td>   -0.713</td>\n",
       "</tr>\n",
       "<tr>\n",
       "  <th>TotalVisits</th>                              <td>   19.1470</td> <td>    5.692</td> <td>    3.364</td> <td> 0.001</td> <td>    7.992</td> <td>   30.302</td>\n",
       "</tr>\n",
       "<tr>\n",
       "  <th>Total Time Spent on Website</th>              <td>    3.8275</td> <td>    0.357</td> <td>   10.707</td> <td> 0.000</td> <td>    3.127</td> <td>    4.528</td>\n",
       "</tr>\n",
       "<tr>\n",
       "  <th>Last Activity_SMS Sent</th>                   <td>    0.8732</td> <td>    0.198</td> <td>    4.416</td> <td> 0.000</td> <td>    0.486</td> <td>    1.261</td>\n",
       "</tr>\n",
       "<tr>\n",
       "  <th>What is your current occupation_others</th>   <td>    0.6588</td> <td>    0.307</td> <td>    2.146</td> <td> 0.032</td> <td>    0.057</td> <td>    1.261</td>\n",
       "</tr>\n",
       "<tr>\n",
       "  <th>Tags_Busy</th>                                <td>    1.9560</td> <td>    0.271</td> <td>    7.217</td> <td> 0.000</td> <td>    1.425</td> <td>    2.487</td>\n",
       "</tr>\n",
       "<tr>\n",
       "  <th>Tags_Closed by Horizzon</th>                  <td>    6.4626</td> <td>    1.022</td> <td>    6.322</td> <td> 0.000</td> <td>    4.459</td> <td>    8.466</td>\n",
       "</tr>\n",
       "<tr>\n",
       "  <th>Tags_Interested in other courses</th>         <td>   -2.6819</td> <td>    0.733</td> <td>   -3.659</td> <td> 0.000</td> <td>   -4.118</td> <td>   -1.245</td>\n",
       "</tr>\n",
       "<tr>\n",
       "  <th>Tags_Ringing</th>                             <td>   -1.8438</td> <td>    0.277</td> <td>   -6.652</td> <td> 0.000</td> <td>   -2.387</td> <td>   -1.301</td>\n",
       "</tr>\n",
       "<tr>\n",
       "  <th>Tags_Will revert after reading the email</th> <td>    5.0085</td> <td>    0.238</td> <td>   21.065</td> <td> 0.000</td> <td>    4.542</td> <td>    5.474</td>\n",
       "</tr>\n",
       "<tr>\n",
       "  <th>Tags_switched off</th>                        <td>   -2.1975</td> <td>    0.617</td> <td>   -3.564</td> <td> 0.000</td> <td>   -3.406</td> <td>   -0.989</td>\n",
       "</tr>\n",
       "</table>"
      ],
      "text/latex": [
       "\\begin{center}\n",
       "\\begin{tabular}{lclc}\n",
       "\\toprule\n",
       "\\textbf{Dep. Variable:}                            &    Converted     & \\textbf{  No. Observations:  } &     2900    \\\\\n",
       "\\textbf{Model:}                                    &      Logit       & \\textbf{  Df Residuals:      } &     2888    \\\\\n",
       "\\textbf{Method:}                                   &       MLE        & \\textbf{  Df Model:          } &       11    \\\\\n",
       "\\textbf{Date:}                                     & Mon, 19 Feb 2024 & \\textbf{  Pseudo R-squ.:     } &   0.7594    \\\\\n",
       "\\textbf{Time:}                                     &     17:18:30     & \\textbf{  Log-Likelihood:    } &   -479.81   \\\\\n",
       "\\textbf{converged:}                                &       True       & \\textbf{  LL-Null:           } &   -1994.0   \\\\\n",
       "\\textbf{Covariance Type:}                          &    nonrobust     & \\textbf{  LLR p-value:       } &    0.000    \\\\\n",
       "\\bottomrule\n",
       "\\end{tabular}\n",
       "\\begin{tabular}{lcccccc}\n",
       "                                                   & \\textbf{coef} & \\textbf{std err} & \\textbf{z} & \\textbf{P$> |$z$|$} & \\textbf{[0.025} & \\textbf{0.975]}  \\\\\n",
       "\\midrule\n",
       "\\textbf{const}                                     &      -3.4960  &        0.227     &   -15.434  &         0.000        &       -3.940    &       -3.052     \\\\\n",
       "\\textbf{Do Not Email}                              &      -1.5015  &        0.402     &    -3.734  &         0.000        &       -2.290    &       -0.713     \\\\\n",
       "\\textbf{TotalVisits}                               &      19.1470  &        5.692     &     3.364  &         0.001        &        7.992    &       30.302     \\\\\n",
       "\\textbf{Total Time Spent on Website}               &       3.8275  &        0.357     &    10.707  &         0.000        &        3.127    &        4.528     \\\\\n",
       "\\textbf{Last Activity\\_SMS Sent}                   &       0.8732  &        0.198     &     4.416  &         0.000        &        0.486    &        1.261     \\\\\n",
       "\\textbf{What is your current occupation\\_others}   &       0.6588  &        0.307     &     2.146  &         0.032        &        0.057    &        1.261     \\\\\n",
       "\\textbf{Tags\\_Busy}                                &       1.9560  &        0.271     &     7.217  &         0.000        &        1.425    &        2.487     \\\\\n",
       "\\textbf{Tags\\_Closed by Horizzon}                  &       6.4626  &        1.022     &     6.322  &         0.000        &        4.459    &        8.466     \\\\\n",
       "\\textbf{Tags\\_Interested in other courses}         &      -2.6819  &        0.733     &    -3.659  &         0.000        &       -4.118    &       -1.245     \\\\\n",
       "\\textbf{Tags\\_Ringing}                             &      -1.8438  &        0.277     &    -6.652  &         0.000        &       -2.387    &       -1.301     \\\\\n",
       "\\textbf{Tags\\_Will revert after reading the email} &       5.0085  &        0.238     &    21.065  &         0.000        &        4.542    &        5.474     \\\\\n",
       "\\textbf{Tags\\_switched off}                        &      -2.1975  &        0.617     &    -3.564  &         0.000        &       -3.406    &       -0.989     \\\\\n",
       "\\bottomrule\n",
       "\\end{tabular}\n",
       "%\\caption{Logit Regression Results}\n",
       "\\end{center}"
      ],
      "text/plain": [
       "<class 'statsmodels.iolib.summary.Summary'>\n",
       "\"\"\"\n",
       "                           Logit Regression Results                           \n",
       "==============================================================================\n",
       "Dep. Variable:              Converted   No. Observations:                 2900\n",
       "Model:                          Logit   Df Residuals:                     2888\n",
       "Method:                           MLE   Df Model:                           11\n",
       "Date:                Mon, 19 Feb 2024   Pseudo R-squ.:                  0.7594\n",
       "Time:                        17:18:30   Log-Likelihood:                -479.81\n",
       "converged:                       True   LL-Null:                       -1994.0\n",
       "Covariance Type:            nonrobust   LLR p-value:                     0.000\n",
       "============================================================================================================\n",
       "                                               coef    std err          z      P>|z|      [0.025      0.975]\n",
       "------------------------------------------------------------------------------------------------------------\n",
       "const                                       -3.4960      0.227    -15.434      0.000      -3.940      -3.052\n",
       "Do Not Email                                -1.5015      0.402     -3.734      0.000      -2.290      -0.713\n",
       "TotalVisits                                 19.1470      5.692      3.364      0.001       7.992      30.302\n",
       "Total Time Spent on Website                  3.8275      0.357     10.707      0.000       3.127       4.528\n",
       "Last Activity_SMS Sent                       0.8732      0.198      4.416      0.000       0.486       1.261\n",
       "What is your current occupation_others       0.6588      0.307      2.146      0.032       0.057       1.261\n",
       "Tags_Busy                                    1.9560      0.271      7.217      0.000       1.425       2.487\n",
       "Tags_Closed by Horizzon                      6.4626      1.022      6.322      0.000       4.459       8.466\n",
       "Tags_Interested in other courses            -2.6819      0.733     -3.659      0.000      -4.118      -1.245\n",
       "Tags_Ringing                                -1.8438      0.277     -6.652      0.000      -2.387      -1.301\n",
       "Tags_Will revert after reading the email     5.0085      0.238     21.065      0.000       4.542       5.474\n",
       "Tags_switched off                           -2.1975      0.617     -3.564      0.000      -3.406      -0.989\n",
       "============================================================================================================\n",
       "\"\"\""
      ]
     },
     "execution_count": 184,
     "metadata": {},
     "output_type": "execute_result"
    }
   ],
   "source": [
    "X_train_new.drop(['Last Notable Activity_Modified'],axis=1, inplace=True)\n",
    "lm = build_model(X_train_new, y_train)\n",
    "lm.summary()"
   ]
  },
  {
   "cell_type": "code",
   "execution_count": null,
   "metadata": {},
   "outputs": [],
   "source": []
  },
  {
   "cell_type": "code",
   "execution_count": null,
   "metadata": {},
   "outputs": [],
   "source": []
  },
  {
   "cell_type": "markdown",
   "metadata": {
    "jp-MarkdownHeadingCollapsed": true
   },
   "source": [
    "### Checking VIF"
   ]
  },
  {
   "cell_type": "code",
   "execution_count": null,
   "metadata": {},
   "outputs": [],
   "source": []
  },
  {
   "cell_type": "code",
   "execution_count": 185,
   "metadata": {},
   "outputs": [
    {
     "data": {
      "text/html": [
       "<div>\n",
       "<style scoped>\n",
       "    .dataframe tbody tr th:only-of-type {\n",
       "        vertical-align: middle;\n",
       "    }\n",
       "\n",
       "    .dataframe tbody tr th {\n",
       "        vertical-align: top;\n",
       "    }\n",
       "\n",
       "    .dataframe thead th {\n",
       "        text-align: right;\n",
       "    }\n",
       "</style>\n",
       "<table border=\"1\" class=\"dataframe\">\n",
       "  <thead>\n",
       "    <tr style=\"text-align: right;\">\n",
       "      <th></th>\n",
       "      <th>Features</th>\n",
       "      <th>VIF</th>\n",
       "    </tr>\n",
       "  </thead>\n",
       "  <tbody>\n",
       "    <tr>\n",
       "      <th>9</th>\n",
       "      <td>Tags_Will revert after reading the email</td>\n",
       "      <td>2.70</td>\n",
       "    </tr>\n",
       "    <tr>\n",
       "      <th>2</th>\n",
       "      <td>Total Time Spent on Website</td>\n",
       "      <td>2.63</td>\n",
       "    </tr>\n",
       "    <tr>\n",
       "      <th>3</th>\n",
       "      <td>Last Activity_SMS Sent</td>\n",
       "      <td>1.72</td>\n",
       "    </tr>\n",
       "    <tr>\n",
       "      <th>1</th>\n",
       "      <td>TotalVisits</td>\n",
       "      <td>1.57</td>\n",
       "    </tr>\n",
       "    <tr>\n",
       "      <th>8</th>\n",
       "      <td>Tags_Ringing</td>\n",
       "      <td>1.39</td>\n",
       "    </tr>\n",
       "    <tr>\n",
       "      <th>4</th>\n",
       "      <td>What is your current occupation_others</td>\n",
       "      <td>1.32</td>\n",
       "    </tr>\n",
       "    <tr>\n",
       "      <th>6</th>\n",
       "      <td>Tags_Closed by Horizzon</td>\n",
       "      <td>1.19</td>\n",
       "    </tr>\n",
       "    <tr>\n",
       "      <th>5</th>\n",
       "      <td>Tags_Busy</td>\n",
       "      <td>1.15</td>\n",
       "    </tr>\n",
       "    <tr>\n",
       "      <th>7</th>\n",
       "      <td>Tags_Interested in other courses</td>\n",
       "      <td>1.10</td>\n",
       "    </tr>\n",
       "    <tr>\n",
       "      <th>10</th>\n",
       "      <td>Tags_switched off</td>\n",
       "      <td>1.10</td>\n",
       "    </tr>\n",
       "    <tr>\n",
       "      <th>0</th>\n",
       "      <td>Do Not Email</td>\n",
       "      <td>1.07</td>\n",
       "    </tr>\n",
       "  </tbody>\n",
       "</table>\n",
       "</div>"
      ],
      "text/plain": [
       "                                    Features   VIF\n",
       "9   Tags_Will revert after reading the email  2.70\n",
       "2                Total Time Spent on Website  2.63\n",
       "3                     Last Activity_SMS Sent  1.72\n",
       "1                                TotalVisits  1.57\n",
       "8                               Tags_Ringing  1.39\n",
       "4     What is your current occupation_others  1.32\n",
       "6                    Tags_Closed by Horizzon  1.19\n",
       "5                                  Tags_Busy  1.15\n",
       "7           Tags_Interested in other courses  1.10\n",
       "10                         Tags_switched off  1.10\n",
       "0                               Do Not Email  1.07"
      ]
     },
     "execution_count": 185,
     "metadata": {},
     "output_type": "execute_result"
    }
   ],
   "source": [
    "check_VIF(X_train_new)"
   ]
  },
  {
   "cell_type": "markdown",
   "metadata": {},
   "source": [
    "Stop iteration since all VIF are below 5. This is the final model"
   ]
  },
  {
   "cell_type": "markdown",
   "metadata": {},
   "source": [
    "### Predictions"
   ]
  },
  {
   "cell_type": "code",
   "execution_count": 186,
   "metadata": {},
   "outputs": [],
   "source": [
    "X_test = sm.add_constant(df_test)\n",
    "\n",
    "X_test = X_test[lm.model.exog_names]\n",
    "\n",
    "y_test_pred = lm.predict(X_test)\n",
    "y_train_pred = lm.predict(sm.add_constant(X_train_new))"
   ]
  },
  {
   "cell_type": "code",
   "execution_count": 187,
   "metadata": {},
   "outputs": [],
   "source": [
    "# These y_train_pred and y_test_pred values are essentially probability of lead conversion."
   ]
  },
  {
   "cell_type": "code",
   "execution_count": 188,
   "metadata": {},
   "outputs": [
    {
     "name": "stdout",
     "output_type": "stream",
     "text": [
      "              precision    recall  f1-score   support\n",
      "\n",
      "           0       0.94      0.96      0.95      1603\n",
      "           1       0.95      0.92      0.94      1297\n",
      "\n",
      "    accuracy                           0.94      2900\n",
      "   macro avg       0.94      0.94      0.94      2900\n",
      "weighted avg       0.94      0.94      0.94      2900\n",
      "\n",
      "              precision    recall  f1-score   support\n",
      "\n",
      "           0       0.92      0.95      0.93       395\n",
      "           1       0.94      0.90      0.92       330\n",
      "\n",
      "    accuracy                           0.93       725\n",
      "   macro avg       0.93      0.92      0.93       725\n",
      "weighted avg       0.93      0.93      0.93       725\n",
      "\n"
     ]
    }
   ],
   "source": [
    "print(classification_report(y_train, (y_train_pred > 0.5)))\n",
    "print(classification_report(y_test, (y_test_pred > 0.5)))"
   ]
  },
  {
   "cell_type": "markdown",
   "metadata": {},
   "source": []
  },
  {
   "cell_type": "code",
   "execution_count": null,
   "metadata": {},
   "outputs": [],
   "source": []
  }
 ],
 "metadata": {
  "kernelspec": {
   "display_name": "Python 3 (ipykernel)",
   "language": "python",
   "name": "python3"
  },
  "language_info": {
   "codemirror_mode": {
    "name": "ipython",
    "version": 3
   },
   "file_extension": ".py",
   "mimetype": "text/x-python",
   "name": "python",
   "nbconvert_exporter": "python",
   "pygments_lexer": "ipython3",
   "version": "3.10.12"
  }
 },
 "nbformat": 4,
 "nbformat_minor": 4
}
